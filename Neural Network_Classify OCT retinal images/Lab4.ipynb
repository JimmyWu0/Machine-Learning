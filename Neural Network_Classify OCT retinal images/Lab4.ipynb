{
  "cells": [
    {
      "cell_type": "markdown",
      "metadata": {
        "id": "JQAqOS2xwiYG"
      },
      "source": [
        "Mount Google Drive (optional)"
      ]
    },
    {
      "cell_type": "code",
      "execution_count": 3,
      "metadata": {
        "id": "dA4DURCWwvWU",
        "colab": {
          "base_uri": "https://localhost:8080/"
        },
        "outputId": "58f04ba1-83c7-494d-9e7c-1c1b095c320c"
      },
      "outputs": [
        {
          "output_type": "stream",
          "name": "stdout",
          "text": [
            "Drive already mounted at /content/drive; to attempt to forcibly remount, call drive.mount(\"/content/drive\", force_remount=True).\n"
          ]
        }
      ],
      "source": [
        "from google.colab import drive\n",
        "drive.mount('/content/drive')"
      ]
    },
    {
      "cell_type": "markdown",
      "metadata": {
        "id": "IagZMs0_qjdL"
      },
      "source": [
        "# **Lab 4 : Neural Network**\n",
        "\n",
        "In *lab 4*, you need to finish:\n",
        "\n",
        "1. Basic Part (65%):\n",
        "  Implement a deep neural network from scratch\n",
        "\n",
        "  > * Section 1: Neural network implementation\n",
        "    >> * Part 1: Linear layer\n",
        "    >> * Part 2: Activation function layer\n",
        "    >> * Part 3: Build model\n",
        "\n",
        "  > * Section 2: Loss function\n",
        "    >> * Part 1: Binary cross-entropy loss (BCE)\n",
        "    >> * Part 2: Categorical cross-entropy loss (CCE)\n",
        "    >> * Part 3: Mean square error (MSE)\n",
        "  > * Section 3: Training and prediction\n",
        "    >> * Part 1: Training function & batch function\n",
        "    >> * Part 2: Regression\n",
        "    >> * Part 3: Binary classification\n",
        "\n",
        "\n",
        "2. Advanced Part (30%): Multi class classification\n",
        "3. Report (5%)\n"
      ]
    },
    {
      "cell_type": "markdown",
      "metadata": {
        "id": "yGFR00CQvoaH"
      },
      "source": [
        "## **Important  notice**\n",
        "\n",
        "* Please **do not** change the code outside this code bracket in the basic part.\n",
        "  ```\n",
        "  ### START CODE HERE ###\n",
        "  ...\n",
        "  ### END CODE HERE ###\n",
        "  ```\n",
        "\n",
        "* Please **do not** import any other packages in both basic and advanced part\n",
        "\n",
        "* Please **do not** change the random seed **np.random.seed(1)**.\n"
      ]
    },
    {
      "cell_type": "markdown",
      "metadata": {
        "id": "1BgcgLVV79Bm"
      },
      "source": [
        "## Import Packages\n"
      ]
    },
    {
      "cell_type": "code",
      "execution_count": 4,
      "metadata": {
        "id": "fmTH9UkeqdYf"
      },
      "outputs": [],
      "source": [
        "import numpy as np\n",
        "import pandas as pd\n",
        "import matplotlib.pyplot as plt\n",
        "import math\n",
        "from sklearn.metrics import f1_score\n",
        "from matplotlib.animation import FuncAnimation\n",
        "\n",
        "outputs = {}"
      ]
    },
    {
      "cell_type": "markdown",
      "metadata": {
        "id": "tO31dEFx-C1y"
      },
      "source": [
        "### Common Notation\n",
        "  * $C$: number of classes\n",
        "  * $n$: number of samples\n",
        "  * $f^{[l]}$: the dimension of outputs in layer $l$, but $f^{[0]}$ is the input dimension\n",
        "  * $Z^{[l]} = A^{[l-1]}W^{[l]} + b^{[l]}$\n",
        "      * $Z^{[l]}$: the output of layer $l$ in the shape $(n, f^{[l]})$\n",
        "      * $A^{[l]}$: the activation of $Z^{[l]}$ in the shape $(n, f^{[l]})$, but $A^{[0]}$ is input $X$\n",
        "      * $W^{[l]}$: the weight in layer $l$ in the shape $(f^{[l-1]}, f^{[l]})$\n",
        "      * $b^{[l]}$: the bias in layer $l$ in the shape $(1, f^{[l]})$\n"
      ]
    },
    {
      "cell_type": "markdown",
      "metadata": {
        "id": "5wE5z0w8FQLK"
      },
      "source": [
        "# **Basic Part (65%)**\n",
        "In the Basic Part, you will implement a neural network framework capable of handling both regression, binary classification and multi-class classification tasks.\n",
        "\n",
        "**Note:**\n",
        "After implementing each class/function, test it with the provided input variables to verify its correctness. Save the results in the **outputs** dictionary. (The code for testing and saving results is already provided.)\n",
        "## Section 1: Neural network implementation\n",
        "* Part 1: Linear layer\n",
        "> * Step 1: Linear Initialize parameters\n",
        "> * Step 2: Linear forward\n",
        "> * Step 3: Linear backward\n",
        "> * Step 4: Linear update parameters\n",
        "* Part 2: Activation function layer\n",
        "> * Step 1: Activation forward\n",
        "> * Step 2: Activation backward\n",
        "* Part 3: Build model\n",
        "> * Step 1: Model Initialize parameters\n",
        "> * Step 2: Model forward\n",
        "> * Step 3: Model backward\n",
        "> * Step 4: Model update parameters\n",
        "\n",
        "## Section 2: Loss function\n",
        "* Part 1: Binary cross-entropy loss (BCE)\n",
        "* Part 2: Categorical cross-entropy loss (CCE)\n",
        "* Part 3: Mean square error (MSE)\n",
        "\n",
        "## Section 3: Training and prediction\n",
        "* Part 1: Training function & batch function\n",
        "* Part 2: Regression\n",
        "* Part 3: Binary classification\n"
      ]
    },
    {
      "cell_type": "markdown",
      "metadata": {
        "id": "w35ZkTwMc00G"
      },
      "source": [
        "## **Section 1: Neural network implementation(30%)**\n",
        "To implement a neural network, you need to complete 3 classes: **Dense**, **Activation**, and **Model**.\n",
        "The process of training a deep neural network is composed of 3 steps: *forward propagation*, *backward propagation*, and *update*."
      ]
    },
    {
      "cell_type": "markdown",
      "metadata": {
        "id": "P_krGKUNg_Ix"
      },
      "source": [
        "## Part 1: Linear layer (10%)\n",
        "Dense layer (fully-connected layer) performs linear transformation:\n",
        "\n",
        "$Z = AW + b$, where W is weight matrix and b is bias vector.\n",
        "\n",
        "> ### Step 1: Initialize parameters (0%)\n",
        " * You don't need to write this part.\n",
        " * W is randomly initialized using uniform distribution within $[\\text\\{-limit\\}, \\text\\{limit\\}]$, where $\\text\\{limit\\} = \\sqrt{\\frac{6}{\\text\\{fanin\\} + \\text\\{fanout\\}}}$ (fanin: number of input features, fanout: number of output features)\n",
        " * b is initialized to 0\n",
        "\n",
        "> ### Step 2: Linear forward (4%)\n",
        "* Compute Z using matrix multiplication and addition\n",
        "\n",
        "> ### Step 3: Linear backward (4%)\n",
        "* Use backpropagation to compute gradients of loss function with respect to parameters\n",
        "* For layer l: $Z^{[l]} = A^{[l-1]} W^{[l]} + b^{[l]}$ (followed by activation)\n",
        "* Given $dZ^{[l]}$ (gradient of loss with respect to Z), we need to compute three gradients:\n",
        "  * $dW^{[l]}$: gradient of loss with respect to weights\n",
        "  * $db^{[l]}$: gradient of loss with respect to bias\n",
        "  * $dA^{[l-1]}$: gradient of loss with respect to previous layer output\n",
        "\n",
        "> Formulas:\n",
        "$$ dW^{[l]} = \\frac{1}{n} A^{[l-1] T} dZ^{[l]} $$\n",
        "$$ db^{[l]} = \\frac{1}{n} \\sum_{i = 1}^{n} dZ_i^{[l]} $$\n",
        "$$ dA^{[l-1]} = dZ^{[l]} W^{[l] T} $$\n",
        "\n",
        "> ### Step 4: Linear update parameters (2%)\n",
        "* Update parameters using gradient descent:\n",
        "$$ W^{[l]} = W^{[l]} - \\alpha \\text{ } dW^{[l]} $$\n",
        "$$ b^{[l]} = b^{[l]} - \\alpha \\text{ } db^{[l]} $$"
      ]
    },
    {
      "cell_type": "code",
      "execution_count": 5,
      "metadata": {
        "id": "x0KHo8w9yqbY"
      },
      "outputs": [],
      "source": [
        "class Dense():\n",
        "    def __init__(self, n_x, n_y, seed=1):\n",
        "        self.n_x = n_x\n",
        "        self.n_y = n_y\n",
        "        self.seed = seed\n",
        "        self.initialize_parameters()\n",
        "\n",
        "    def initialize_parameters(self):\n",
        "        \"\"\"\n",
        "        Argument:\n",
        "        self.n_x -- size of the input layer\n",
        "        self.n_y -- size of the output layer\n",
        "        self.parameters -- python dictionary containing your parameters:\n",
        "                           W -- weight matrix of shape (n_x, n_y)\n",
        "                           b -- bias vector of shape (1, n_y)\n",
        "        \"\"\"\n",
        "        sd = np.sqrt(6.0 / (self.n_x + self.n_y))\n",
        "        np.random.seed(self.seed)\n",
        "        W = np.random.uniform(-sd, sd, (self.n_y, self.n_x)).T      # the transpose here is just for the code to be compatible with the old codes\n",
        "        b = np.zeros((1, self.n_y))\n",
        "\n",
        "        assert(W.shape == (self.n_x, self.n_y))\n",
        "        assert(b.shape == (1, self.n_y))\n",
        "\n",
        "        self.parameters = {\"W\": W, \"b\": b}\n",
        "\n",
        "    def forward(self, A):\n",
        "        \"\"\"\n",
        "        Implement the linear part of a layer's forward propagation.\n",
        "\n",
        "        Arguments:\n",
        "        A -- activations from previous layer (or input data) with the shape (n, f^[l-1])\n",
        "        self.cache -- a python tuple containing \"A\", \"W\" and \"b\" ; stored for computing the backward pass efficiently\n",
        "\n",
        "        Returns:\n",
        "        Z -- the input of the activation function, also called pre-activation parameter with the shape (n, f^[l])\n",
        "        \"\"\"\n",
        "\n",
        "        # GRADED FUNCTION: linear_forward\n",
        "        ### START CODE HERE ###\n",
        "        W = self.parameters[\"W\"]\n",
        "        b = self.parameters[\"b\"]\n",
        "        Z = np.dot(A, W) + b\n",
        "        self.cache = (A, W, b)\n",
        "        # Z = None\n",
        "        # self.cache = None\n",
        "        ### END CODE HERE ###\n",
        "\n",
        "        assert(Z.shape == (A.shape[0], self.parameters[\"W\"].shape[1]))\n",
        "\n",
        "        return Z\n",
        "\n",
        "    def backward(self, dZ):\n",
        "        \"\"\"\n",
        "        Implement the linear portion of backward propagation for a single layer (layer l)\n",
        "\n",
        "        Arguments:\n",
        "        dZ -- Gradient of the loss with respect to the linear output (of current layer l), same shape as Z\n",
        "        self.cache -- tuple of values (A_prev, W, b) coming from the forward propagation in the current layer\n",
        "        self.dW -- Gradient of the loss with respect to W (current layer l), same shape as W\n",
        "        self.db -- Gradient of the loss with respect to b (current layer l), same shape as b\n",
        "\n",
        "        Returns:\n",
        "        dA_prev -- Gradient of the loss with respect to the activation (of the previous layer l-1), same shape as A_prev\n",
        "\n",
        "        \"\"\"\n",
        "        A_prev, W, b = self.cache\n",
        "        m = A_prev.shape[0]\n",
        "\n",
        "        # GRADED FUNCTION: linear_backward\n",
        "        ### START CODE HERE ###\n",
        "        self.dW = (1 / m) * np.dot(A_prev.T, dZ)\n",
        "        self.db = (1 / m) * np.sum(dZ, axis=0, keepdims=True)\n",
        "        dA_prev = np.dot(dZ, W.T)\n",
        "        ### END CODE HERE ###\n",
        "\n",
        "        assert (dA_prev.shape == A_prev.shape)\n",
        "        assert (self.dW.shape == self.parameters[\"W\"].shape)\n",
        "        assert (self.db.shape == self.parameters[\"b\"].shape)\n",
        "\n",
        "        return dA_prev\n",
        "\n",
        "    def update(self, learning_rate):\n",
        "        \"\"\"\n",
        "        Update parameters using gradient descent\n",
        "\n",
        "        Arguments:\n",
        "        learning rate -- step size\n",
        "        \"\"\"\n",
        "\n",
        "        # GRADED FUNCTION: linear_update_parameters\n",
        "        ### START CODE HERE ###\n",
        "        self.parameters[\"W\"] = self.parameters[\"W\"] - learning_rate * self.dW\n",
        "        self.parameters[\"b\"] = self.parameters[\"b\"] - learning_rate * self.db\n",
        "        ### END CODE HERE ###"
      ]
    },
    {
      "cell_type": "markdown",
      "metadata": {
        "id": "XbnVsi6VJMXD"
      },
      "source": [
        "### Test your **Dense class**"
      ]
    },
    {
      "cell_type": "code",
      "execution_count": 6,
      "metadata": {
        "id": "7HNAWwmg8R7T",
        "colab": {
          "base_uri": "https://localhost:8080/"
        },
        "outputId": "f5026f29-5626-4b9e-c9b3-50a6851b2ad7"
      },
      "outputs": [
        {
          "output_type": "stream",
          "name": "stdout",
          "text": [
            "W = [[-0.20325375]\n",
            " [ 0.53968259]\n",
            " [-1.22446471]]\n",
            "b = [[0.]]\n",
            "Z = [[1.9]\n",
            " [2.2]\n",
            " [2.5]]\n",
            "dA_prev = [[3.5]\n",
            " [6. ]]\n",
            "dW = [[1.625 0.625]]\n",
            "db = [[2.   0.75]]\n",
            "W = [[0.5 2.5]]\n",
            "b = [[-1.  2.]]\n"
          ]
        }
      ],
      "source": [
        "# Initial parameters\n",
        "dense = Dense(3, 1)\n",
        "print(\"W = \" + str(dense.parameters[\"W\"]))\n",
        "print(\"b = \" + str(dense.parameters[\"b\"]))\n",
        "\n",
        "# Linear forward\n",
        "A, W, b = np.array([[0., 1., 2.], [0.5, 1.5, 2.5], [1., 2., 3.]]), np.array([[0.1], [0.2], [0.3]]), np.array([[1.1]])\n",
        "dense = Dense(3, 1)\n",
        "dense.parameters = {\"W\": W, \"b\": b}\n",
        "Z = dense.forward(A)\n",
        "print(\"Z = \" + str(Z))\n",
        "\n",
        "A, W, b = np.array([[-0.80,-0.45,-1.11],[-1.65,-2.36,1.14],[-1.02,0.64,-0.86]]), np.array([[0.3], [0.3], [0.1]]), np.array([[-6.2]])\n",
        "dense = Dense(3, 1)\n",
        "dense.parameters = {\"W\": W, \"b\": b}\n",
        "Z = dense.forward(A)\n",
        "outputs[\"dense_forward\"] = (Z, dense.cache)\n",
        "\n",
        "# Linear backward\n",
        "dZ, linear_cache = np.array([[1.5, 0.5], [2.5, 1.]]), (np.array([[0.5], [1]]), np.array([[2., 1.0]]), np.array([[0.5, 1.]]))\n",
        "dense = Dense(1, 2)\n",
        "dense.cache = linear_cache\n",
        "dA_prev = dense.backward(dZ)\n",
        "print (\"dA_prev = \" + str(dA_prev))\n",
        "print (\"dW = \" + str(dense.dW))\n",
        "print (\"db = \" + str(dense.db))\n",
        "\n",
        "dZ, linear_cache = np.array([[0.52,0.34],[0.76,0.89]]), (np.array([[0.42], [0.68]]), np.array([[0.35, 0.89]]), np.array([[0.12, 0.76]]))\n",
        "dense = Dense(1, 2)\n",
        "dense.cache = linear_cache\n",
        "dA_prev = dense.backward(dZ)\n",
        "outputs[\"dense_backward\"] = (dA_prev, dense.dW, dense.db)\n",
        "\n",
        "# Linear update parameters\n",
        "np.random.seed(1)\n",
        "dense = Dense(1, 2)\n",
        "dense.parameters = {\"W\": np.array([[1.0, 2.0]]), \"b\": np.array([[0.5, 0.5]])}\n",
        "dense.dW = np.array([[0.5, -0.5]])\n",
        "dense.db = np.array([[1.5, -1.5]])\n",
        "dense.update(1.0)\n",
        "print(\"W = \" + str(dense.parameters[\"W\"]))\n",
        "print(\"b = \" + str(dense.parameters[\"b\"]))\n",
        "\n",
        "np.random.seed(1)\n",
        "dense = Dense(3, 4)\n",
        "parameters, grads = {\"W1\": np.random.rand(3, 4), \"b1\": np.random.rand(1,4)}, {\"dW1\": np.random.rand(3, 4), \"db1\": np.random.rand(1,4)}\n",
        "dense.parameters = {\"W\": parameters[\"W1\"], \"b\": parameters[\"b1\"]}\n",
        "dense.dW = grads[\"dW1\"]\n",
        "dense.db = grads[\"db1\"]\n",
        "dense.update(0.1)\n",
        "outputs[\"dense_update_parameters\"] = {\"W\": dense.parameters[\"W\"], \"b\": dense.parameters[\"b\"]}"
      ]
    },
    {
      "cell_type": "markdown",
      "metadata": {
        "id": "OtPtH0j3BFN7"
      },
      "source": [
        "Expected output:\n",
        "<table>\n",
        "  <tr>\n",
        "    <td>W: </td>\n",
        "    <td>[[-0.20325375]  [0.53968259 [-1.22446471]]</td>\n",
        "  </tr>\n",
        "  <tr>\n",
        "    <td>b: </td>\n",
        "    <td>[[0.]]</td>\n",
        "  </tr>\n",
        "  <tr>\n",
        "    <td>Z: </td>\n",
        "    <td>[[1.9] [2.2] [2.5]]</td>\n",
        "  </tr>\n",
        "  <tr>\n",
        "    <td>dA_prev: </td>\n",
        "    <td>[[3.5] [6.0]]</td>\n",
        "  </tr>\n",
        "  <tr>\n",
        "    <td>dW: </td>\n",
        "    <td>[[1.625 0.625]]</td>\n",
        "  </tr>\n",
        "  <tr>\n",
        "    <td>db: </td>\n",
        "    <td>[[2.0 0.75]]</td>\n",
        "  </tr>\n",
        "  <tr>\n",
        "    <td>W: </td>\n",
        "    <td>[[0.5 2.5]]</td>\n",
        "  </tr>\n",
        "  <tr>\n",
        "    <td>b: </td>\n",
        "    <td>[[-1.  2.]]</td>\n",
        "  </tr>\n",
        "</table>"
      ]
    },
    {
      "cell_type": "markdown",
      "metadata": {
        "id": "2r5m2W3aXh_A"
      },
      "source": [
        "## Part 2: Activation function layer (10%)\n",
        "\n",
        "Implement forward and backward propagation for activation function layers, including Sigmoid, Softmax, and ReLU.\n",
        "\n",
        "> ### Step 1: Forward Propagation (5%)\n",
        " Implement the following activation functions:\n",
        ">> #### a) Sigmoid\n",
        "- Use the numerically stable version to prevent exponential overflow:\n",
        "  $$\\sigma(Z) = \\begin{cases}\n",
        "    \\frac{1}{1+e^{-Z}},& \\text{if } Z \\geq 0\\\\\n",
        "    \\frac{e^{Z}}{1+e^{Z}}, & \\text{otherwise}\n",
        "  \\end{cases}$$\n",
        "\n",
        ">> #### b) ReLU\n",
        "- Simple implementation:\n",
        "  $$RELU(Z) = \\max(Z, 0)$$\n",
        "\n",
        ">> #### c) Softmax\n",
        "- Implement using the numerically stable version:\n",
        "  $$\\sigma(\\vec{Z})_i = \\frac{e^{Z_i-b}}{\\sum_{j=1}^{C} e^{Z_j-b}}$$\n",
        "  where $b = \\max_{j=1}^{C} Z_j$\n",
        "\n",
        ">> #### d) Linear\n",
        "- You don't need to implement this part\n",
        "\n",
        "> ### Requirements\n",
        "- Each function should return:\n",
        "  1. Activation value \"a\"\n",
        "  2. Cache containing \"z\" for backward propagation\n",
        "\n",
        "> ### Step 2: Backward Propagation (5%)\n",
        "Implement backward functions for:\n",
        "- Sigmoid\n",
        "- ReLU\n",
        "- Softmax\n",
        "- linear\n",
        "\n",
        "> ### General Form\n",
        "$$dZ^{[l]} = dA^{[l]} * g'(Z^{[l]})$$\n",
        "where $g(.)$ is the activation function\n",
        "\n",
        "> ### Specific Implementations\n",
        "\n",
        ">> #### a) Sigmoid Backward\n",
        "$$\\sigma'(Z^{[l]}) = \\sigma(Z^{[l]}) (1 - \\sigma(Z^{[l]}))$$\n",
        "Use numerically stable sigmoid\n",
        "\n",
        ">> #### b) ReLU Backward\n",
        "$$g'(Z^{[l]}) = \\begin{cases}\n",
        "    1,& \\text{if } Z^{[l]} > 0\\\\\n",
        "    0,              & \\text{otherwise}\n",
        "\\end{cases}$$\n",
        "\n",
        ">> #### c) Softmax Backward\n",
        "For the special case of Softmax combined with Categorical Cross-Entropy loss:\n",
        "$$dZ^{[l]} = s - y$$\n",
        "where $s$ is softmax output, $y$ is true label (one-hot vector)\n",
        "\n",
        "Note: This is a simplified form specific to Softmax + CCE loss combination.\n",
        "\n",
        ">> #### d) linear Backward\n",
        "You don't need to implement this part\n",
        "\n",
        "> ### Note\n",
        "For softmax, use the normalized exponential function to prevent overflow, but use the simplified gradient equation for backwards propagation."
      ]
    },
    {
      "cell_type": "code",
      "execution_count": 7,
      "metadata": {
        "id": "Nnuv8MmebMgg"
      },
      "outputs": [],
      "source": [
        "class Activation():\n",
        "    def __init__(self, activation_function, loss_function):\n",
        "        self.activation_function = activation_function\n",
        "        self.loss_function = loss_function\n",
        "        self.cache = None\n",
        "\n",
        "    def forward(self, Z):\n",
        "        if self.activation_function == \"sigmoid\":\n",
        "            \"\"\"\n",
        "            Implements the sigmoid activation in numpy\n",
        "\n",
        "            Arguments:\n",
        "            Z -- numpy array of any shape\n",
        "            self.cache -- stores Z as well, useful during backpropagation\n",
        "\n",
        "            Returns:\n",
        "            A -- output of sigmoid(z), same shape as Z\n",
        "            \"\"\"\n",
        "\n",
        "            # GRADED FUNCTION: sigmoid_forward\n",
        "            ### START CODE HERE ###\n",
        "            A = np.where(Z >= 0, 1 / (1 + np.exp(-Z)), np.exp(Z) / (1 + np.exp(Z)))\n",
        "            self.cache = Z\n",
        "            ### END CODE HERE ###\n",
        "\n",
        "            return A\n",
        "        elif self.activation_function == \"relu\":\n",
        "            \"\"\"\n",
        "            Implement the RELU function in numpy\n",
        "            Arguments:\n",
        "            Z -- numpy array of any shape\n",
        "            self.cache -- stores Z as well, useful during backpropagation\n",
        "            Returns:\n",
        "            A -- output of relu(z), same shape as Z\n",
        "\n",
        "            \"\"\"\n",
        "\n",
        "            # GRADED FUNCTION: relu_forward\n",
        "            ### START CODE HERE ###\n",
        "            A = np.maximum(0, Z)\n",
        "            self.cache = Z\n",
        "            ### END CODE HERE ###\n",
        "\n",
        "            assert(A.shape == Z.shape)\n",
        "\n",
        "            return A\n",
        "        elif self.activation_function == \"softmax\":\n",
        "            \"\"\"\n",
        "            Implements the softmax activation in numpy\n",
        "\n",
        "            Arguments:\n",
        "            Z -- np.array with shape (n, C)\n",
        "            self.cache -- stores Z as well, useful during backpropagation\n",
        "\n",
        "            Returns:\n",
        "            A -- output of softmax(z), same shape as Z\n",
        "            \"\"\"\n",
        "\n",
        "            # GRADED FUNCTION: softmax_forward\n",
        "            ### START CODE HERE ###\n",
        "            b = np.max(Z, axis=1, keepdims=True)\n",
        "            A = np.exp(Z - b) / np.sum(np.exp(Z - b), axis=1, keepdims=True)\n",
        "            self.cache = Z\n",
        "            ### END CODE HERE ###\n",
        "\n",
        "            return A\n",
        "        elif self.activation_function == \"linear\":\n",
        "            \"\"\"\n",
        "            Linear activation (returns Z directly).\n",
        "            \"\"\"\n",
        "            self.cache = Z.copy()\n",
        "            return Z\n",
        "\n",
        "        else:\n",
        "            raise ValueError(f\"Unsupported activation function: {self.activation_function}\")\n",
        "\n",
        "\n",
        "    def backward(self, dA=None, Y=None):\n",
        "        if self.activation_function == \"sigmoid\":\n",
        "            \"\"\"\n",
        "            Implement the backward propagation for a single SIGMOID unit.\n",
        "            Arguments:\n",
        "            dA -- post-activation gradient, of any shape\n",
        "            self.cache -- 'Z' where we store for computing backward propagation efficiently\n",
        "            Returns:\n",
        "            dZ -- Gradient of the loss with respect to Z\n",
        "            \"\"\"\n",
        "\n",
        "            # GRADED FUNCTION: sigmoid_backward\n",
        "            ### START CODE HERE ###\n",
        "            Z = self.cache\n",
        "            A = np.where(Z >= 0, 1 / (1 + np.exp(-Z)), np.exp(Z) / (1 + np.exp(Z)))\n",
        "            dZ = dA * A * (1 - A)\n",
        "            ### END CODE HERE ###\n",
        "\n",
        "            assert (dZ.shape == Z.shape)\n",
        "\n",
        "            return dZ\n",
        "\n",
        "        elif self.activation_function == \"relu\":\n",
        "            \"\"\"\n",
        "            Implement the backward propagation for a single RELU unit.\n",
        "            Arguments:\n",
        "            dA -- post-activation gradient, of any shape\n",
        "            self.cache -- 'Z' where we store for computing backward propagation efficiently\n",
        "            Returns:\n",
        "            dZ -- Gradient of the loss with respect to Z\n",
        "            \"\"\"\n",
        "\n",
        "            # GRADED FUNCTION: relu_backward\n",
        "            ### START CODE HERE ###\n",
        "            Z = self.cache\n",
        "            dZ = np.array(dA, copy=True)\n",
        "            dZ[Z <= 0] = 0\n",
        "            # dZ = np.where(dA <= 0, 0, dA)\n",
        "            ### END CODE HERE ###\n",
        "\n",
        "            assert (dZ.shape == Z.shape)\n",
        "\n",
        "            return dZ\n",
        "\n",
        "        elif self.activation_function == \"softmax\":\n",
        "            \"\"\"\n",
        "            Implement the backward propagation for a [SOFTMAX->CCE LOSS] unit.\n",
        "            Arguments:\n",
        "            Y -- true \"label\" vector (one hot vector, for example: [1,0,0] represents rock, [0,1,0] represents paper, [0,0,1] represents scissors\n",
        "                                      in a Rock-Paper-Scissors, shape: (n, C)\n",
        "            self.cache -- 'Z' where we store for computing backward propagation efficiently\n",
        "            Returns:\n",
        "            dZ -- Gradient of the cost with respect to Z\n",
        "            \"\"\"\n",
        "\n",
        "            # GRADED FUNCTION: softmax_backward\n",
        "            ### START CODE HERE ###\n",
        "            Z = self.cache\n",
        "            b = np.max(Z, axis=1, keepdims=True)\n",
        "            s = np.exp(Z - b) / np.sum(np.exp(Z - b), axis=1, keepdims=True)\n",
        "            dZ = s - Y\n",
        "            ### END CODE HERE ###\n",
        "\n",
        "            assert (dZ.shape == self.cache.shape)\n",
        "\n",
        "            return dZ\n",
        "\n",
        "        elif self.activation_function == \"linear\":\n",
        "            \"\"\"\n",
        "            Backward propagation for linear activation.\n",
        "            \"\"\"\n",
        "            return dA\n",
        "\n",
        "        else:\n",
        "            raise ValueError(f\"Unsupported activation function: {self.activation_function}\")"
      ]
    },
    {
      "cell_type": "markdown",
      "metadata": {
        "id": "iDYVMMS2ecCx"
      },
      "source": [
        "### Test your **Activation class**"
      ]
    },
    {
      "cell_type": "code",
      "execution_count": 8,
      "metadata": {
        "id": "gBuRAoeUC5jV",
        "colab": {
          "base_uri": "https://localhost:8080/"
        },
        "outputId": "09b162a0-5d4d-4125-a488-ddf7bf145e3f"
      },
      "outputs": [
        {
          "output_type": "stream",
          "name": "stdout",
          "text": [
            "Sigmoid: A = [[0.00669285]\n",
            " [0.26894142]\n",
            " [0.5       ]\n",
            " [0.73105858]\n",
            " [0.99330715]]\n",
            "ReLU: A = [[0]\n",
            " [0]\n",
            " [0]\n",
            " [1]\n",
            " [5]]\n",
            "Softmax: A = \n",
            "[[0.0320586  0.08714432 0.23688282 0.64391426]\n",
            " [0.1748777  0.47536689 0.1748777  0.1748777 ]\n",
            " [0.0320586  0.08714432 0.23688282 0.64391426]]\n",
            "Linear: A = \n",
            "[[ 1  2  3  4]\n",
            " [ 0  1  0  0]\n",
            " [-2 -1  0  1]]\n",
            "Sigmoid: dZ = [[-0.5       ]\n",
            " [-0.26935835]\n",
            " [-0.11969269]\n",
            " [-0.5       ]\n",
            " [-0.73139639]]\n",
            "ReLU: dZ = [[ 0.    1.7 ]\n",
            " [ 0.    0.  ]\n",
            " [-1.14  3.72]]\n",
            "Softmax: dZ = [[-0.96488097  0.70538451  0.25949646]\n",
            " [ 0.09003057 -0.75527153  0.66524096]\n",
            " [ 0.01766842  0.01766842 -0.03533684]]\n",
            "Linear: dZ = \n",
            "[[ 1.2 -0.5  0.8 -0.3]\n",
            " [ 0.4  0.6 -0.9  0.2]\n",
            " [-0.1  0.5 -0.7  0.9]]\n"
          ]
        }
      ],
      "source": [
        "# Activation forward\n",
        "Z = np.array([[-5], [-1], [0], [1], [5]])\n",
        "\n",
        "sigmoid = Activation(\"sigmoid\", 'cross_entropy')\n",
        "A = sigmoid.forward(Z)\n",
        "print(\"Sigmoid: A = \" + str(A))\n",
        "A = sigmoid.forward(np.array([[0.23], [-0.67], [0.45], [0.89], [-0.10]]))\n",
        "outputs[\"sigmoid\"] = (A, sigmoid.cache)\n",
        "\n",
        "relu = Activation(\"relu\", 'cross_entropy')\n",
        "A = relu.forward(Z)\n",
        "print(\"ReLU: A = \" + str(A))\n",
        "A = relu.forward(np.array([[-0.34], [-0.76], [0.21], [-0.98], [0.54]]))\n",
        "outputs[\"relu\"] = (A, relu.cache)\n",
        "\n",
        "Z = np.array([[1, 2, 3, 4],[0, 1, 0, 0],[-2, -1, 0, 1]])\n",
        "softmax = Activation(\"softmax\", 'cross_entropy')\n",
        "A = softmax.forward(Z)\n",
        "print(\"Softmax: A = \\n\" + str(A))\n",
        "A = softmax.forward(np.array([[0.12, -0.56, 0.78, -0.34], [0.45, 0.67, -0.89, 0.23], [-0.14, 0.50, -0.76, 0.98]]))\n",
        "outputs[\"softmax\"] = (A, softmax.cache)\n",
        "\n",
        "linear = Activation(\"linear\", 'mse')\n",
        "A = linear.forward(Z)\n",
        "print(\"Linear: A = \\n\" + str(A))\n",
        "A = linear.forward(np.array([[0.12, -0.56, 0.78, -0.34], [0.45, 0.67, -0.89, 0.23], [-0.14, 0.50, -0.76, 0.98]]))\n",
        "outputs[\"linear\"] = (A, Z)  # For linear activation, cache is just Z\n",
        "\n",
        "# Activation backward\n",
        "dA, cache = np.array([[-2], [-1.37], [-1.14], [-2], [-3.72]]), np.array([[0], [1], [2], [0], [1]])\n",
        "sigmoid = Activation(\"sigmoid\", 'cross_entropy')\n",
        "sigmoid.cache = cache\n",
        "dZ = sigmoid.backward(dA=dA)\n",
        "print(\"Sigmoid: dZ = \"+ str(dZ))\n",
        "dA, cache = np.array([[9.73], [-7.56], [8.34], [-4.12], [6.89]]), np.array([[-5.45], [3.68], [-2.32], [4.51], [-9.27]])\n",
        "sigmoid.cache = cache\n",
        "outputs[\"sigmoid_backward\"] = sigmoid.backward(dA=dA)\n",
        "\n",
        "relu = Activation(\"relu\", 'cross_entropy')\n",
        "dA, cache = np.array([[-2., 1.7 ], [-1.37, 2.], [-1.14, 3.72]]), np.array([[-2, 1], [-1, 0], [2, 1]])\n",
        "relu.cache = cache\n",
        "dZ = relu.backward(dA=dA)\n",
        "print(\"ReLU: dZ = \"+ str(dZ))\n",
        "dA, cache = np.array([[7.24, -3.58], [8.93, 6.45], [-2.11, 9.87]]), np.array([[-4.76, 5.34], [1.98, -7.22], [3.67, -8.56]])\n",
        "relu.cache = cache\n",
        "outputs[\"relu_backward\"] = relu.backward(dA=dA)\n",
        "\n",
        "Y, cache = np.array([[1, 0, 0],[0, 1, 0],[0, 0, 1]]), np.array([[-2, 1, 0],[-1, 0, 1],[-2, -2, 2]])\n",
        "softmax = Activation(\"softmax\", 'cross_entropy')\n",
        "softmax.cache = cache\n",
        "dZ = softmax.backward(Y=Y)\n",
        "print(\"Softmax: dZ = \" + str(dZ))\n",
        "Y, cache = np.array([[0, 1, 0], [0, 1, 0], [1, 0, 0]]), np.array([[-9.45, 7.32, 3.58], [5.61, -8.27, 6.49], [1.23, -4.56, 7.84]])\n",
        "softmax.cache = cache\n",
        "outputs[\"softmax_backward\"] = softmax.backward(Y=Y)\n",
        "\n",
        "linear = Activation(\"linear\", 'mse')\n",
        "dA = np.array([[1.2, -0.5, 0.8, -0.3], [0.4, 0.6, -0.9, 0.2], [-0.1, 0.5, -0.7, 0.9]])\n",
        "dZ = linear.backward(dA=dA)\n",
        "print(\"Linear: dZ = \\n\" + str(dZ))\n",
        "outputs[\"linear_backward\"] = dZ"
      ]
    },
    {
      "cell_type": "markdown",
      "metadata": {
        "id": "HyyX_xxdEmNp"
      },
      "source": [
        "Expected output:\n",
        "<table>\n",
        "  <tr>\n",
        "    <td>Sigmoid: A</td>\n",
        "    <td>[[0.00669285] [0.26894142] [0.5] [0.73105858] [0.99330715]]</td>\n",
        "  </tr>\n",
        "  <tr>\n",
        "    <td>ReLU: A</td>\n",
        "    <td>[[0] [0] [0] [1] [5]]</td>\n",
        "  </tr>\n",
        "  <tr>\n",
        "    <td>Softmax: A</td>\n",
        "    <td>\n",
        "      [[0.0320586 0.08714432 0.23688282 0.64391426]\n",
        "       [0.1748777 0.47536689 0.1748777 0.1748777]\n",
        "       [0.0320586 0.08714432 0.23688282 0.64391426]]\n",
        "    </td>\n",
        "  </tr>\n",
        "  <tr>\n",
        "    <td>Linear: A</td>\n",
        "    <td>\n",
        "      [[1 2 3 4]\n",
        "       [0 1 0 0]\n",
        "       [-2 -1 0 1]]\n",
        "    </td>\n",
        "  </tr>\n",
        "  <tr>\n",
        "    <td>(with Sigmoid) dZ</td>\n",
        "    <td>[[-0.5] [-0.26935835] [-0.11969269] [-0.5] [-0.73139639]]</td>\n",
        "  </tr>\n",
        "  <tr>\n",
        "    <td>(with ReLU) dZ</td>\n",
        "    <td>[[0 1.7] [0 0] [-1.14 3.72]]</td>\n",
        "  </tr>\n",
        "  <tr>\n",
        "    <td>(with Softmax) dZ</td>\n",
        "    <td>\n",
        "      [[-0.96488097 0.70538451 0.25949646]\n",
        "       [0.09003057 -0.75527153 0.66524096]\n",
        "       [0.01766842 0.01766842 -0.03533684]]\n",
        "    </td>\n",
        "  </tr>\n",
        "  <tr>\n",
        "    <td>(with Linear) dZ</td>\n",
        "    <td>\n",
        "      [[1.2 -0.5 0.8 -0.3]\n",
        "       [0.4 0.6 -0.9 0.2]\n",
        "       [-0.1 0.5 -0.7 0.9]]\n",
        "    </td>\n",
        "  </tr>\n",
        "</table>"
      ]
    },
    {
      "cell_type": "markdown",
      "metadata": {
        "id": "w9vcTYp_yoPu"
      },
      "source": [
        "## Part 3: Model (10%)\n",
        "\n",
        "Use the functions that you had previously written to implement the complete neural network model, including initialization, forward propagation, backward propagation, and parameter updates.\n",
        "\n",
        "> ### Step 1: Model Initialization (0%)\n",
        "Initialize the model by creating linear and activation function layers.\n",
        "\n",
        ">> #### Requirements:\n",
        "- Store linear layers in a list called `linear`\n",
        "- Store activation function layers in a list called `activation`\n",
        "- Use iteration number as seed for each Dense layer initialization\n",
        "\n",
        ">> #### Note:\n",
        "A linear-activation pair counts as a single layer in the neural network.\n",
        "\n",
        "> ### Step 2: Forward Propagation (4%)\n",
        "Implement the model's forward pass by calling each layer's forward function sequentially.\n",
        "\n",
        ">> #### Process:\n",
        "1. For layers 1 to N-1: [LINEAR -> ACTIVATION]\n",
        "2. Final layer: LINEAR -> SIGMOID (binary) or SOFTMAX (multi-class)\n",
        "\n",
        ">> #### Note:\n",
        "For binary classification, use one output node with sigmoid activation. For K-class classification, use K output nodes with softmax activation.\n",
        "\n",
        "> ### Step 3: Backward Propagation (4%)\n",
        "Implement the model's backward pass by calling each layer's backward function in reverse order.\n",
        "\n",
        ">> #### Process:\n",
        "1. Initialize backpropagation:\n",
        "   - Regression:\n",
        "     $$dAL = AL - Y$$\n",
        "   - Binary classification:\n",
        "     $$dAL = - (\\frac{Y}{AL + \\epsilon} - \\frac{1 - Y}{1 - AL + \\epsilon})$$\n",
        "     where $\\epsilon = 10^{-5}$ to prevent division by zero\n",
        "   - Multi-class classification:\n",
        "     Use `softmax_backward` function\n",
        "2. Backpropagate through layers L to 1\n",
        "\n",
        ">> #### Note:\n",
        "Use cached values from the forward pass in each layer's backward function.\n",
        "\n",
        "> ### Step 4: Parameter Update (2%)\n",
        "Update model parameters using gradient descent.\n",
        "\n",
        ">> #### Update Rule:\n",
        "For each layer $l = 1, 2, ..., L$:\n",
        "$$W^{[l]} = W^{[l]} - \\alpha \\cdot dW^{[l]}$$\n",
        "$$b^{[l]} = b^{[l]} - \\alpha \\cdot db^{[l]}$$\n",
        "where $\\alpha$ is the learning rate\n",
        "\n",
        "This revised structure provides a clear, step-by-step breakdown of the model implementation process, mirroring the format used in Part 2. It covers all the essential components while maintaining a concise and logical flow."
      ]
    },
    {
      "cell_type": "code",
      "execution_count": 9,
      "metadata": {
        "id": "0JGMzfIDCSVz"
      },
      "outputs": [],
      "source": [
        "class Model():\n",
        "    def __init__(self, units, activation_functions, loss_function):\n",
        "        self.units = units\n",
        "        self.activation_functions = activation_functions\n",
        "        self.loss_function = loss_function\n",
        "        self.initialize_parameters()\n",
        "\n",
        "    def initialize_parameters(self):\n",
        "        \"\"\"\n",
        "        Initialize layers of the neural network\n",
        "\n",
        "        Arguments:\n",
        "            self.units -- array defining network structure (e.g., [4,4,1]):\n",
        "                - Input layer: 4 nodes\n",
        "                - Hidden layer: 4 nodes\n",
        "                - Output layer: 1 node\n",
        "            self.activation_functions -- activation function for each layer (e.g., [\"relu\",\"sigmoid\"]):\n",
        "                - First layer uses ReLU\n",
        "                - Second layer uses Sigmoid\n",
        "            self.loss_function -- loss function type: \"cross_entropy\" or \"mse\"\n",
        "        \"\"\"\n",
        "        self.linear = []        # Store all Dense layers (weights & biases)\n",
        "        self.activation = []    # Store all activation function layers\n",
        "\n",
        "        for i in range(len(self.units)-1):\n",
        "            dense = Dense(self.units[i], self.units[i+1], i)\n",
        "            self.linear.append(dense)\n",
        "\n",
        "        for i in range(len(self.activation_functions)):\n",
        "            self.activation.append(Activation(self.activation_functions[i], self.loss_function))\n",
        "\n",
        "    def forward(self, X):\n",
        "        \"\"\"\n",
        "        Forward propagation through the network\n",
        "\n",
        "        Arguments:\n",
        "        X -- input data: shape (n, f)\n",
        "        Returns:\n",
        "        A -- model output:\n",
        "            - For binary classification: probability (0-1)\n",
        "            - For multi-class: probability distribution across classes\n",
        "            - For regression: predicted values\n",
        "        \"\"\"\n",
        "        A = X\n",
        "\n",
        "        # GRADED FUNCTION: model_forward\n",
        "        ### START CODE HERE ###\n",
        "        for i in range(len(self.linear)):\n",
        "          Z = self.linear[i].forward(A)\n",
        "          A = self.activation[i].forward(Z)\n",
        "        ### END CODE HERE ###\n",
        "\n",
        "        return A\n",
        "\n",
        "    def backward(self, AL=None, Y=None):\n",
        "        \"\"\"\n",
        "        Backward propagation to compute gradients\n",
        "\n",
        "        Arguments:\n",
        "            AL -- model output from forward propagation:\n",
        "                - For binary: probability (n,1)\n",
        "                - For multi-class: probabilities (n,C)\n",
        "            Y -- true labels:\n",
        "                - For binary: 0/1 labels (n,1)\n",
        "                - For multi-class: one-hot vectors (n,C)\n",
        "                - For regression: true values (n,1)\n",
        "\n",
        "        Returns:\n",
        "            dA_prev -- gradients for previous layer's activation\n",
        "        \"\"\"\n",
        "\n",
        "        L = len(self.linear)\n",
        "        C = Y.shape[1]\n",
        "\n",
        "        # assertions\n",
        "        warning = 'Warning: only the following 3 combinations are allowed! \\n \\\n",
        "                    1. binary classification: sigmoid + cross_entropy \\n \\\n",
        "                    2. multi-class classification: softmax + cross_entropy \\n \\\n",
        "                    3. regression: linear + mse'\n",
        "        assert self.loss_function in [\"cross_entropy\", \"mse\"], \"you're using undefined loss function!\"\n",
        "        if self.loss_function == \"cross_entropy\":\n",
        "            if Y.shape[1] == 1:  # binary classification\n",
        "                assert self.activation_functions[-1] == 'sigmoid', warning\n",
        "            else:  # multi-class classification\n",
        "                assert self.activation_functions[-1] == 'softmax', warning\n",
        "                assert self.units[-1] == Y.shape[1], f\"you should set last dim to {Y.shape[1]}(the number of classes) in multi-class classification!\"\n",
        "        elif self.loss_function == \"mse\":\n",
        "            assert self.activation_functions[-1] == 'linear', warning\n",
        "            assert self.units[-1] == Y.shape[1], \"output dimension mismatch for regression!\"\n",
        "\n",
        "        # GRADED FUNCTION: model_backward\n",
        "        ### START CODE HERE ###\n",
        "        if self.activation_functions[-1] == \"linear\":\n",
        "            # Initializing the backpropagation\n",
        "            dAL = AL - Y\n",
        "            # Lth layer (LINEAR) gradients. Inputs: \"dAL\". Outputs: \"dA_prev\"\n",
        "            dZ = self.activation[-1].backward(dAL)\n",
        "            dA_prev = self.linear[-1].backward(dZ)\n",
        "\n",
        "        elif self.activation_functions[-1] == \"sigmoid\":\n",
        "            # Initializing the backpropagation\n",
        "            epsilon = 1e-5\n",
        "            dAL = -(Y / (AL + epsilon) - (1 - Y) / (1 - AL + epsilon))\n",
        "\n",
        "            # Lth layer (SIGMOID -> LINEAR) gradients. Inputs: \"dAL\". Outputs: \"dA_prev\"\n",
        "            dZ = self.activation[-1].backward(dAL)\n",
        "            dA_prev = self.linear[-1].backward(dZ)\n",
        "\n",
        "        elif self.activation_functions[-1] == \"softmax\":\n",
        "            # Initializing the backpropagation\n",
        "            dZ = self.activation[-1].backward(Y=Y)\n",
        "\n",
        "            # Lth layer (LINEAR) gradients. Inputs: \"dZ\". Outputs: \"dA_prev\"\n",
        "            dA_prev = self.linear[-1].backward(dZ)\n",
        "\n",
        "        # Loop from l=L-2 to l=0\n",
        "        # lth layer: (RELU -> LINEAR) gradients.\n",
        "        # Inputs: \"dA_prev\". Outputs: \"dA_prev\"\n",
        "        for l in reversed(range(L - 1)):\n",
        "          dZ = self.activation[l].backward(dA_prev)\n",
        "          dA_prev = self.linear[l].backward(dZ)\n",
        "        ### END CODE HERE ###\n",
        "\n",
        "        return dA_prev\n",
        "\n",
        "    def update(self, learning_rate):\n",
        "        \"\"\"\n",
        "        Arguments:\n",
        "        learning_rate -- step size\n",
        "        \"\"\"\n",
        "\n",
        "        L = len(self.linear)\n",
        "\n",
        "        # GRADED FUNCTION: model_update_parameters\n",
        "        ### START CODE HERE ###\n",
        "        for l in range(L):\n",
        "          self.linear[l].update(learning_rate)\n",
        "        ### END CODE HERE ###"
      ]
    },
    {
      "cell_type": "markdown",
      "metadata": {
        "id": "LxQtZMmA1SNc"
      },
      "source": [
        "### Test your **Model class**"
      ]
    },
    {
      "cell_type": "code",
      "execution_count": 10,
      "metadata": {
        "id": "EGY7_1bjcm-c",
        "colab": {
          "base_uri": "https://localhost:8080/"
        },
        "outputId": "bc6c0080-bc7c-48e2-d36c-d97c63181732"
      },
      "outputs": [
        {
          "output_type": "stream",
          "name": "stdout",
          "text": [
            "W1:  [[ 0.09762701  0.08976637 -0.12482558]\n",
            " [ 0.43037873 -0.1526904   0.783546  ]\n",
            " [ 0.20552675  0.29178823  0.92732552]] \n",
            "b1:  [[0. 0. 0.]]\n",
            "W2:  [[-0.20325375]\n",
            " [ 0.53968259]\n",
            " [-1.22446471]] \n",
            "b2:  [[0.]]\n",
            "With sigmoid: A = [[0.64565631]\n",
            " [0.20915937]\n",
            " [0.77902611]]\n",
            "With ReLU: A = [[0.6 ]\n",
            " [0.  ]\n",
            " [1.26]]\n",
            "With softmax: A = \n",
            "[[0.47535001 0.14317267 0.38147732]\n",
            " [0.05272708 0.75380161 0.19347131]\n",
            " [0.68692136 0.05526942 0.25780921]]\n",
            "AL = [[0.56058713]\n",
            " [0.55220559]\n",
            " [0.46331713]]\n",
            "Length of layers list = 2\n",
            "AL = [[0.11637212 0.08186754 0.0924809  0.09675205 0.12819411 0.09664001\n",
            "  0.08448599 0.09067641 0.1294968  0.08303407]\n",
            " [0.11413265 0.08432761 0.09365443 0.09736489 0.12404237 0.09726785\n",
            "  0.08664355 0.09207969 0.12512634 0.08536063]\n",
            " [0.09750771 0.07419482 0.08444682 0.10943351 0.09669465 0.11116299\n",
            "  0.08734059 0.12452515 0.13002144 0.08467232]]\n",
            "Length of layers list = 2\n"
          ]
        }
      ],
      "source": [
        "# Model initialize parameters\n",
        "model = Model([3, 3, 1], [\"relu\", \"sigmoid\"], \"cross_entropy\")\n",
        "print(\"W1: \", model.linear[0].parameters[\"W\"], \"\\nb1: \", model.linear[0].parameters[\"b\"])\n",
        "print(\"W2: \", model.linear[1].parameters[\"W\"], \"\\nb2: \", model.linear[1].parameters[\"b\"])\n",
        "\n",
        "# Model forward\n",
        "A_prev, W, b = np.array([[0.1, 1.1, 2.9],[-1.2, 0.2, -2.5],[1.9, 2.3, 3.7]]), np.array([[0.1], [0.2], [0.3]]), np.array([[-0.5]])\n",
        "model = Model([3, 1], [\"sigmoid\"], \"cross_entropy\")\n",
        "model.linear[0].parameters = {\"W\": W, \"b\": b}\n",
        "A = model.forward(A_prev)\n",
        "print(\"With sigmoid: A = \" + str(A))\n",
        "A_prev, W, b = np.array([[4.35, -5.67], [-7.89, 8.12]]), np.array([[-3.54], [-2.34]]), np.array([[0.8]])\n",
        "model = Model([2, 1], [\"sigmoid\"], \"cross_entropy\")\n",
        "model.linear[0].parameters = {\"W\": W, \"b\": b}\n",
        "A = model.forward(A_prev)\n",
        "outputs[\"model_forward_sigmoid\"] = (A, (model.linear[0].cache, model.activation[0].cache))\n",
        "\n",
        "A_prev, W, b = np.array([[0.1, 1.1, 2.9],[-1.2, 0.2, -2.5],[1.9, 2.3, 3.7]]), np.array([[0.1], [0.2], [0.3]]), np.array([[-0.5]])\n",
        "model = Model([3, 1], [\"relu\"], \"cross_entropy\")\n",
        "model.linear[0].parameters = {\"W\": W, \"b\": b}\n",
        "A = model.forward(A_prev)\n",
        "print(\"With ReLU: A = \" + str(A))\n",
        "A_prev, W, b = np.array([[7.23, -4.56], [5.67, -8.90]]), np.array([[-9.12], [3.45]]), np.array([[0.25]])\n",
        "model = Model([2, 1], [\"relu\"], \"cross_entropy\")\n",
        "model.linear[0].parameters = {\"W\": W, \"b\": b}\n",
        "A = model.forward(A_prev)\n",
        "outputs[\"model_forward_relu\"] = (A, (model.linear[0].cache, model.activation[0].cache))\n",
        "\n",
        "A_prev, W, b = np.array([[0.1, 1.1, 2.9],[-1.2, 0.2, -2.5],[1.9, 2.3, 3.7]]), np.array([[0.1, -0.1, -0.1],[0.2, -0.2, 0.],[0.3, -0.3, 0.1]]), np.array([[-0.5, 0.5, 0.1]])\n",
        "model = Model([3, 3], [\"softmax\"], \"cross_entropy\")\n",
        "model.linear[0].parameters = {\"W\": W, \"b\": b}\n",
        "A = model.forward(A_prev)\n",
        "print(\"With softmax: A = \\n\" + str(A))\n",
        "A_prev, W, b = np.array([[-5.12, 4.56, 7.89], [8.34, -6.78, 2.45], [3.21, -4.67, 5.98]]), np.array([[6.23, -7.85, 4.56], [-3.21, 9.87, -2.34], [1.23, -5.67, 8.90]]), np.array([[4.12, -6.54, 7.89]])\n",
        "model = Model([3, 3], [\"softmax\"], \"cross_entropy\")\n",
        "model.linear[0].parameters = {\"W\": W, \"b\": b}\n",
        "A = model.forward(A_prev)\n",
        "outputs[\"model_forward_softmax\"] = (A, (model.linear[0].cache, model.activation[0].cache))\n",
        "\n",
        "# binary classification\n",
        "X = np.array([[0, -2, 0.5], [1, -1, 0.5], [2, 0, 0.5]])\n",
        "model = Model([3, 3, 1], [\"relu\", \"sigmoid\"], \"cross_entropy\")\n",
        "AL = model.forward(X)\n",
        "print(\"AL = \" + str(AL))\n",
        "print(\"Length of layers list = \" + str(len(model.linear)))\n",
        "\n",
        "# multi-class classification\n",
        "X = np.array([[0, -2, 0.5], [1, -1, 0.5], [2, 0, 0.5]])\n",
        "model = Model([3, 3, 10], [\"relu\", \"softmax\"], \"cross_entropy\")\n",
        "AL = model.forward(X)\n",
        "print(\"AL = \" + str(AL))\n",
        "print(\"Length of layers list = \" + str(len(model.linear)))"
      ]
    },
    {
      "cell_type": "markdown",
      "metadata": {
        "id": "LEmggOxtdMnl"
      },
      "source": [
        "Expected output:\n",
        "<table>\n",
        "  <tr>\n",
        "    <td>W1:</td>\n",
        "    <td>[[ 0.09762701 0.08976637 -0.12482558] [ 0.43037873 -0.1526904 0.783546 ] [ 0.20552675 0.29178823 0.92732552]]</td>\n",
        "  </tr>\n",
        "  <tr>\n",
        "    <td>b1:</td>\n",
        "    <td>[[0. 0. 0.]]</td>\n",
        "  </tr>\n",
        "  <tr>\n",
        "    <td>W2:</td>\n",
        "    <td>[[-0.20325375] [ 0.53968259] [-1.22446471]]</td>\n",
        "  </tr>\n",
        "  <tr>\n",
        "    <td>b2:</td>\n",
        "    <td>[[0.]]</td>\n",
        "  </tr>\n",
        "  <tr>\n",
        "    <td>With Sigmoid:</td>\n",
        "    <td>A = [[0.64565631] [0.20915937] [0.77902611]]</td>\n",
        "  </tr>\n",
        "  <tr>\n",
        "    <td>With ReLU:</td>\n",
        "    <td>A = [[0.6 ] [0. ] [1.26]]</td>\n",
        "  </tr>\n",
        "  <tr>\n",
        "    <td>With Softmax:</td>\n",
        "    <td>A = [[0.47535001 0.14317267 0.38147732] [0.05272708 0.75380161 0.19347131] [0.68692136 0.05526942 0.25780921]]</td>\n",
        "  </tr>\n",
        "  <tr>\n",
        "    <td>AL:</td>\n",
        "    <td>[[0.56058713] [0.55220559] [0.46331713]]</td>\n",
        "  </tr>\n",
        "  <tr>\n",
        "    <td>Length of layers list:</td>\n",
        "    <td>2</td>\n",
        "  </tr>\n",
        "  <tr>\n",
        "    <td>AL:</td>\n",
        "    <td>[[0.11637212 0.08186754 0.0924809  0.09675205 0.12819411 0.09664001 0.08448599 0.09067641 0.1294968  0.08303407]\n",
        "         [0.11413265 0.08432761 0.09365443 0.09736489 0.12404237 0.09726785 0.08664355 0.09207969 0.12512634 0.08536063]\n",
        "         [0.09750771 0.07419482 0.08444682 0.10943351 0.09669465 0.11116299 0.08734059 0.12452515 0.13002144 0.08467232]]</td>\n",
        "  </tr>\n",
        "  <tr>\n",
        "    <td>Length of layers list:</td>\n",
        "    <td>2</td>\n",
        "  </tr>\n",
        "</table>"
      ]
    },
    {
      "cell_type": "code",
      "execution_count": 11,
      "metadata": {
        "id": "HOGsyLXPNGh5",
        "colab": {
          "base_uri": "https://localhost:8080/"
        },
        "outputId": "18eb32f3-542e-48c3-f9f6-88bb81ee399a"
      },
      "outputs": [
        {
          "output_type": "stream",
          "name": "stdout",
          "text": [
            "sigmoid:\n",
            "dA_prev = [[ 0.55554938  0.27777469]\n",
            " [ 0.49152369  0.24576184]\n",
            " [-0.41996594 -0.20998297]\n",
            " [-0.55554938 -0.27777469]\n",
            " [-0.39321993 -0.19660997]]\n",
            "dW = [[-0.29446117]\n",
            " [ 0.29446117]]\n",
            "db = [[-0.03216622]]\n",
            "\n",
            "relu:\n",
            "dA_prev = [[-0.01269296 -0.05595562]\n",
            " [ 0.01470136  0.06480946]\n",
            " [ 0.          0.        ]\n",
            " [-0.07496777 -0.0327431 ]\n",
            " [-0.07151883 -0.03123674]]\n",
            "dW = [[ 0.0178719  -0.17321413]\n",
            " [-0.0178719   0.17321413]]\n",
            "db = [[ 0.00335943 -0.11638953]]\n",
            "\n",
            "Binary classification\n",
            "dW1 = [[-0.06277946  0.26602938 -0.37820327]\n",
            " [ 0.          0.05875647  0.        ]\n",
            " [-0.01569486  0.05181823 -0.09455082]]\n",
            "db1 = [[-0.03138973  0.10363646 -0.18910163]]\n",
            "dA_prev = [[-0.02128713  0.03620889 -0.06919444]\n",
            " [ 0.02675119 -0.04550313  0.08695554]\n",
            " [ 0.08406585 -0.52321654 -0.47247201]]\n",
            "\n",
            "Multi-class classification\n",
            "dW1 = [[ 0.16593371  0.33171007 -0.32297709]\n",
            " [ 0.          0.15006987  0.        ]\n",
            " [ 0.04148343  0.04541005 -0.08074427]]\n",
            "db1 = [[ 0.08296685  0.0908201  -0.16148854]]\n",
            "dA_prev = [[-0.04735391  0.08054785 -0.15392528]\n",
            " [ 0.05429414 -0.09235301  0.1764847 ]\n",
            " [ 0.10229066 -0.30227651 -0.34116033]]\n",
            "\n",
            "Regression\n",
            "dW1 = [[ 0.45352627 -1.49031638  2.73218534]\n",
            " [ 0.          1.09795245  0.        ]\n",
            " [ 0.11338157 -0.64706721  0.68304634]]\n",
            "db1 = [[ 0.22676313 -1.29413441  1.36609267]]\n",
            "dA_prev = [[-0.10931473  0.18594169 -0.35533076]\n",
            " [-0.07704814  0.13105702 -0.25044727]\n",
            " [-0.60730166  3.77977844  3.41319394]]\n",
            "\n"
          ]
        }
      ],
      "source": [
        "# Model backward\n",
        "AL, Y, linear_activation_cache = np.array([[0.1], [0.2], [0.5], [0.9], [1.0]]), np.array([[0], [0], [1], [1], [1]]), (((np.array([[-2, 2], [-1, 1], [0, 0], [1, -1], [2, -2]]), np.array([[2.0], [1.0]]), np.array([[0.5]])), np.array([[0], [1], [2], [0], [1]])))\n",
        "model = Model([2, 1], [\"sigmoid\"], \"cross_entropy\")\n",
        "model.linear[0].cache = linear_activation_cache[0]\n",
        "model.activation[0].cache = linear_activation_cache[1]\n",
        "dA_prev = model.backward(AL=AL, Y=Y)\n",
        "print (\"sigmoid:\")\n",
        "print (\"dA_prev = \"+ str(dA_prev))\n",
        "print (\"dW = \" + str(model.linear[0].dW))\n",
        "print (\"db = \" + str(model.linear[0].db) + \"\\n\")\n",
        "AL, Y, linear_activation_cache = np.array([[0.35], [0.93], [0.23], [0.72], [0.90]]), np.array([[1], [0], [1], [0], [1]]), (((np.array([[-1, 2], [1, 3], [2, 0], [1, -4], [3, -2]]), np.array([[1.7], [3.2]]), np.array([[0.25]])), np.array([[2], [1], [2], [0], [0]])))\n",
        "model = Model([2, 1], [\"sigmoid\"], \"cross_entropy\")\n",
        "model.linear[0].cache = linear_activation_cache[0]\n",
        "model.activation[0].cache = linear_activation_cache[1]\n",
        "dA_prev = model.backward(AL=AL, Y=Y)\n",
        "outputs[\"model_backward_sigmoid\"] = (dA_prev, model.linear[0].dW, model.linear[0].db)\n",
        "\n",
        "X, Y = np.array([[-2, 2], [-1, 1], [0, 0], [1, -1], [2, -2]]), np.array([[0], [1], [1], [1], [1]])\n",
        "model = Model([2, 2, 1], [\"relu\", \"sigmoid\"], \"cross_entropy\")\n",
        "AL = model.forward(X)\n",
        "dA_prev = model.backward(AL=AL, Y=Y)\n",
        "print (\"relu:\")\n",
        "print (\"dA_prev = \"+ str(dA_prev))\n",
        "print (\"dW = \" + str(model.linear[0].dW))\n",
        "print (\"db = \" + str(model.linear[0].db) + \"\\n\")\n",
        "X, Y = np.array([[4.56, -3.21], [-7.85, 6.34], [2.45, -8.90], [5.67, 3.12], [-4.78, 7.89]]), np.array([[1], [1], [0], [1], [0]])\n",
        "model = Model([2, 2, 1], [\"relu\", \"sigmoid\"], \"cross_entropy\")\n",
        "AL = model.forward(X)\n",
        "dA_prev = model.backward(AL=AL, Y=Y)\n",
        "outputs[\"model_backward_relu\"] = (dA_prev, model.linear[0].dW, model.linear[0].db)\n",
        "\n",
        "# binary classification\n",
        "X, Y = np.array([[0, -2, 0.5], [1, -1, 0.5], [2, 0, 0.5]]), np.array([[1], [0], [0]])\n",
        "model = Model([3, 3, 1], [\"relu\", \"sigmoid\"], \"cross_entropy\")\n",
        "AL = model.forward(X)\n",
        "dA_prev = model.backward(AL=AL, Y=Y)\n",
        "print(\"Binary classification\")\n",
        "print(\"dW1 = \"+ str(model.linear[0].dW))\n",
        "print(\"db1 = \"+ str(model.linear[0].db))\n",
        "print(\"dA_prev = \"+ str(dA_prev) +\"\\n\")\n",
        "\n",
        "# multi-class classification\n",
        "X, Y = np.array([[0, -2, 0.5], [1, -1, 0.5], [2, 0, 0.5]]), np.array([[1, 0, 0], [0, 1, 0], [0, 0, 1]])\n",
        "model = Model([3, 3, 3], [\"relu\", \"softmax\"], \"cross_entropy\")\n",
        "AL = model.forward(X)\n",
        "dA_prev = model.backward(AL=AL, Y=Y)\n",
        "print(\"Multi-class classification\")\n",
        "print(\"dW1 = \"+ str(model.linear[0].dW))\n",
        "print(\"db1 = \"+ str(model.linear[0].db))\n",
        "print(\"dA_prev = \"+ str(dA_prev) +\"\\n\")\n",
        "\n",
        "# regression - mse\n",
        "X, Y = np.array([[0, -2, 0.5], [1, -1, 0.5], [2, 0, 0.5]]), np.array([[2.5], [1.8], [3.2]])\n",
        "model = Model([3, 3, 1], [\"relu\", \"linear\"], \"mse\")\n",
        "AL = model.forward(X)\n",
        "dA_prev = model.backward(AL=AL, Y=Y)\n",
        "print(\"Regression\")\n",
        "print(\"dW1 = \"+ str(model.linear[0].dW))\n",
        "print(\"db1 = \"+ str(model.linear[0].db))\n",
        "print(\"dA_prev = \"+ str(dA_prev) +\"\\n\")"
      ]
    },
    {
      "cell_type": "markdown",
      "metadata": {
        "id": "o6xzEk3-NGh6"
      },
      "source": [
        "Expected output:\n",
        "<table>\n",
        "  <tr>\n",
        "    <th colspan=\"2\">Sigmoid</th>\n",
        "  </tr>\n",
        "  <tr>\n",
        "    <td>dA_prev:</td>\n",
        "    <td>[[ 0.55554938  0.27777469] [ 0.49152369  0.24576184] [-0.41996594 -0.20998297] [-0.55554938 -0.27777469] [-0.39321993 -0.19660997]]</td>\n",
        "  </tr>\n",
        "  <tr>\n",
        "    <td>dW:</td>\n",
        "    <td>[[-0.29446117] [ 0.29446117]]</td>\n",
        "  </tr>\n",
        "  <tr>\n",
        "    <td>db:</td>\n",
        "    <td>[[-0.03216622]]</td>\n",
        "  </tr>\n",
        "  <tr>\n",
        "    <th colspan=\"2\">ReLU</th>\n",
        "  </tr>\n",
        "  <tr>\n",
        "    <td>dA_prev:</td>\n",
        "    <td>[[-0.01269296 -0.05595562] [ 0.01470136  0.06480946] [ 0.  0. ] [-0.07496777 -0.0327431 ] [-0.07151883 -0.03123674]]</td>\n",
        "  </tr>\n",
        "  <tr>\n",
        "    <td>dW:</td>\n",
        "    <td>[[ 0.0178719  -0.17321413] [-0.0178719   0.17321413]]</td>\n",
        "  </tr>\n",
        "  <tr>\n",
        "    <td>db:</td>\n",
        "    <td>[[ 0.00335943 -0.11638953]]</td>\n",
        "  </tr>\n",
        "  <tr>\n",
        "    <th colspan=\"2\">Binary Classification</th>\n",
        "  </tr>\n",
        "  <tr>\n",
        "    <td>dW1:</td>\n",
        "    <td>[[-0.06277946  0.26602938 -0.37820327] [ 0.  0.05875647  0. ] [-0.01569486  0.05181823 -0.09455082]]</td>\n",
        "  </tr>\n",
        "  <tr>\n",
        "    <td>db1:</td>\n",
        "    <td>[[-0.03138973  0.10363646 -0.18910163]]</td>\n",
        "  </tr>\n",
        "  <tr>\n",
        "    <td>dA_prev:</td>\n",
        "    <td>[[-0.02128713  0.03620889 -0.06919444] [ 0.02675119 -0.04550313  0.08695554] [ 0.08406585 -0.52321654 -0.47247201]]</td>\n",
        "  </tr>\n",
        "  <tr>\n",
        "    <th colspan=\"2\">Multi-class Classification</th>\n",
        "  </tr>\n",
        "  <tr>\n",
        "    <td>dW1:</td>\n",
        "    <td>[[ 0.16593371  0.33171007 -0.32297709] [ 0.  0.15006987  0. ] [ 0.04148343  0.04541005 -0.08074427]]</td>\n",
        "  </tr>\n",
        "  <tr>\n",
        "    <td>db1:</td>\n",
        "    <td>[[ 0.08296685  0.0908201  -0.16148854]]</td>\n",
        "  </tr>\n",
        "  <tr>\n",
        "    <td>dA_prev:</td>\n",
        "    <td>[[-0.04735391  0.08054785 -0.15392528] [ 0.05429414 -0.09235301  0.1764847 ] [ 0.10229066 -0.30227651 -0.34116033]]</td>\n",
        "  </tr>\n",
        "  <th colspan=\"2\">Regression</th>\n",
        "  </tr>\n",
        "  <tr>\n",
        "    <td>dW1:</td>\n",
        "    <td>[[ 0.45352627 -1.49031638  2.73218534] [ 0.          1.09795245  0.        ] [ 0.11338157 -0.64706721  0.68304634]]</td>\n",
        "  </tr>\n",
        "  <tr>\n",
        "    <td>db1:</td>\n",
        "    <td>[[ 0.22676313 -1.29413441  1.36609267]]</td>\n",
        "  </tr>\n",
        "  <tr>\n",
        "    <td>dA_prev:</td>\n",
        "    <td>[[-0.10931473  0.18594169 -0.35533076] [-0.07704814  0.13105702 -0.25044727] [-0.60730166  3.77977844  3.41319394]]</td>\n",
        "  </tr>\n",
        "</table>"
      ]
    },
    {
      "cell_type": "code",
      "execution_count": 12,
      "metadata": {
        "id": "qoGA4O8BUCvq",
        "colab": {
          "base_uri": "https://localhost:8080/"
        },
        "outputId": "e0e66a49-b2d0-49ae-dc62-6dcf9e6c36e7"
      },
      "outputs": [
        {
          "output_type": "stream",
          "name": "stdout",
          "text": [
            "W1 = [[ 0.39721186  0.07752363  0.392862  ]\n",
            " [ 0.64025004  0.00469968  0.52183369]\n",
            " [-0.09671178  0.09679955  0.33138026]\n",
            " [ 0.27099015  0.33705631  0.67538482]]\n",
            "b1 = [[ 0.16234149  0.78232848 -0.02592894]]\n",
            "W2 = [[0.6012798 ]\n",
            " [0.38575324]\n",
            " [0.49003974]]\n",
            "b2 = [[0.05692437]]\n"
          ]
        }
      ],
      "source": [
        "# Model update\n",
        "np.random.seed(1)\n",
        "parameters, grads = {\"W1\": np.random.rand(3, 4).T, \"b1\": np.random.rand(3,1).T, \"W2\": np.random.rand(1,3).T, \"b2\": np.random.rand(1,1).T}, {\"dW1\": np.random.rand(3, 4).T, \"db1\": np.random.rand(3,1).T, \"dW2\": np.random.rand(1,3).T, \"db2\": np.random.rand(1,1).T}\n",
        "model = Model([4, 3, 1], [\"relu\", \"sigmoid\"], \"cross_entropy\")\n",
        "model.linear[0].parameters = {\"W\": parameters[\"W1\"], \"b\": parameters[\"b1\"]}\n",
        "model.linear[1].parameters = {\"W\": parameters[\"W2\"], \"b\": parameters[\"b2\"]}\n",
        "model.linear[0].dW, model.linear[0].db, model.linear[1].dW, model.linear[1].db = grads[\"dW1\"], grads[\"db1\"], grads[\"dW2\"], grads[\"db2\"]\n",
        "model.update(0.1)\n",
        "print (\"W1 = \"+ str(model.linear[0].parameters[\"W\"]))\n",
        "print (\"b1 = \"+ str(model.linear[0].parameters[\"b\"]))\n",
        "print (\"W2 = \"+ str(model.linear[1].parameters[\"W\"]))\n",
        "print (\"b2 = \"+ str(model.linear[1].parameters[\"b\"]))\n",
        "\n",
        "np.random.seed(1)\n",
        "parameters, grads = {\"W1\": np.random.rand(3, 4).T, \"b1\": np.random.rand(3,1).T, \"W2\": np.random.rand(1,3).T, \"b2\": np.random.rand(1,1).T}, {\"dW1\": np.random.rand(3, 4).T, \"db1\": np.random.rand(3,1).T, \"dW2\": np.random.rand(1,3).T, \"db2\": np.random.rand(1,1).T}\n",
        "model = Model([4, 3, 1], [\"relu\", \"sigmoid\"], \"cross_entropy\")\n",
        "model.linear[0].parameters = {\"W\": parameters[\"W1\"], \"b\": parameters[\"b1\"]}\n",
        "model.linear[1].parameters = {\"W\": parameters[\"W2\"], \"b\": parameters[\"b2\"]}\n",
        "model.linear[0].dW, model.linear[0].db, model.linear[1].dW, model.linear[1].db = grads[\"dW1\"], grads[\"db1\"], grads[\"dW2\"], grads[\"db2\"]\n",
        "model.update(0.075)\n",
        "outputs[\"model_update_parameters\"] = {\"W1\": model.linear[0].parameters[\"W\"], \"b1\": model.linear[0].parameters[\"b\"], \"W2\": model.linear[1].parameters[\"W\"], \"b2\": model.linear[1].parameters[\"b\"]}"
      ]
    },
    {
      "cell_type": "markdown",
      "metadata": {
        "id": "9t-HfnHZWYIa"
      },
      "source": [
        "Expected output:\n",
        "<table>\n",
        "  <tr>\n",
        "    <th colspan=\"2\">Data Representation</th>\n",
        "  </tr>\n",
        "  <tr>\n",
        "    <td>W1:</td>\n",
        "    <td>[[ 0.39721186  0.07752363  0.392862 ] [ 0.64025004  0.00469968  0.52183369] [-0.09671178  0.09679955  0.33138026] [ 0.27099015  0.33705631  0.67538482]]</td>\n",
        "  </tr>\n",
        "  <tr>\n",
        "    <td>b1:</td>\n",
        "    <td>[[ 0.16234149  0.78232848 -0.02592894]]</td>\n",
        "  </tr>\n",
        "  <tr>\n",
        "    <td>W2:</td>\n",
        "    <td>[[0.6012798 ] [0.38575324] [0.49003974]]</td>\n",
        "  </tr>\n",
        "  <tr>\n",
        "    <td>b2:</td>\n",
        "    <td>[[0.05692437]]</td>\n",
        "  </tr>\n",
        "</table>"
      ]
    },
    {
      "cell_type": "markdown",
      "metadata": {
        "id": "SmSBVaQOSRrk"
      },
      "source": [
        "## **Section 2: Loss function(10%)**\n",
        "In this section, you need to implement the loss function. We use binary cross-entropy loss for binary classification and categorical cross-entropy loss for multi-class classification.\n"
      ]
    },
    {
      "cell_type": "markdown",
      "metadata": {
        "id": "ScdQdj85uC0P"
      },
      "source": [
        "## Part 1: Binary cross-entropy loss (BCE) (5%)\n",
        "Compute the binary cross-entropy loss $L$, using the following formula:  $$-\\frac{1}{n} \\sum\\limits_{i = 1}^{n} (y^{(i)}\\log\\left(a^{[L] (i)}+ϵ\\right) + (1-y^{(i)})\\log\\left(1- a^{[L](i)}+ϵ\\right)), where\\ ϵ=1e-5$$"
      ]
    },
    {
      "cell_type": "code",
      "execution_count": 13,
      "metadata": {
        "id": "MjBT0eYQaY81"
      },
      "outputs": [],
      "source": [
        "# GRADED FUNCTION: compute_BCE_loss\n",
        "\n",
        "def compute_BCE_loss(AL, Y):\n",
        "    \"\"\"\n",
        "    Implement the binary cross-entropy loss function using the above formula.\n",
        "\n",
        "    Arguments:\n",
        "    AL -- probability vector corresponding to your label predictions, shape (n, 1)\n",
        "    Y -- true \"label\" vector (for example: containing 0 if non-cat, 1 if cat), shape (n, 1)\n",
        "\n",
        "    Returns:\n",
        "    loss -- binary cross-entropy loss\n",
        "    \"\"\"\n",
        "\n",
        "    n = Y.shape[0]\n",
        "\n",
        "    # Compute loss from aL and y.\n",
        "    ### START CODE HERE ### (≈ 1 line of code)\n",
        "    loss = - (1 / n) * np.sum(Y * np.log(AL + 1e-5) + (1 - Y) * np.log(1 - AL + 1e-5))\n",
        "    ### END CODE HERE ###\n",
        "\n",
        "    loss = np.squeeze(loss)      # To make sure your loss's shape is what we expect (e.g. this turns [[17]] into 17).\n",
        "    assert(loss.shape == ())\n",
        "\n",
        "    return loss"
      ]
    },
    {
      "cell_type": "markdown",
      "metadata": {
        "id": "LoV03IzimBEN"
      },
      "source": [
        "### Test your **compute_BCE_loss**"
      ]
    },
    {
      "cell_type": "code",
      "execution_count": 14,
      "metadata": {
        "id": "r07sqnIXaaMv",
        "colab": {
          "base_uri": "https://localhost:8080/"
        },
        "outputId": "324ebf18-ab52-4974-92ce-c415148854ac"
      },
      "outputs": [
        {
          "output_type": "stream",
          "name": "stdout",
          "text": [
            "loss = 0.5783820772863568\n"
          ]
        }
      ],
      "source": [
        "AL, Y = np.array([[0.9], [0.6], [0.4], [0.1], [0.2], [0.8]]), np.array([[1], [1], [1], [0], [0], [0]])\n",
        "\n",
        "print(\"loss = \" + str(compute_BCE_loss(AL, Y)))\n",
        "outputs[\"compute_BCE_loss\"] = compute_BCE_loss(np.array([[0.12], [0.85], [0.47], [0.33], [0.76], [0.58], [0.09], [0.62]]), np.array([[1], [1], [0], [1], [0], [1], [1], [0]]))"
      ]
    },
    {
      "cell_type": "markdown",
      "metadata": {
        "id": "4iRtgOx_IGPo"
      },
      "source": [
        "Expected output:\n",
        "<table>\n",
        "  <tr>\n",
        "    <td>loss: </td>\n",
        "    <td>0.5783820772863568</td>\n",
        "  </tr>\n",
        "</table>"
      ]
    },
    {
      "cell_type": "markdown",
      "metadata": {
        "id": "aealRyKbcQzG"
      },
      "source": [
        "## Part 2: Categorical cross-entropy loss (CCE) (5%)\n",
        "Compute the categorical cross-entropy loss $L$, using the following formula: $$-\\frac{1}{n} \\sum\\limits_{i = 1}^{n} (y^{(i)}\\log\\left(a^{[L] (i)}+ϵ\\right)),\\ ϵ = 1e-5$$\n",
        "\n",
        "\n",
        "\n",
        "\n",
        "\n"
      ]
    },
    {
      "cell_type": "code",
      "execution_count": 15,
      "metadata": {
        "id": "Owx-kTdcfxV5"
      },
      "outputs": [],
      "source": [
        "# GRADED FUNCTION: compute_CCE_loss\n",
        "\n",
        "def compute_CCE_loss(AL, Y):\n",
        "    \"\"\"\n",
        "    Implement the categorical cross-entropy loss function using the above formula.\n",
        "\n",
        "    Arguments:\n",
        "    AL -- probability vector corresponding to your label predictions, shape (n, C)\n",
        "    Y -- true \"label\" vector (one hot vector, for example: [1,0,0] represents rock, [0,1,0] represents paper, [0,0,1] represents scissors\n",
        "                                      in a Rock-Paper-Scissors, shape: (n, C)\n",
        "\n",
        "    Returns:\n",
        "    loss -- categorical cross-entropy loss\n",
        "    \"\"\"\n",
        "\n",
        "    n = Y.shape[0]\n",
        "\n",
        "    # Compute loss from aL and y.\n",
        "    ### START CODE HERE ### (≈ 1 line of code)\n",
        "    loss = - (1 / n) * np.sum(Y * np.log(AL + 1e-5))\n",
        "    ### END CODE HERE ###\n",
        "\n",
        "    loss = np.squeeze(loss)      # To make sure your loss's shape is what we expect (e.g. this turns [[17]] into 17).\n",
        "    assert(loss.shape == ())\n",
        "\n",
        "    return loss"
      ]
    },
    {
      "cell_type": "markdown",
      "metadata": {
        "id": "KSOsacYQmNAb"
      },
      "source": [
        "### Test your **compute_CCE_loss**"
      ]
    },
    {
      "cell_type": "code",
      "execution_count": 16,
      "metadata": {
        "id": "0YbHVAc7hSh3",
        "colab": {
          "base_uri": "https://localhost:8080/"
        },
        "outputId": "50746ad8-f779-4f26-f26d-111b2a953b28"
      },
      "outputs": [
        {
          "output_type": "stream",
          "name": "stdout",
          "text": [
            "loss = 0.4722526144672341\n"
          ]
        }
      ],
      "source": [
        "AL, Y = np.array([[0.8, 0.1, 0.1],[0.6, 0.3, 0.1],[0.4, 0.5, 0.1],[0.1, 0.7, 0.2],[0.2, 0.1, 0.7],[0.4, 0.1, 0.5]]), np.array([[1, 0, 0],[1, 0, 0],[0, 1, 0],[0, 1, 0],[0, 0, 1],[0, 0, 1]])\n",
        "print(\"loss = \" + str(compute_CCE_loss(AL, Y)))\n",
        "outputs[\"compute_CCE_loss\"] = compute_CCE_loss(np.array([[0.7, 0.2, 0.1], [0.2, 0.2, 0.6], [0.3, 0.5, 0.2], [0.8, 0.1, 0.1], [0.7, 0.15, 0.15]]), np.array([[1, 0, 0], [1, 0, 0], [0, 1, 0], [1, 0, 0], [0, 0, 1]]))"
      ]
    },
    {
      "cell_type": "markdown",
      "metadata": {
        "id": "p9VVIBB5Ic-D"
      },
      "source": [
        "Expected output:\n",
        "<table>\n",
        "  <tr>\n",
        "    <td>loss: </td>\n",
        "    <td>0.4722526144672341</td>\n",
        "  </tr>\n",
        "</table>"
      ]
    },
    {
      "cell_type": "markdown",
      "metadata": {
        "id": "V_XIpJtBpiAX"
      },
      "source": [
        "## Part 3: Mean square error (MSE) (0%)\n",
        "You don't need to write this part."
      ]
    },
    {
      "cell_type": "code",
      "execution_count": 17,
      "metadata": {
        "id": "6RHLNGsepygt"
      },
      "outputs": [],
      "source": [
        "# compute_MSE_loss (MSE)\n",
        "def compute_MSE_loss(AL, Y):\n",
        "    m = Y.shape[0]\n",
        "    loss = (1/m) * np.sum(np.square(AL - Y))\n",
        "    return loss"
      ]
    },
    {
      "cell_type": "markdown",
      "metadata": {
        "id": "v8_AYhzfqlbg"
      },
      "source": [
        "## **Section 3: Training and prediction(35%)**\n",
        "In this section, you will apply your implemented neural network to regression and binary classification tasks."
      ]
    },
    {
      "cell_type": "markdown",
      "metadata": {
        "id": "QpFQpiK5eF64"
      },
      "source": [
        "## Helper function\n"
      ]
    },
    {
      "cell_type": "code",
      "execution_count": 18,
      "metadata": {
        "id": "woCqucFUYXe6"
      },
      "outputs": [],
      "source": [
        "def predict(x, y_true, model):\n",
        "    \"\"\"\n",
        "    This function is used to predict the results of a  L-layer neural network.\n",
        "\n",
        "    Arguments:\n",
        "    x -- data set of examples you would like to label\n",
        "    model -- trained model\n",
        "\n",
        "    Returns:\n",
        "    y_pred -- predictions for the given dataset X\n",
        "    \"\"\"\n",
        "\n",
        "    n = x.shape[0]\n",
        "\n",
        "    # Forward propagation\n",
        "    y_pred = model.forward(x)\n",
        "\n",
        "    # this transform the output and label of binary classification when using sigmoid + cross entropy for evaluation\n",
        "    # eg. y_pred: [[0.8], [0.2], [0.1]] -> [[0.2, 0.8], [0.8, 0.2], [0.9, 0.1]]\n",
        "    # eg. y_true: [[1], [0], [0]] -> [[0, 1], [1, 0], [1, 0]]\n",
        "    if y_pred.shape[-1] == 1:\n",
        "        y_pred = np.array([[1 - y[0], y[0]] for y in y_pred])\n",
        "        if y_true is not None:\n",
        "            y_true = np.array([[1,0] if y == 0 else [0,1] for y in y_true.reshape(-1)])\n",
        "\n",
        "    # make y_pred/y_true become one-hot prediction result\n",
        "    # eg. y_true: [[1, 0, 0], [0, 0, 1], [0, 1, 0]] -> [0, 2, 1]\n",
        "    # eg. y_pred: [[0.2, 0.41, 0.39], [0.1, 0.8, 0.1], [0.1, 0.1, 0.8]] -> [1, 1, 2]\n",
        "    if y_true is not None:\n",
        "        y_true = np.argmax(y_true, axis=1)\n",
        "    y_pred = np.argmax(y_pred, axis=1)\n",
        "\n",
        "    if y_true is not None:\n",
        "        # compute accuracy\n",
        "        correct = 0\n",
        "        for yt, yp in zip(y_true, y_pred):\n",
        "            if yt == yp:\n",
        "                correct += 1\n",
        "        print(f\"Accuracy: {correct/n * 100:.2f}%\")\n",
        "\n",
        "        f1_scores = f1_score(y_true, y_pred, average=None)\n",
        "        print(f'f1 score for each class: {f1_scores}')\n",
        "        print(f'f1_macro score: {np.mean(np.array(f1_scores)):.2f}')\n",
        "\n",
        "    return y_pred\n",
        "\n",
        "def save_prediction_data(predicted_y):\n",
        "    # Create DataFrame with ID, x, and y columns\n",
        "    df = pd.DataFrame({\n",
        "        'ID': range(len(predicted_y)),  # Add ID column starting from 0\n",
        "        'y': predicted_y\n",
        "    })\n",
        "\n",
        "    # Ensure ID is the first column\n",
        "    df = df[['ID', 'y']]\n",
        "\n",
        "    # Save to CSV file\n",
        "    df.to_csv('Lab4_basic_regression.csv', index=False)\n",
        "    print(\"Prediction data saved as 'Lab4_basic_regression.csv'\")\n",
        "\n",
        "def animate_training(history, X_train, Y_train):\n",
        "    fig, ax = plt.subplots()\n",
        "    ax.set_xlim(0, 11)\n",
        "    ax.set_ylim(-5, 5)\n",
        "    line, = ax.plot([], [], 'b-', lw=1, label='Predicted')\n",
        "\n",
        "    ground_truth_x = X_train.flatten()\n",
        "    ground_truth_y = Y_train.flatten()\n",
        "    ax.plot(ground_truth_x, ground_truth_y, 'r-', lw=1, label='Ground Truth')\n",
        "\n",
        "    # show current epoch on the animation / 100 epoch\n",
        "    epoch_text = ax.text(0.05, 0.95, '', transform=ax.transAxes, fontsize=12, verticalalignment='top')\n",
        "\n",
        "    def init():\n",
        "        line.set_data([], [])\n",
        "        epoch_text.set_text('')\n",
        "        return line, epoch_text\n",
        "\n",
        "    def update(frame):\n",
        "        epoch = (frame + 1) * 100\n",
        "        _, predicted_y = history[frame]\n",
        "        predicted_x = X_train.flatten()\n",
        "        line.set_data(predicted_x, predicted_y.flatten())\n",
        "\n",
        "        epoch_text.set_text(f'Epoch: {epoch}')\n",
        "\n",
        "        return line, epoch_text\n",
        "\n",
        "    ani = FuncAnimation(fig, update, frames=len(history), init_func=init, blit=True, interval=50)\n",
        "\n",
        "    # save as gif\n",
        "    ani.save('Lab4_basic_regression.gif', writer='pillow')\n",
        "    plt.close(fig)\n",
        "    print(f\"Animation saved as 'Lab4_basic_regression.gif'\")\n",
        "\n",
        "\n",
        "def save_final_result(model, X_train, Y_train):\n",
        "    AL = model.forward(X_train)\n",
        "\n",
        "    predicted_x = X_train.flatten()\n",
        "    predicted_y = AL.flatten()\n",
        "\n",
        "    plt.plot(predicted_x, predicted_y, 'b-', label=\"Predicted\", lw=1)\n",
        "\n",
        "    ground_truth_x = X_train.flatten()\n",
        "    ground_truth_y = Y_train.flatten()\n",
        "\n",
        "    save_prediction_data(predicted_y)\n",
        "\n",
        "    plt.plot(ground_truth_x, ground_truth_y, 'r-', label='Ground Truth', lw=1)\n",
        "\n",
        "    plt.legend()\n",
        "\n",
        "    plt.ylim(-5, 5)\n",
        "    plt.xlim(0, 11)\n",
        "    plt.savefig(\"Lab4_basic_regression.jpg\")\n",
        "    plt.show()\n",
        "    print(\"Prediction saved as 'Lab4_basic_regression.jpg'\")\n",
        "\n"
      ]
    },
    {
      "cell_type": "markdown",
      "metadata": {
        "id": "TgVRVmOYG9FK"
      },
      "source": [
        "## Part1: Training function & batch function (5%)\n",
        "The functions defined in this part will be utilized in the subsequent training parts."
      ]
    },
    {
      "cell_type": "code",
      "execution_count": 19,
      "metadata": {
        "id": "fjOBHI0bGVE7"
      },
      "outputs": [],
      "source": [
        "def random_mini_batches(X, Y, mini_batch_size = 64):\n",
        "    \"\"\"\n",
        "    Creates a list of random minibatches from (X, Y)\n",
        "\n",
        "    Arguments:\n",
        "    X -- input data, of shape (n, f^{0})\n",
        "    Y -- true \"label\" vector, of shape (n, C)\n",
        "    mini_batch_size -- size of the mini-batches, integer\n",
        "\n",
        "    Returns:\n",
        "    mini_batches -- list of synchronous (mini_batch_X, mini_batch_Y)\n",
        "    \"\"\"\n",
        "\n",
        "    m = X.shape[0]                  # number of training examples\n",
        "    mini_batches = []\n",
        "    ### START CODE HERE ###\n",
        "\n",
        "    # Step 1: Shuffle (X, Y)\n",
        "    permutation = list(np.random.permutation(m))\n",
        "    shuffled_X = X[permutation, :]\n",
        "    shuffled_Y = Y[permutation, :]\n",
        "\n",
        "    # Step 2 - Partition (shuffled_X, shuffled_Y).\n",
        "    # Cases with a complete mini batch size only i.e each of 64 examples.\n",
        "    num_complete_minibatches = math.floor(m / mini_batch_size) # number of mini batches of size mini_batch_size in your partitionning\n",
        "    for k in range(0, num_complete_minibatches):\n",
        "        mini_batch_X = shuffled_X[k * mini_batch_size:(k + 1) * mini_batch_size, :]\n",
        "        mini_batch_Y = shuffled_Y[k * mini_batch_size:(k + 1) * mini_batch_size, :]\n",
        "        mini_batch = (mini_batch_X, mini_batch_Y)\n",
        "        mini_batches.append(mini_batch)\n",
        "\n",
        "    # For handling the end case (last mini-batch < mini_batch_size i.e less than 64)\n",
        "    if m % mini_batch_size != 0:\n",
        "        mini_batch_X = shuffled_X[num_complete_minibatches * mini_batch_size:, :]\n",
        "        mini_batch_Y = shuffled_Y[num_complete_minibatches * mini_batch_size:, :]\n",
        "        mini_batch = (mini_batch_X, mini_batch_Y)\n",
        "        mini_batches.append(mini_batch)\n",
        "    ### END CODE HERE ###\n",
        "\n",
        "    return mini_batches\n",
        "\n",
        "def train_model(model, X_train, Y_train, learning_rate, num_iterations, batch_size=None, print_loss=True, print_freq=1000, decrease_freq=100, decrease_proportion=0.99):\n",
        "    \"\"\"\n",
        "    Trains the model using mini-batch gradient descent\n",
        "\n",
        "    Arguments:\n",
        "    model -- the model to be trained\n",
        "    X_train -- training set, of shape (num_px * num_px * 3, m_train)\n",
        "    Y_train -- training labels, of shape (1, m_train)\n",
        "    learning_rate -- learning rate of the gradient descent update rule\n",
        "    num_iterations -- number of iterations of the optimization loop\n",
        "    batch_size -- size of a mini batch\n",
        "    print_loss -- if True, print the loss every print_freq iterations\n",
        "    print_freq -- print frequency\n",
        "    decrease_freq -- learning rate decrease frequency\n",
        "    decrease_proportion -- learning rate decrease proportion\n",
        "\n",
        "    Returns:\n",
        "    model -- the trained model\n",
        "    losses -- list of losses computed during the optimization\n",
        "    history -- list of (X_train, Y_pred) tuples for visualization\n",
        "    \"\"\"\n",
        "\n",
        "    history = []\n",
        "    losses = []\n",
        "\n",
        "    for i in range(num_iterations):\n",
        "        ### START CODE HERE ###\n",
        "        # Define mini batches\n",
        "        if batch_size:\n",
        "            mini_batches = random_mini_batches(X_train, Y_train, batch_size)\n",
        "        else:\n",
        "            # if batch_size is None, batch is not used, mini_batch = whole dataset\n",
        "            mini_batches = [(X_train, Y_train)]\n",
        "\n",
        "        epoch_loss = 0\n",
        "        for batch in mini_batches:\n",
        "            X_batch, Y_batch = batch\n",
        "\n",
        "            # Forward pass\n",
        "            AL = model.forward(X_batch)\n",
        "\n",
        "            # Compute loss\n",
        "            if model.loss_function == 'cross_entropy':\n",
        "                if model.activation_functions[-1] == \"sigmoid\": # Binary classification\n",
        "                    loss = compute_BCE_loss(AL, Y_batch)\n",
        "                elif model.activation_functions[-1] == \"softmax\": # Multi-class classification\n",
        "                    loss = compute_CCE_loss(AL, Y_batch)\n",
        "            elif model.loss_function == 'mse': # Regression\n",
        "                loss = compute_MSE_loss(AL, Y_batch)\n",
        "            epoch_loss += loss\n",
        "\n",
        "            # Backward pass\n",
        "            model.backward(AL, Y_batch)\n",
        "\n",
        "            # Update parameters\n",
        "            model.update(learning_rate)\n",
        "\n",
        "        epoch_loss /= len(mini_batches)\n",
        "        losses.append(epoch_loss)\n",
        "        ### END CODE HERE ###\n",
        "\n",
        "        # Print loss\n",
        "        if print_loss and i % print_freq == 0:\n",
        "            print(f\"Loss after iteration {i}: {epoch_loss}\")\n",
        "\n",
        "        # Store history\n",
        "        if i % 100 == 0:\n",
        "            history.append((X_train, model.forward(X_train)))\n",
        "\n",
        "        # Decrease learning rate\n",
        "        if i % decrease_freq == 0 and i > 0:\n",
        "            learning_rate *= decrease_proportion\n",
        "\n",
        "    return model, losses, history\n"
      ]
    },
    {
      "cell_type": "markdown",
      "metadata": {
        "id": "C2D8lubAw8pX"
      },
      "source": [
        "## Part 2: Regression (10%)\n",
        "In this part, Your task is to train a neural network model to approximate the following mathematical function:\n",
        "\n",
        "$$y = sin(2 * sin(2 * sin(2 * sin(x))))$$"
      ]
    },
    {
      "cell_type": "markdown",
      "metadata": {
        "id": "_-ksy7v-Hrrt"
      },
      "source": [
        "> ### Step 1: Data generation\n",
        "Generate the mathematical function :  $$y = sin(2 * sin(2 * sin(2 * sin(x))))$$"
      ]
    },
    {
      "cell_type": "code",
      "execution_count": null,
      "metadata": {
        "id": "0yRO6y_FyLPM"
      },
      "outputs": [],
      "source": [
        "def generate_data(num_points=1000):\n",
        "\n",
        "    x = np.linspace(0.01, 11, num_points)\n",
        "    y = np.sin(2 * np.sin(2 * np.sin(2 * np.sin(x))))\n",
        "\n",
        "    return x.reshape(-1, 1), y.reshape(-1, 1)"
      ]
    },
    {
      "cell_type": "markdown",
      "metadata": {
        "id": "VC_BxLJJHxHD"
      },
      "source": [
        "> ### Step 2: Train model\n",
        "Implement and train your model using the generated data."
      ]
    },
    {
      "cell_type": "code",
      "execution_count": null,
      "metadata": {
        "id": "alsJ4F6eHZ2a",
        "colab": {
          "base_uri": "https://localhost:8080/",
          "height": 680
        },
        "outputId": "07d0af03-5a60-4348-c587-69e0e42c86d3"
      },
      "outputs": [
        {
          "output_type": "stream",
          "name": "stdout",
          "text": [
            "Loss after iteration 0: 1.3733164106301052\n",
            "Loss after iteration 1000: 0.6864297233611059\n",
            "Loss after iteration 2000: 0.23900717029166627\n",
            "Loss after iteration 3000: 0.3373996092603628\n",
            "Loss after iteration 4000: 0.1644927636996238\n",
            "Loss after iteration 5000: 0.13328809148386478\n",
            "Loss after iteration 6000: 0.11024528634695267\n",
            "Loss after iteration 7000: 0.09684735396201431\n",
            "Loss after iteration 8000: 0.0791949631563673\n",
            "Loss after iteration 9000: 0.054037930396322785\n",
            "Loss after iteration 10000: 0.06334944277208963\n",
            "Loss after iteration 11000: 0.04198958378680219\n",
            "Loss after iteration 12000: 0.0339082460898769\n",
            "Loss after iteration 13000: 0.02779529036163775\n",
            "Loss after iteration 14000: 0.020310370262463837\n",
            "Loss after iteration 15000: 0.013058741827853463\n",
            "Loss after iteration 16000: 0.008454607526048565\n",
            "Loss after iteration 17000: 0.005503099329684332\n",
            "Loss after iteration 18000: 0.003196150686139742\n",
            "Loss after iteration 19000: 0.0026521588426836537\n"
          ]
        },
        {
          "output_type": "display_data",
          "data": {
            "text/plain": [
              "<Figure size 500x300 with 1 Axes>"
            ],
            "image/png": "[encoded data removed]"
          },
          "metadata": {}
        }
      ],
      "source": [
        "### START CODE HERE ###\n",
        "x_train, y_train = generate_data()\n",
        "loss_function = 'mse'\n",
        "layers_dims = [1, 50, 50, 50, 50, 50, 50, 1]  # Input layer -> 2 hidden layers -> Output layer\n",
        "activation_fn = ['relu', 'relu', 'relu', 'relu', 'relu', 'relu', 'linear']\n",
        "learning_rate = 0.1\n",
        "num_iterations = 20000\n",
        "print_loss = True\n",
        "print_freq = 1000\n",
        "decrease_freq = 100\n",
        "decrease_proportion = 0.99\n",
        "# You don't necessarily need to use mini_batch in this part\n",
        "batch_size = None\n",
        "\n",
        "model = Model(layers_dims, activation_fn, loss_function)\n",
        "model, losses, history = train_model(model, x_train, y_train, learning_rate, num_iterations, batch_size, print_loss, print_freq, decrease_freq, decrease_proportion)\n",
        "### END CODE HERE ###\n",
        "\n",
        "# Plot the loss\n",
        "plt.figure(figsize=(5, 3))\n",
        "plt.plot(losses)\n",
        "plt.xlabel('Iterations')\n",
        "plt.ylabel('Loss')\n",
        "plt.title(f'Training Loss (Initial LR: {learning_rate})')\n",
        "plt.show()"
      ]
    },
    {
      "cell_type": "markdown",
      "metadata": {
        "id": "rQQtLyFgL4WD"
      },
      "source": [
        "> ### Step 3: Save prediction\n",
        "Save your model's predictions to:\n",
        "> * *Lab4_basic_regression.csv*\n",
        "> * *Lab4_basic_regression.jpg*\n",
        "> * *Lab4_basic_regression.gif*"
      ]
    },
    {
      "cell_type": "code",
      "execution_count": null,
      "metadata": {
        "id": "0uwle3uqL9Em",
        "colab": {
          "base_uri": "https://localhost:8080/",
          "height": 482
        },
        "outputId": "4fd05659-fb97-481c-dd3c-be8df9943527"
      },
      "outputs": [
        {
          "output_type": "stream",
          "name": "stdout",
          "text": [
            "Prediction data saved as 'Lab4_basic_regression.csv'\n"
          ]
        },
        {
          "output_type": "display_data",
          "data": {
            "text/plain": [
              "<Figure size 640x480 with 1 Axes>"
            ],
            "image/png": "[encoded data removed]"
          },
          "metadata": {}
        },
        {
          "output_type": "stream",
          "name": "stdout",
          "text": [
            "Prediction saved as 'Lab4_basic_regression.jpg'\n",
            "Animation saved as 'Lab4_basic_regression.gif'\n"
          ]
        }
      ],
      "source": [
        "save_final_result(model, x_train, y_train)\n",
        "animate_training(history, x_train, y_train)"
      ]
    },
    {
      "cell_type": "markdown",
      "metadata": {
        "id": "JX-kDur7xKOW"
      },
      "source": [
        "## Part 3: Binary classification (10%)\n",
        "\n",
        "You will train a model to perform binary classification. Your task is to predict whether an optical coherence tomography (OCT) image shows Choroidal Neovascularization (CNV) or is normal.\n",
        "\n",
        "- Data: OCT scan image of retina\n",
        "- Classes:\n",
        "  - CNV: label = 1\n",
        "  - Normal: label = 0\n",
        "\n",
        "- Data Description:\n",
        "  - Input: Grayscale images (28x28 pixels)\n",
        "  - Training set size: 20000 images\n",
        "  - Testing set size: 5000 images\n"
      ]
    },
    {
      "cell_type": "markdown",
      "metadata": {
        "id": "vAvUwG1uSLg_"
      },
      "source": [
        "> ### Step 1: Read data & split data\n",
        "Load *basic_data.npz* and prepare it for training by splitting into training and validation sets."
      ]
    },
    {
      "cell_type": "code",
      "execution_count": null,
      "metadata": {
        "id": "Hp8M93z7v_lO",
        "colab": {
          "base_uri": "https://localhost:8080/",
          "height": 850
        },
        "outputId": "9391fd43-13b0-47b9-a815-2cfa8836c68e"
      },
      "outputs": [
        {
          "output_type": "display_data",
          "data": {
            "text/plain": [
              "<Figure size 500x500 with 9 Axes>"
            ],
            "image/png": "[encoded data removed]"
          },
          "metadata": {}
        },
        {
          "output_type": "display_data",
          "data": {
            "text/plain": [
              "<Figure size 200x200 with 1 Axes>"
            ],
            "image/png": "[encoded data removed]"
          },
          "metadata": {}
        },
        {
          "output_type": "stream",
          "name": "stdout",
          "text": [
            "Train: x=(20000, 784), y=(20000, 1)\n",
            "Test: x=(5000, 784)\n",
            "\n",
            "After splitting:\n",
            "x_train: (16000, 784) | y_train: (16000, 1)\n",
            "x_val: (4000, 784) | y_val: (4000, 1)\n"
          ]
        }
      ],
      "source": [
        "# Load data\n",
        "data = np.load('basic_data.npz')\n",
        "X_train = data[\"x_train\"]\n",
        "Y_train = data[\"y_train\"]\n",
        "X_test = data[\"x_test\"]\n",
        "\n",
        "# Display sample images with labels\n",
        "class_names_binary = {0: 'Normal', 1: 'CNV'}\n",
        "plt.figure(figsize=(5, 5))\n",
        "for i in range(9):\n",
        "    plt.subplot(330 + 1 + i)\n",
        "    plt.imshow(X_train[i].reshape(28, 28), cmap='gray', vmin=0, vmax=255)\n",
        "    plt.title(f'Label: {int(Y_train[i])} ({class_names_binary[int(Y_train[i])]})', fontsize=8)\n",
        "    plt.axis('off')\n",
        "plt.tight_layout()\n",
        "plt.show()\n",
        "\n",
        "# Data preprocessing\n",
        "### START CODE HERE ###\n",
        "\n",
        "# Normalize X data to [0,1] range\n",
        "X_train = X_train / 255.0\n",
        "X_test = X_test / 255.0\n",
        "# Reshape Y_train to 2D array\n",
        "Y_train = Y_train.reshape(-1, 1)\n",
        "### END CODE HERE ###\n",
        "\n",
        "# Plot data distribution\n",
        "Y_train_1 = np.sum(Y_train == 1)\n",
        "Y_train_0 = np.sum(Y_train == 0)\n",
        "plt.figure(figsize=(2, 2))\n",
        "plt.bar([0, 1], [Y_train_0, Y_train_1])\n",
        "plt.title('Data distribution')\n",
        "plt.xlabel('Label')\n",
        "plt.ylabel('Count')\n",
        "plt.show()\n",
        "\n",
        "print('Train: x=%s, y=%s' % (X_train.shape, Y_train.shape))\n",
        "print('Test: x=%s' % (X_test.shape, ))\n",
        "\n",
        "# Train-validation split\n",
        "### START CODE HERE ###\n",
        "# Choose the ratio for splitting\n",
        "split_ratio = 0.8  # changable\n",
        "\n",
        "# Split the data into training and validation sets\n",
        "split_index = int(split_ratio * X_train.shape[0])\n",
        "x_train = X_train[:split_index]\n",
        "y_train = Y_train[:split_index]\n",
        "x_val = X_train[split_index:]\n",
        "y_val = Y_train[split_index:]\n",
        "### END CODE HERE ###\n",
        "\n",
        "print(\"\\nAfter splitting:\")\n",
        "print(\"x_train:\", x_train.shape, \"| y_train:\", y_train.shape)\n",
        "print(\"x_val:\", x_val.shape, \"| y_val:\", y_val.shape)"
      ]
    },
    {
      "cell_type": "markdown",
      "metadata": {
        "id": "r01QzzHxeMbR"
      },
      "source": [
        "> ### Step 2: Training and Evaluation\n",
        "Train your model on the prepared OCT image data and evaluate its performance in distinguishing between CNV and normal retinal conditions."
      ]
    },
    {
      "cell_type": "code",
      "execution_count": null,
      "metadata": {
        "id": "fI7JY5ESjhZ2",
        "colab": {
          "base_uri": "https://localhost:8080/",
          "height": 767
        },
        "outputId": "cb092d0d-3d5d-477e-9e47-1400099431fb"
      },
      "outputs": [
        {
          "output_type": "stream",
          "name": "stdout",
          "text": [
            "Loss after iteration 0: 0.6869410947613255\n",
            "Loss after iteration 200: 0.11749114504317433\n",
            "Loss after iteration 400: 0.03205881137697704\n",
            "Loss after iteration 600: 0.005890383068275717\n",
            "Loss after iteration 800: 0.002111758732404831\n",
            "Loss after iteration 1000: 0.0011531733755235543\n",
            "Loss after iteration 1200: 0.0007901702175568514\n",
            "Loss after iteration 1400: 0.0005914965757713456\n",
            "Loss after iteration 1600: 0.0004702986050872081\n",
            "Loss after iteration 1800: 0.00038393526904785416\n",
            "Loss after iteration 2000: 0.0003214793858916199\n",
            "Loss after iteration 2200: 0.00027951901147353896\n",
            "Loss after iteration 2400: 0.0002464376947384251\n",
            "Loss after iteration 2600: 0.0002194868031006018\n",
            "Loss after iteration 2800: 0.0001968019996612038\n",
            "Loss after iteration 3000: 0.00017829111579847003\n",
            "Loss after iteration 3200: 0.00016388774868278464\n",
            "Loss after iteration 3400: 0.0001514052677453164\n",
            "Loss after iteration 3600: 0.0001407875861746016\n",
            "Loss after iteration 3800: 0.0001305590803415533\n",
            "Loss after iteration 4000: 0.00012246876583310148\n",
            "Loss after iteration 4200: 0.00011521751991010712\n",
            "Loss after iteration 4400: 0.00010896005538922572\n",
            "Loss after iteration 4600: 0.00010313043405891721\n",
            "Loss after iteration 4800: 9.787083560774231e-05\n"
          ]
        },
        {
          "output_type": "display_data",
          "data": {
            "text/plain": [
              "<Figure size 500x300 with 1 Axes>"
            ],
            "image/png": "[encoded data removed]"
          },
          "metadata": {}
        }
      ],
      "source": [
        "### START CODE HERE ###\n",
        "loss_function = 'cross_entropy'\n",
        "layers_dims = [28*28, 64, 32, 1]  # Input layer -> 2 hidden layers -> Output layer\n",
        "activation_fn = ['relu', 'relu', 'sigmoid']\n",
        "learning_rate = 0.01\n",
        "num_iterations = 5000\n",
        "print_loss = True\n",
        "print_freq = 200\n",
        "decrease_freq = 1000\n",
        "decrease_proportion = 0.9\n",
        "# You might need to use mini_batch to reduce training time in this part\n",
        "batch_size = 64\n",
        "\n",
        "model = Model(layers_dims, activation_fn, loss_function)\n",
        "model, losses, history = train_model(model, x_train, y_train, learning_rate, num_iterations, batch_size, print_loss, print_freq, decrease_freq, decrease_proportion)\n",
        "### END CODE HERE ###\n",
        "\n",
        "# Plot the loss\n",
        "plt.figure(figsize=(5, 3))\n",
        "plt.plot(losses)\n",
        "plt.xlabel('Iterations')\n",
        "plt.ylabel('Loss')\n",
        "plt.title(f'Training Loss (Initial LR: {learning_rate})')\n",
        "plt.show()"
      ]
    },
    {
      "cell_type": "code",
      "execution_count": null,
      "metadata": {
        "id": "U8q0a20XcPtk",
        "colab": {
          "base_uri": "https://localhost:8080/"
        },
        "outputId": "87230e44-e67a-4752-93c3-738f07bc4483"
      },
      "outputs": [
        {
          "output_type": "stream",
          "name": "stdout",
          "text": [
            "training------\n",
            "Accuracy: 100.00%\n",
            "f1 score for each class: [1. 1.]\n",
            "f1_macro score: 1.00\n",
            "validation------\n",
            "Accuracy: 93.27%\n",
            "f1 score for each class: [0.93163914 0.93382534]\n",
            "f1_macro score: 0.93\n"
          ]
        }
      ],
      "source": [
        "print('training------')\n",
        "pred_train = predict(x_train, y_train, model)\n",
        "print('validation------')\n",
        "pred_val = predict(x_val, y_val, model)"
      ]
    },
    {
      "cell_type": "markdown",
      "metadata": {
        "id": "rqtnepD-6I20"
      },
      "source": [
        "> ### Step 3: Save prediction\n",
        "Save your model's predictions to: *Lab4_basic.csv*"
      ]
    },
    {
      "cell_type": "code",
      "execution_count": null,
      "metadata": {
        "id": "mERo3g41zsyX",
        "colab": {
          "base_uri": "https://localhost:8080/"
        },
        "outputId": "a7363f08-bc8b-4eb5-9067-4949d4734d7a"
      },
      "outputs": [
        {
          "output_type": "stream",
          "name": "stdout",
          "text": [
            "Prediction data saved as 'Lab4_basic.csv'\n"
          ]
        }
      ],
      "source": [
        "pred_test = predict(X_test, None, model)\n",
        "df = pd.DataFrame({\n",
        "    'ID': range(len(pred_test)),\n",
        "    'Label': pred_test.flatten()\n",
        "})\n",
        "\n",
        "df.to_csv('Lab4_basic.csv', index=False)\n",
        "print(\"Prediction data saved as 'Lab4_basic.csv'\")"
      ]
    },
    {
      "cell_type": "markdown",
      "metadata": {
        "id": "oMCpPFMVdj36"
      },
      "source": [
        "# **Advanced Part (30%)**\n",
        "\n",
        "You will train a model to perform multi-class classification on medical imaging data. Your task is to classify optical coherence tomography (OCT) images of retinal conditions into four different categories.\n",
        "\n",
        "- Data: OCT scan images of retina\n",
        "- Classes:\n",
        "  - CNV (Choroidal Neovascularization): label = 0\n",
        "  - DME (Diabetic Macular Edema): label = 1\n",
        "  - Drusen: label = 2\n",
        "  - Normal: label = 3\n",
        "\n",
        "- Data Description:\n",
        "  - Input: Grayscale images (28x28 pixels)\n",
        "  - Training set size: 37754 images\n",
        "  - Testing set size: 6997 images\n",
        "\n",
        "**Notes:** You can implement other functions to improve your rankings"
      ]
    },
    {
      "cell_type": "markdown",
      "metadata": {
        "id": "I_GQ3uO128OC"
      },
      "source": [
        "## Step 1: Read data & split data\n",
        "\n",
        "Load *advanced_data.npz* and prepare it for training by splitting into training and validation sets."
      ]
    },
    {
      "cell_type": "code",
      "execution_count": 20,
      "metadata": {
        "id": "bVSfqnXqXGdC",
        "colab": {
          "base_uri": "https://localhost:8080/",
          "height": 954
        },
        "outputId": "4530ade9-a173-45b2-8c4f-7e683cf06d95"
      },
      "outputs": [
        {
          "output_type": "stream",
          "name": "stdout",
          "text": [
            "Initial shapes:\n",
            "Train: X=(37754, 784), Y=(37754,)\n",
            "Test: X=(3000, 784)\n"
          ]
        },
        {
          "output_type": "display_data",
          "data": {
            "text/plain": [
              "<Figure size 500x500 with 9 Axes>"
            ],
            "image/png": "[encoded data removed]"
          },
          "metadata": {}
        },
        {
          "output_type": "stream",
          "name": "stdout",
          "text": [
            "\n",
            "After preprocessing:\n",
            "shape of X_train: (37754, 784)\n",
            "shape of Y_train: (37754, 4)\n",
            "shape of X_test: (3000, 784)\n"
          ]
        },
        {
          "output_type": "display_data",
          "data": {
            "text/plain": [
              "<Figure size 200x200 with 1 Axes>"
            ],
            "image/png": "[encoded data removed]"
          },
          "metadata": {}
        },
        {
          "output_type": "stream",
          "name": "stdout",
          "text": [
            "\n",
            "After splitting:\n",
            "x_train: (37750, 784) | y_train: (37750, 4)\n",
            "x_val: (4, 784) | y_val: (4, 4)\n"
          ]
        }
      ],
      "source": [
        "# Load data\n",
        "data = np.load('advanced_data.npz')\n",
        "X_train = data[\"x_train\"]\n",
        "Y_train = data[\"y_train\"]\n",
        "X_test = data[\"x_test\"]\n",
        "\n",
        "print(f'Initial shapes:')\n",
        "print(f'Train: X={X_train.shape}, Y={Y_train.shape}')\n",
        "print(f'Test: X={X_test.shape}')\n",
        "\n",
        "# Display sample images with labels\n",
        "class_names = {0: 'CNV', 1: 'DME', 2: 'Drusen', 3: 'Normal'}\n",
        "plt.figure(figsize=(5, 5))\n",
        "for i in range(9):\n",
        "    plt.subplot(330 + 1 + i)\n",
        "    plt.imshow(X_train[i].reshape(28, 28), cmap='gray', vmin=0, vmax=255)\n",
        "    plt.title(f'Label: {int(Y_train[i])} ({class_names[int(Y_train[i])]})', fontsize=8)\n",
        "    plt.axis('off')\n",
        "plt.tight_layout()\n",
        "plt.show()\n",
        "\n",
        "# Data preprocessing\n",
        "### START CODE HERE ###\n",
        "# Convert labels to one-hot encoding\n",
        "num_classes = 4  # OCT has 4 classes\n",
        "Y_train = np.eye(num_classes)[Y_train.reshape(-1)]\n",
        "\n",
        "# Normalize X data to [0,1] range\n",
        "X_train = X_train / 255.0\n",
        "X_test = X_test / 255.0\n",
        "### END CODE HERE ###\n",
        "\n",
        "print(\"\\nAfter preprocessing:\")\n",
        "print(\"shape of X_train:\", X_train.shape)\n",
        "print(\"shape of Y_train:\", Y_train.shape)\n",
        "print(\"shape of X_test:\", X_test.shape)\n",
        "\n",
        "# Plot class distribution before splitting\n",
        "orig_labels = np.argmax(Y_train, axis=1)\n",
        "unique, counts = np.unique(orig_labels, return_counts=True)\n",
        "plt.figure(figsize=(2, 2))\n",
        "plt.bar(unique, counts)\n",
        "plt.title('Class Distribution')\n",
        "plt.xlabel('Class')\n",
        "plt.ylabel('Count')\n",
        "plt.show()\n",
        "\n",
        "# Train-validation split\n",
        "### START CODE HERE ###\n",
        "# Choose the ratio for splitting\n",
        "split_ratio = 0.9999\n",
        "\n",
        "# Split the data into training and validation sets\n",
        "split_index = int(split_ratio * X_train.shape[0])\n",
        "x_train = X_train[:split_index]\n",
        "y_train = Y_train[:split_index]\n",
        "x_val = X_train[split_index:]\n",
        "y_val = Y_train[split_index:]\n",
        "### END CODE HERE ###\n",
        "\n",
        "print(\"\\nAfter splitting:\")\n",
        "print(\"x_train:\", x_train.shape, \"| y_train:\", y_train.shape)\n",
        "print(\"x_val:\", x_val.shape, \"| y_val:\", y_val.shape)"
      ]
    },
    {
      "cell_type": "markdown",
      "metadata": {
        "id": "ngmUDGN13ADi"
      },
      "source": [
        "## Step 2: Training and Evaluation"
      ]
    },
    {
      "cell_type": "code",
      "execution_count": 21,
      "metadata": {
        "id": "pIi1A-1dFY0u",
        "colab": {
          "base_uri": "https://localhost:8080/",
          "height": 1000
        },
        "outputId": "41ef1dae-56e9-4a0a-a6c7-e28dedb4197a"
      },
      "outputs": [
        {
          "output_type": "stream",
          "name": "stdout",
          "text": [
            "Loss after iteration 0: 1.3759194809331734\n",
            "Loss after iteration 50: 0.6674669737277378\n",
            "Loss after iteration 100: 0.438341281790854\n",
            "Loss after iteration 150: 0.30272962129325376\n",
            "Loss after iteration 200: 0.19605375780248552\n",
            "Loss after iteration 250: 0.16135874668240135\n",
            "Loss after iteration 300: 0.12322225034505771\n",
            "Loss after iteration 350: 0.03238424696937683\n",
            "Loss after iteration 400: 0.022214969264725055\n",
            "Loss after iteration 450: 0.09723615687618546\n",
            "Loss after iteration 500: 0.007574720911708939\n",
            "Loss after iteration 550: 0.007237011465396034\n",
            "Loss after iteration 600: 0.006910261023873022\n",
            "Loss after iteration 650: 0.005932457477790823\n",
            "Loss after iteration 700: 0.005346033065256895\n",
            "Loss after iteration 750: 0.005603474237347068\n",
            "Loss after iteration 800: 0.005226964789909011\n",
            "Loss after iteration 850: 0.004593179630562922\n",
            "Loss after iteration 900: 0.00446210235003165\n",
            "Loss after iteration 950: 0.0047603897390069635\n",
            "Loss after iteration 1000: 0.004293020459529337\n",
            "Loss after iteration 1050: 0.0038396905926356265\n",
            "Loss after iteration 1100: 0.003813618302781696\n",
            "Loss after iteration 1150: 0.0038826587435138024\n",
            "Loss after iteration 1200: 0.004025539008186267\n",
            "Loss after iteration 1250: 0.003453551588715441\n",
            "Loss after iteration 1300: 0.003424373981306721\n",
            "Loss after iteration 1350: 0.0035164623076934455\n",
            "Loss after iteration 1400: 0.0035037228890324756\n",
            "Loss after iteration 1450: 0.0032415747556820713\n",
            "Loss after iteration 1500: 0.0031772138567846323\n",
            "Loss after iteration 1550: 0.0031791878674202827\n",
            "Loss after iteration 1600: 0.0032904976461595333\n",
            "Loss after iteration 1650: 0.0029635516142337086\n",
            "Loss after iteration 1700: 0.0030095571053488364\n",
            "Loss after iteration 1750: 0.003056190118706573\n",
            "Loss after iteration 1800: 0.002940713146640814\n",
            "Loss after iteration 1850: 0.002788054855750163\n",
            "Loss after iteration 1900: 0.0028772622878745205\n",
            "Loss after iteration 1950: 0.002900114851918368\n",
            "Loss after iteration 2000: 0.002836801019730457\n",
            "Loss after iteration 2050: 0.002703917800241243\n",
            "Loss after iteration 2100: 0.0026950774980223015\n",
            "Loss after iteration 2150: 0.0026786688261358593\n",
            "Loss after iteration 2200: 0.0026671365184306388\n",
            "Loss after iteration 2250: 0.0026047518934911224\n",
            "Loss after iteration 2300: 0.002591553612384947\n",
            "Loss after iteration 2350: 0.002570152252584996\n",
            "Loss after iteration 2400: 0.0025732167300627573\n",
            "Loss after iteration 2450: 0.002500683582944748\n",
            "Loss after iteration 2500: 0.002492232140922398\n",
            "Loss after iteration 2550: 0.002509077876238972\n",
            "Loss after iteration 2600: 0.0025084678742122455\n",
            "Loss after iteration 2650: 0.0024372169419962144\n",
            "Loss after iteration 2700: 0.00244263049170086\n",
            "Loss after iteration 2750: 0.0024377505586519275\n",
            "Loss after iteration 2800: 0.002442152457565439\n",
            "Loss after iteration 2850: 0.0023956872423635182\n",
            "Loss after iteration 2900: 0.0023987390325665107\n",
            "Loss after iteration 2950: 0.002392936959839942\n",
            "Loss after iteration 3000: 0.002396047739917298\n",
            "Loss after iteration 3050: 0.0023576585534097927\n",
            "Loss after iteration 3100: 0.0023531998240107085\n",
            "Loss after iteration 3150: 0.002353311147175513\n",
            "Loss after iteration 3200: 0.0023440542620642084\n",
            "Loss after iteration 3250: 0.0023193744829003815\n",
            "Loss after iteration 3300: 0.002323998143993124\n",
            "Loss after iteration 3350: 0.0023197893748034388\n",
            "Loss after iteration 3400: 0.002317665175569822\n",
            "Loss after iteration 3450: 0.002296058819956482\n",
            "Loss after iteration 3500: 0.002296418858515008\n",
            "Loss after iteration 3550: 0.0022947689202906744\n",
            "Loss after iteration 3600: 0.0022905625147329233\n",
            "Loss after iteration 3650: 0.002274097226050945\n",
            "Loss after iteration 3700: 0.002274808773768149\n",
            "Loss after iteration 3750: 0.0022756751917776606\n",
            "Loss after iteration 3800: 0.00227252557417089\n",
            "Loss after iteration 3850: 0.002257205572621794\n",
            "Loss after iteration 3900: 0.002256630474875567\n",
            "Loss after iteration 3950: 0.002257593020076325\n",
            "Loss after iteration 4000: 0.0022574615539529864\n",
            "Loss after iteration 4050: 0.002244418480826265\n",
            "Loss after iteration 4100: 0.0022430321507257\n",
            "Loss after iteration 4150: 0.002244284771179943\n",
            "Loss after iteration 4200: 0.0022409811595055446\n",
            "Loss after iteration 4250: 0.002233702439894842\n",
            "Loss after iteration 4300: 0.0022351875921169558\n",
            "Loss after iteration 4350: 0.0022335133966285246\n",
            "Loss after iteration 4400: 0.002235026698560955\n",
            "Loss after iteration 4450: 0.0022248699265325217\n",
            "Loss after iteration 4500: 0.0022250027804903935\n",
            "Loss after iteration 4550: 0.002225432413892963\n",
            "Loss after iteration 4600: 0.002224459228950658\n",
            "Loss after iteration 4650: 0.002218180303973178\n",
            "Loss after iteration 4700: 0.002218584448591924\n",
            "Loss after iteration 4750: 0.002220519083161222\n",
            "Loss after iteration 4800: 0.0022184769866612354\n",
            "Loss after iteration 4850: 0.0022148579628438496\n",
            "Loss after iteration 4900: 0.002216023636481416\n",
            "Loss after iteration 4950: 0.002212614833854568\n"
          ]
        },
        {
          "output_type": "display_data",
          "data": {
            "text/plain": [
              "<Figure size 500x300 with 1 Axes>"
            ],
            "image/png": "[encoded data removed]"
          },
          "metadata": {}
        }
      ],
      "source": [
        "### START CODE HERE ###\n",
        "loss_function = 'cross_entropy'\n",
        "layers_dims = [28*28, 128, 128, 64, 64, 32, num_classes]  # Input layer -> hidden layers -> Output layer\n",
        "activation_fn = ['relu', 'relu', 'relu', 'relu', 'relu', 'softmax']\n",
        "learning_rate = 0.01\n",
        "num_iterations = 5000\n",
        "print_loss = True\n",
        "print_freq = 50\n",
        "decrease_freq = 200\n",
        "decrease_proportion = 0.8\n",
        "batch_size = 128\n",
        "\n",
        "model = Model(layers_dims, activation_fn, loss_function)\n",
        "model, losses, history = train_model(model, x_train, y_train, learning_rate, num_iterations, batch_size, print_loss, print_freq, decrease_freq, decrease_proportion)\n",
        "### END CODE HERE ###\n",
        "\n",
        "# Plot the loss\n",
        "plt.figure(figsize=(5, 3))\n",
        "plt.plot(losses)\n",
        "plt.xlabel('Iterations')\n",
        "plt.ylabel('Loss')\n",
        "plt.title(f'Training Loss (Initial LR: {learning_rate})')\n",
        "plt.show()"
      ]
    },
    {
      "cell_type": "code",
      "execution_count": 22,
      "metadata": {
        "id": "ehjcfSU2XD3-",
        "colab": {
          "base_uri": "https://localhost:8080/"
        },
        "outputId": "6e5ebe43-0867-48c6-eb64-51b85120c19f"
      },
      "outputs": [
        {
          "output_type": "stream",
          "name": "stdout",
          "text": [
            "training------\n",
            "Accuracy: 99.88%\n",
            "f1 score for each class: [0.99815046 0.99964988 0.99754839 0.99960004]\n",
            "f1_macro score: 1.00\n",
            "validation------\n",
            "Accuracy: 100.00%\n",
            "f1 score for each class: [1. 1.]\n",
            "f1_macro score: 1.00\n"
          ]
        }
      ],
      "source": [
        "print('training------')\n",
        "pred_train = predict(x_train, y_train, model)\n",
        "print('validation------')\n",
        "pred_val = predict(x_val, y_val, model)"
      ]
    },
    {
      "cell_type": "markdown",
      "metadata": {
        "id": "WXGnS3HQeNUc"
      },
      "source": [
        "## Step 3: Save prediction\n",
        "Save your model's predictions to: *Lab4_advanced.csv*"
      ]
    },
    {
      "cell_type": "code",
      "execution_count": 23,
      "metadata": {
        "id": "YHFDuq2BQ2qI",
        "colab": {
          "base_uri": "https://localhost:8080/"
        },
        "outputId": "b7aa1877-e84c-49a4-f776-910a2a651ad9"
      },
      "outputs": [
        {
          "output_type": "stream",
          "name": "stdout",
          "text": [
            "Prediction data saved as 'Lab4_advanced.csv'\n"
          ]
        }
      ],
      "source": [
        "pred_test = predict(X_test, None, model)\n",
        "df = pd.DataFrame({\n",
        "    'ID': range(len(pred_test)),\n",
        "    'Label': pred_test.flatten()\n",
        "})\n",
        "\n",
        "df.to_csv('Lab4_advanced.csv', index=False)\n",
        "print(\"Prediction data saved as 'Lab4_advanced.csv'\")"
      ]
    },
    {
      "cell_type": "markdown",
      "source": [
        "# Save outputs\n",
        "Save the outputs of your testing codes to: *Lab4_output.npy*\n",
        "\n",
        "We will test your *Lab4_output.npy* to verify the correctness of your neural networks."
      ],
      "metadata": {
        "id": "J91ff4Vk1oB_"
      }
    },
    {
      "cell_type": "code",
      "source": [
        "# sanity check\n",
        "assert list(outputs.keys()) == [\n",
        "    'dense_forward',\n",
        "    'dense_backward',\n",
        "    'dense_update_parameters',\n",
        "    'sigmoid',\n",
        "    'relu',\n",
        "    'softmax',\n",
        "    'linear',\n",
        "    'sigmoid_backward',\n",
        "    'relu_backward',\n",
        "    'softmax_backward',\n",
        "    'linear_backward',\n",
        "    'model_forward_sigmoid',\n",
        "    'model_forward_relu',\n",
        "    'model_forward_softmax',\n",
        "    'model_backward_sigmoid',\n",
        "    'model_backward_relu',\n",
        "    'model_update_parameters',\n",
        "    'compute_BCE_loss',\n",
        "    'compute_CCE_loss'\n",
        "], \"You're missing something, please restart the kernel and run the code from beginning to the end. If the same error occurs, maybe you deleted some outputs, check the template to find the missing parts!\""
      ],
      "metadata": {
        "id": "CpxmIFiW1tg9"
      },
      "execution_count": null,
      "outputs": []
    },
    {
      "cell_type": "code",
      "source": [
        "np.save(\"Lab4_output.npy\", outputs)\n",
        "\n",
        "# sanity check for saved outputs\n",
        "submit = np.load(\"Lab4_output.npy\", allow_pickle=True).item()\n",
        "for key, value in submit.items():\n",
        "    print(f\"{key}: {type(value)}\")"
      ],
      "metadata": {
        "id": "uDqCzhsp1yTb",
        "colab": {
          "base_uri": "https://localhost:8080/"
        },
        "outputId": "cbb86ff9-cec5-4a5d-b031-d13221852ec3"
      },
      "execution_count": null,
      "outputs": [
        {
          "output_type": "stream",
          "name": "stdout",
          "text": [
            "dense_forward: <class 'tuple'>\n",
            "dense_backward: <class 'tuple'>\n",
            "dense_update_parameters: <class 'dict'>\n",
            "sigmoid: <class 'tuple'>\n",
            "relu: <class 'tuple'>\n",
            "softmax: <class 'tuple'>\n",
            "linear: <class 'tuple'>\n",
            "sigmoid_backward: <class 'numpy.ndarray'>\n",
            "relu_backward: <class 'numpy.ndarray'>\n",
            "softmax_backward: <class 'numpy.ndarray'>\n",
            "linear_backward: <class 'numpy.ndarray'>\n",
            "model_forward_sigmoid: <class 'tuple'>\n",
            "model_forward_relu: <class 'tuple'>\n",
            "model_forward_softmax: <class 'tuple'>\n",
            "model_backward_sigmoid: <class 'tuple'>\n",
            "model_backward_relu: <class 'tuple'>\n",
            "model_update_parameters: <class 'dict'>\n",
            "compute_BCE_loss: <class 'numpy.float64'>\n",
            "compute_CCE_loss: <class 'numpy.float64'>\n"
          ]
        }
      ]
    }
  ],
  "metadata": {
    "colab": {
      "provenance": []
    },
    "kernelspec": {
      "display_name": "Python 3",
      "name": "python3"
    },
    "language_info": {
      "name": "python"
    }
  },
  "nbformat": 4,
  "nbformat_minor": 0
}