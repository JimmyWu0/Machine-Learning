{
  "cells": [
    {
      "cell_type": "markdown",
      "metadata": {
        "id": "V7Zsk2Cyjcr0"
      },
      "source": [
        "## Import Packages\n",
        "\n",
        "1. To build a recurrent neural network, we start by importing the Dense layer, Activation layer, and Loss function that you implemented in Lab4 & Flatten layer you implemented in Lab5. Ensure the following three files are located in the same directory as this notebook, and follow the instructions to complete the setup:\n",
        "    - Dense.py : Copy the **Dense class** you had implemented in Lab4 to it.\n",
        "    - Activation.py : Copy the **Activation class** you had implemented in Lab4 to it.\n",
        "    - Loss.py : Copy **compute_CCE_loss** function you had implemented in Lab4 to it.\n",
        "    - Flatten.py: Copy **Flatten class** you had implemented in Lab5 to it.\\\n",
        "    Note: you should copy both `forward()` and `backward()` in class `Flatten` in Lab5.\n",
        "\n",
        "\n",
        "⚠️ **WARNING** ⚠️:\n",
        "*   Please do not import any other packages in this lab.\n",
        "*   np.random.seed(seed) is used to keep all the random function calls consistent. It will help us grade your work. Please don't change the seed.\n",
        "\n",
        "❗ **Important** ❗: Please do not change the code outside this code bracket.\n",
        "```\n",
        "### START CODE HERE ###\n",
        "...\n",
        "### END CODE HERE ###\n",
        "```\n",
        "\n"
      ]
    },
    {
      "cell_type": "markdown",
      "metadata": {
        "id": "PHkPrxmpjkQB"
      },
      "source": [
        "### Mount Google Drive (optional)"
      ]
    },
    {
      "cell_type": "code",
      "execution_count": 1,
      "metadata": {
        "colab": {
          "base_uri": "https://localhost:8080/"
        },
        "id": "6-arb65yjiEf",
        "outputId": "9cd1c8d5-7cfa-4cc4-b3c7-4510f5a97cf8"
      },
      "outputs": [],
      "source": [
        "### START CODE HERE ###\n",
        "# from google.colab import drive\n",
        "# import os\n",
        "# drive.mount('/content/drive')\n",
        "# os.chdir('YOUR PATH')\n",
        "### END CODE HERE ###"
      ]
    },
    {
      "cell_type": "code",
      "execution_count": 123,
      "metadata": {
        "id": "poIfFIK0juEr"
      },
      "outputs": [],
      "source": [
        "###### import your Lab4 & Lab5 code (Don't change this part) ######\n",
        "from Dense import Dense\n",
        "from Activation import Activation\n",
        "from Loss import compute_CCE_loss, compute_MSE_loss\n",
        "from Flatten import Flatten\n",
        "##################################\n",
        "\n",
        "import numpy as np\n",
        "import matplotlib.pyplot as plt\n",
        "from tqdm import tqdm\n",
        "import pandas as pd\n",
        "\n",
        "outputs = {}"
      ]
    },
    {
      "cell_type": "markdown",
      "metadata": {
        "id": "KAxzqsKx8bRL"
      },
      "source": [
        "# Basic Part"
      ]
    },
    {
      "cell_type": "markdown",
      "metadata": {
        "id": "PhkjTLnlPNjq"
      },
      "source": [
        "## RNN Class (30%)\n",
        "The RNN class implements a simple Recurrent Neural Network (RNN) layer. This class includes methods for initializing parameters, performing the forward pass, computing gradients during the backward pass, and updating the weights.\n",
        "\n",
        "Structure overview:\n",
        "<figure> <img src=\"https://imgur.com/nU7xrBe.png\" width=\"580\" height=\"400\">\n",
        "</figure>\n",
        "RNN connection:\n",
        "<figure>\n",
        "<img src=\"https://imgur.com/4JQX0se.png\" width=\"500\" height=\"250\">\n",
        "</figure>\n",
        "Data insights:\n",
        "<figure> <img src=\"https://imgur.com/c2MI3mj.png\" width=\"400\" height=\"220\">\n",
        "</figure>\n",
        "In each neuron:\n",
        "<figure> <img src=\"https://imgur.com/luXS4zv.png\" width=\"300\" height=\"220\">\n",
        "</figure>\n",
        "\n",
        "1.   **Initializaon**\n",
        "\n",
        "    *   `input_size`: The number of input features for each time step.\n",
        "    *   `rnn_units`: The number of units (neurons) in the RNN layer.\n",
        "    *   `seed`: A random seed for weight initialization to ensure reproducibility.\n",
        "\n",
        "2.   **Initialize parameters** (3%)\n",
        "    * `Wx`: The weight matrix for the input to hidden connections. It has a shape of `(rnn_units, input_size)`\n",
        "    * `Wh`: The weight matrix for the hidden to hidden connections. It has a shape of `(rnn_units, rnn_units)`\n",
        "    * `bh`: The bias vector for the hidden state. It has a shape of `(rnn_units, 1)`, where rnn_units is the number of units in the RNN layer.\n",
        "3.  **Forward** (12%) \\\n",
        "* `X`: Input data of shape `(batch_size, timesteps, input_size)`\n",
        "* The forward pass computes the hidden state `h_t` (shape of `(batch_size, self.rnn_units)`)at each time step `t` using the following formula:\n",
        "$ h_t = \\tanh(W_x \\cdot x_t + W_h \\cdot h_{t-1} + b_h)$\n",
        "    * $W_x$ is the weight matrix for the input to hidden connections.\n",
        "    * $W_h$ is the weight matrix for the hidden to hidden connections.\n",
        "    * $b_h$ is the bias vector.\n",
        "    * $x_t$ is the input at time step t.\n",
        "    * $h_{t-1}$ is the hidden state from the previous time step.\n",
        "    * $\\tanh$ is the hyperbolic tangent activation function.\n",
        "* Output would be shape of `(batch_size, rnn_units)`\n",
        "4. **Backward** (15%) \\\n",
        "Reference (Backpropagation Through Time):\n",
        "https://www.pycodemates.com/2023/08/backpropagation-through-time-explained-with-derivations.html\n",
        "* `dH`: Gradient of the loss with respect to the hidden state, typically of shape `(batch_size, rnn_units, 1)`.\n",
        "* The backward pass computes the gradients of the loss with respect to the weights and biases using the following formulas:\n",
        "    * Gradient of the loss with respect to the hidden state(derivative of `tanh`):\\\n",
        "    $\\delta_t = (1 - h_t^2) \\cdot \\delta_{t+1}$\n",
        "        * $\\delta_t$ is the gradient of the loss with respect to the hidden state at time step t.\n",
        "        * $h_t$ is the hidden state at time step t\n",
        "    * Gradients with respect to the weights and biases (accumulate the gradients over all time steps):\n",
        "        1. $\\frac{\\partial L}{\\partial W_x} = ∑_{t=0}^{timesteps} \\delta_t^T \\cdot x_t$\n",
        "        2. $\\frac{\\partial L}{\\partial W_h} = ∑_ {t=0}^{timesteps} \\delta_t^T \\cdot h_{t-1}$\n",
        "        3. $\\frac{\\partial L}{\\partial b_h} = ∑_{t=0}^{timesteps} \\delta_t^T$\n",
        "        * $\\frac{\\partial L}{\\partial W_x}$ is the gradient of the loss with respect to the input to hidden weights.\n",
        "        * $\\frac{\\partial L}{\\partial W_h}$ is the gradient of the loss with respect to the hidden to hidden weights.\n",
        "        * $\\frac{\\partial L}{\\partial b_h}$ is the gradient of the loss with respect to the hidden bias.\n",
        "        * $x_t$ is the input at time step t.\n",
        "        * $h_{t-1}$ is the hidden state from the previous time step.\n",
        "    * Gradient with respect to the previous hidden state:\n",
        "    $\\frac{\\partial L}{\\partial h_{t-1}} = \\delta_t \\cdot W_h$\n",
        "    * Then divide each gradient by `batch_size`.\n",
        "    * Gradient clipping (optional) is recommended in RNN since RNN rely on backpropagation through time where data might contain large timesteps and it might cause gradient explosion or vanishing. **Note**: You can't do gradient clipping in the function testing (`test_baward()`)\n"
      ]
    },
    {
      "cell_type": "code",
      "execution_count": 188,
      "metadata": {
        "id": "Ry3gZ4hUJwUn"
      },
      "outputs": [],
      "source": [
        "class RNN():\n",
        "    def __init__(self, input_size, rnn_units, seed=1):\n",
        "        \"\"\"\n",
        "        Initialize the SimpleRNN layer.\n",
        "\n",
        "        Parameters:\n",
        "        input_size (int): Number of input features.\n",
        "        rnn_units (int): Number of units in the RNN layer.\n",
        "        seed (int): Random seed for weight initialization.\n",
        "        \"\"\"\n",
        "        self.input_size = input_size\n",
        "        self.rnn_units = rnn_units\n",
        "        # self.return_sequences = return_sequences\n",
        "        self.seed = seed\n",
        "        self.initialize_parameters()\n",
        "\n",
        "    def initialize_parameters(self):\n",
        "        \"\"\"\n",
        "        Initialize the weights and biases for the RNN layer.\n",
        "        \"\"\"\n",
        "        np.random.seed(self.seed)\n",
        "\n",
        "        ### START CODE HERE ###\n",
        "        # Multiply by 0.01 is for testing reason.\n",
        "        self.Wx = np.random.randn(self.rnn_units, self.input_size) * 0.01     # Input to hidden weights , with shape of (rnn_units, input_size).\n",
        "        self.Wh = np.random.randn(self.rnn_units, self.rnn_units) * 0.01     # Hidden to hidden weights, with shape of (rnn_units, rnn_units).\n",
        "        self.bh = np.zeros((self.rnn_units, 1))     # Hidden bias, with shape of (rnn_units, 1).\n",
        "        ### END CODE HERE ###\n",
        "\n",
        "    def forward(self, X):\n",
        "        \"\"\"\n",
        "        Perform the forward pass through the RNN layer.\n",
        "\n",
        "        Parameters:\n",
        "        X (ndarray): Input data of shape (batch_size, timesteps, input_size).\n",
        "\n",
        "        Returns:\n",
        "        ndarray: Output of the RNN layer (hidden state).\n",
        "        \"\"\"\n",
        "        batch_size, timesteps, _ = X.shape\n",
        "        ### START CODE HERE ###\n",
        "        self.h = np.zeros((batch_size, self.rnn_units))       # Initialize hidden state, with shape of (batch_size, self.rnn_units).\n",
        "        self.hs = []      # Store hidden states for backward pass, list of self.h.\n",
        "        ### END CODE HERE ###\n",
        "\n",
        "        self.xs = []  # Store inputs for backward pass\n",
        "\n",
        "        for t in range(timesteps):\n",
        "            ### START CODE HERE ###\n",
        "            x_t = X[:, t, :]              # Get input at time step t for all data in X.\n",
        "            self.xs.append(x_t)\n",
        "            self.h = np.tanh(np.dot(x_t, self.Wx.T) + np.dot(self.h, self.Wh.T) + self.bh.T)           # Update hidden state according to the formula of h_t.\n",
        "            self.hs.append(self.h)  # self.hs.append(self.h.copy())\n",
        "            ### END CODE HERE ###\n",
        "\n",
        "        return self.h\n",
        "        # if self.return_sequences:\n",
        "        #     return np.stack(self.hs, axis=1)  # (batch_size, timesteps, rnn_units)\n",
        "        # else:\n",
        "        #     return self.h  # (batch_size, rnn_units)\n",
        "\n",
        "\n",
        "    def backward(self, dH):\n",
        "        \"\"\"\n",
        "        Perform the backward pass through the RNN layer.\n",
        "\n",
        "        Parameters:\n",
        "        dH (ndarray): Gradient of the loss with respect to the hidden state.\n",
        "        clip_value (float): Value to clip the gradients to prevent exploding gradients.\n",
        "\n",
        "        Returns:\n",
        "        ndarray: Gradient of the loss with respect to the input.\n",
        "        \"\"\"\n",
        "        batch_size, _ = dH.shape\n",
        "        ### START CODE HERE ###\n",
        "        self.dL_dWx = np.zeros_like(self.Wx)        # Initialized with same shape as Wx.\n",
        "        self.dL_dWh = np.zeros_like(self.Wh)        # Initialized with same shape as Wh.\n",
        "        self.dL_dbh = np.zeros_like(self.bh)        # Initialized with same shape as bh.\n",
        "        ### END CODE HERE ###\n",
        "        dL_dh = dH\n",
        "\n",
        "        for t in reversed(range(len(self.hs))):\n",
        "            x_t = self.xs[t]  # Get input at time step t\n",
        "            h = self.hs[t]\n",
        "            h_prev = self.hs[t-1] if t > 0 else np.zeros_like(h)\n",
        "            ### START CODE HERE ###\n",
        "            dL_dh_raw = (1 - h ** 2) * dL_dh     # Derivative of tanh\n",
        "            self.dL_dWx += np.dot(dL_dh_raw.T, x_t)   # Gradient w.r.t. Wx\n",
        "            self.dL_dWh += np.dot(dL_dh_raw.T, h_prev)   # Gradient w.r.t. Wh\n",
        "            self.dL_dbh += np.sum(dL_dh_raw.T, axis=1, keepdims=True)   # Gradient w.r.t. bh\n",
        "            dL_dh = np.dot(dL_dh_raw, self.Wh)         # Gradient w.r.t. previous hidden state (Wh)\n",
        "            ### END CODE HERE ###\n",
        "\n",
        "        ### START CODE HERE ###\n",
        "        # Average gradients over the batch.\n",
        "        self.dL_dWx /= batch_size\n",
        "        self.dL_dWh /= batch_size\n",
        "        self.dL_dbh /= batch_size\n",
        "        ### END CODE HERE ###\n",
        "\n",
        "        ### START CODE HERE ###\n",
        "        # Gradient part (optional), you can't run this part while testing the backward function !!!\n",
        "        clip_value = 2.0\n",
        "        # Clip gradients to prevent exploding gradients\n",
        "        np.clip(self.dL_dWx, -clip_value, clip_value, out=self.dL_dWx)\n",
        "        np.clip(self.dL_dWh, -clip_value, clip_value, out=self.dL_dWh)\n",
        "        np.clip(self.dL_dbh, -clip_value, clip_value, out=self.dL_dbh)\n",
        "        ### END CODE HERE ###\n",
        "\n",
        "        return dL_dh\n",
        "\n",
        "    def update(self, learning_rate):\n",
        "        \"\"\"\n",
        "        Update the weights and biases using the computed gradients.\n",
        "\n",
        "        Parameters:\n",
        "        learning_rate (float): Learning rate for weight updates.\n",
        "        \"\"\"\n",
        "        ### START CODE HERE ###\n",
        "        # Update each weights.\n",
        "        self.Wx -= learning_rate * self.dL_dWx\n",
        "        self.Wh -= learning_rate * self.dL_dWh\n",
        "        self.bh -= learning_rate * self.dL_dbh\n",
        "        ### END CODE HERE ###"
      ]
    },
    {
      "cell_type": "markdown",
      "metadata": {
        "id": "ZkQSHtRPMb73"
      },
      "source": [
        "### Functions testing\n"
      ]
    },
    {
      "cell_type": "markdown",
      "metadata": {
        "id": "KKZFZhPfP9z-"
      },
      "source": [
        "#### `initialize_parameter` function"
      ]
    },
    {
      "cell_type": "code",
      "execution_count": 34,
      "metadata": {
        "id": "F6x4VR14P9X3"
      },
      "outputs": [
        {
          "name": "stdout",
          "output_type": "stream",
          "text": [
            "Wx shape: (3, 5)\n",
            "Wh shape: (3, 3)\n",
            "bh shape: (3, 1)\n"
          ]
        }
      ],
      "source": [
        "def test_initialization(save_to_output = False):\n",
        "    input_size = 5\n",
        "    rnn_units = 3\n",
        "    rnn = RNN(input_size, rnn_units)\n",
        "    print(\"Wx shape:\", rnn.Wx.shape)\n",
        "    print(\"Wh shape:\", rnn.Wh.shape)\n",
        "    print(\"bh shape:\", rnn.bh.shape)\n",
        "    if save_to_output == True:\n",
        "        outputs['RNN_initialization'] = {\"Wx shape\": rnn.Wx.shape, \"Wh shape\": rnn.Wh.shape, \"bh shape\": rnn.bh.shape}\n",
        "test_initialization(True)"
      ]
    },
    {
      "cell_type": "markdown",
      "metadata": {
        "id": "TPEe5c4NQigx"
      },
      "source": [
        "Expected output:\n",
        "\n",
        "|Output|Value|\n",
        "|---|---|\n",
        "|Wx shape:|(3, 5)|\n",
        "|Wh shape:|(3, 3)|\n",
        "|bh shape:|(3, 1)|"
      ]
    },
    {
      "cell_type": "markdown",
      "metadata": {
        "id": "Oz_VET-YNtla"
      },
      "source": [
        "#### `forward` function\n"
      ]
    },
    {
      "cell_type": "code",
      "execution_count": 35,
      "metadata": {
        "id": "-7svLiJmFdEB"
      },
      "outputs": [
        {
          "name": "stdout",
          "output_type": "stream",
          "text": [
            "Input shape: (2, 4, 5)\n",
            "Input:\n",
            "[[[ 1.62434536 -0.61175641 -0.52817175 -1.07296862  0.86540763]\n",
            "  [-2.3015387   1.74481176 -0.7612069   0.3190391  -0.24937038]\n",
            "  [ 1.46210794 -2.06014071 -0.3224172  -0.38405435  1.13376944]\n",
            "  [-1.09989127 -0.17242821 -0.87785842  0.04221375  0.58281521]]\n",
            "\n",
            " [[-1.10061918  1.14472371  0.90159072  0.50249434  0.90085595]\n",
            "  [-0.68372786 -0.12289023 -0.93576943 -0.26788808  0.53035547]\n",
            "  [-0.69166075 -0.39675353 -0.6871727  -0.84520564 -0.67124613]\n",
            "  [-0.0126646  -1.11731035  0.2344157   1.65980218  0.74204416]]]\n",
            "Output shape of RNN layer: (2, 3)\n",
            "Output of the RNN layer (hidden state):\n",
            "[[-0.00873835  0.02641052 -0.00287992]\n",
            " [-0.00596289 -0.01742189  0.02418844]]\n"
          ]
        }
      ],
      "source": [
        "def test_forward(seed, save_to_output = False):\n",
        "    input_size = 5\n",
        "    rnn_units = 3\n",
        "    batch_size = 2\n",
        "    timesteps = 4\n",
        "    # Initialize the RNN layer\n",
        "    rnn = RNN(input_size, rnn_units)\n",
        "    # Create a sample input of shape (batch_size, timesteps, input_size)\n",
        "    np.random.seed(seed)   # Don't change the seed!\n",
        "    X = np.random.randn(batch_size, timesteps, input_size)\n",
        "    # Perform the forward pass\n",
        "    output = rnn.forward(X)\n",
        "\n",
        "    if save_to_output == False:\n",
        "        # Print the output\n",
        "        print(\"Input shape:\", X.shape)\n",
        "        print(\"Input:\")\n",
        "        print(X)\n",
        "        print(\"Output shape of RNN layer:\", output.shape)\n",
        "        print(\"Output of the RNN layer (hidden state):\")\n",
        "        print(output)\n",
        "\n",
        "    if save_to_output == True:\n",
        "        outputs['RNN_forward'] = {\"X shape\": X.shape, \"X\": X, \"Output shape\": output.shape, \"Output\": output}\n",
        "\n",
        "# Run the test with seed 1 to compare with expected outputs.\n",
        "test_forward(1)\n",
        "\n",
        "# Run with seed 42 and save the answer.\n",
        "test_forward(42, True)"
      ]
    },
    {
      "cell_type": "markdown",
      "metadata": {
        "id": "GxLx95MZGEqX"
      },
      "source": [
        "Expected output of `forward`:\n",
        "\n",
        "| Output | Value |\n",
        "|---|---|\n",
        "| Input shape | (2, 4, 5) |\n",
        "| Input | `[[[ 1.62434536 -0.61175641 -0.52817175 -1.07296862  0.86540763]`<br>  `[-2.3015387   1.74481176 -0.7612069   0.3190391  -0.24937038]`<br>  `[ 1.46210794 -2.06014071 -0.3224172  -0.38405435  1.13376944]`<br>  `[-1.09989127 -0.17242821 -0.87785842  0.04221375  0.58281521]]`<br><br> `[[-1.10061918  1.14472371  0.90159072  0.50249434  0.90085595]`<br>  `[-0.68372786 -0.12289023 -0.93576943 -0.26788808  0.53035547]`<br>  `[-0.69166075 -0.39675353 -0.6871727  -0.84520564 -0.67124613]`<br>  `[-0.0126646  -1.11731035  0.2344157   1.65980218  0.74204416]]]]` |\n",
        "| Output shape of RNN layer | (2, 3) |\n",
        "| Output of the RNN layer (hidden state) | `[[-0.00873835  0.02641052 -0.00287992]`<br> `[-0.00596289 -0.01742189  0.02418844]]` |"
      ]
    },
    {
      "cell_type": "markdown",
      "metadata": {
        "id": "OTRcUEWzN143"
      },
      "source": [
        "#### `backward` function"
      ]
    },
    {
      "cell_type": "code",
      "execution_count": 37,
      "metadata": {
        "id": "hc5rkLYhJHYd"
      },
      "outputs": [
        {
          "name": "stdout",
          "output_type": "stream",
          "text": [
            "dH shape:  (2, 3)\n",
            "dH:\n",
            "[[-0.19183555 -0.88762896 -0.74715829]\n",
            " [ 1.6924546   0.05080775 -0.63699565]]\n",
            "dL_dX shape: (2, 3)\n",
            "Gradient w.r.t. input (dL_dX):\n",
            "[[-1.30293142e-08  5.55316892e-09 -2.93987480e-08]\n",
            " [ 8.78019041e-09  2.41595285e-08 -1.33357681e-08]]\n",
            "dL_dWx shape: (3, 5)\n",
            "Gradient w.r.t. Wx (dL_dWx):\n",
            "[[ 0.09855041 -0.91665683  0.29245483  1.41272981  0.57684949]\n",
            " [ 0.48200032  0.06164319  0.40009246  0.02920006 -0.24340623]\n",
            " [ 0.42661386  0.4160692   0.25830352 -0.53769917 -0.44331323]]\n",
            "dL_dWh shape: (3, 3)\n",
            "Gradient w.r.t. Wh (dL_dWh):\n",
            "[[-0.00663169  0.01738478 -0.0106337 ]\n",
            " [-0.02325593  0.03069429 -0.03469078]\n",
            " [-0.01936184  0.02200992 -0.02853306]]\n",
            "dL_dbh shape: (3, 1)\n",
            "Gradient w.r.t. bh (dL_dbh):\n",
            "[[ 0.73406116]\n",
            " [-0.42812618]\n",
            " [-0.69714697]]\n"
          ]
        }
      ],
      "source": [
        "def test_backward(seed, save_to_output = False):\n",
        "    input_size = 5\n",
        "    rnn_units = 3\n",
        "    batch_size = 2\n",
        "    timesteps = 4\n",
        "\n",
        "    # Initialize the RNN layer\n",
        "    rnn = RNN(input_size, rnn_units)\n",
        "    np.random.seed(seed)   # Don't change the seed!\n",
        "    # Create a sample input of shape (batch_size, timesteps, input_size)\n",
        "    X = np.random.randn(batch_size, timesteps, input_size)\n",
        "    # Perform the forward pass\n",
        "    rnn.forward(X)\n",
        "    # Create a sample gradient of the loss with respect to the hidden state\n",
        "    dH = np.random.randn(batch_size, rnn_units)\n",
        "    # Perform the backward pass\n",
        "    dL_dX = rnn.backward(dH)\n",
        "    if save_to_output == False:\n",
        "        print(\"dH shape: \", dH.shape)\n",
        "        print(\"dH:\")\n",
        "        print(dH)\n",
        "        # Print the gradients\n",
        "        print(\"dL_dX shape:\", dL_dX.shape)\n",
        "        print(\"Gradient w.r.t. input (dL_dX):\")\n",
        "        print(dL_dX)\n",
        "        print(\"dL_dWx shape:\", rnn.dL_dWx.shape)\n",
        "        print(\"Gradient w.r.t. Wx (dL_dWx):\")\n",
        "        print(rnn.dL_dWx)\n",
        "        print(\"dL_dWh shape:\", rnn.dL_dWh.shape)\n",
        "        print(\"Gradient w.r.t. Wh (dL_dWh):\")\n",
        "        print(rnn.dL_dWh)\n",
        "        print(\"dL_dbh shape:\", rnn.dL_dbh.shape)\n",
        "        print(\"Gradient w.r.t. bh (dL_dbh):\")\n",
        "        print(rnn.dL_dbh)\n",
        "\n",
        "    if save_to_output == True:\n",
        "        outputs['RNN_backward'] = {\"dH shape\": dH.shape, \"dH\": dH, \"dL_dX shape\": dL_dX.shape, \"dL_dX\": dL_dX, \"dL_dWx shape\": rnn.dL_dWx.shape,\n",
        "                                   \"dL_dWx\": rnn.dL_dWx, \"dL_dWh shape\": rnn.dL_dWh.shape, \"dL_dWh\": rnn.dL_dWh, \"dL_dbh shape\": rnn.dL_dbh.shape, \"dL_dbh\": rnn.dL_dbh}\n",
        "\n",
        "# Run the test with seed 1 to compare with expected outputs.\n",
        "test_backward(1)\n",
        "\n",
        "# Run with seed 42 and save the answer.\n",
        "test_backward(42, True)"
      ]
    },
    {
      "cell_type": "markdown",
      "metadata": {
        "id": "l0rtq6lDJSx8"
      },
      "source": [
        "Expected output:\n",
        "\n",
        "| Output | Value |\n",
        "|---|---|\n",
        "|dH shape:|(2, 3)|\n",
        "|dH:|`[[-0.19183555 -0.88762896 -0.74715829]`<br>`[ 1.6924546   0.05080775 -0.63699565]]`|\n",
        "|dL_dX shape:| (2, 3)|\n",
        "|Gradient w.r.t. input (dL_dX):| `[[-1.30293142e-08  5.55316892e-09 -2.93987480e-08]`<br>`[ 8.78019041e-09  2.41595285e-08 -1.33357681e-08]]`|\n",
        "|dL_dWx shape:| (3, 5)|\n",
        "|Gradient w.r.t. Wx (dL_dWx):|`[[ 0.09855041 -0.91665683  0.29245483  1.41272981  0.57684949]`<br>`[ 0.48200032  0.06164319  0.40009246  0.02920006 -0.24340623]`<br>`[ 0.42661386  0.4160692   0.25830352 -0.53769917 -0.44331323]]`|\n",
        "|dL_dWh shape:| (3, 3)|\n",
        "|Gradient w.r.t. Wh (dL_dWh):|`[[-0.00663169  0.01738478 -0.0106337 ]`<br>`[-0.02325593  0.03069429 -0.03469078]`<br>`[-0.01936184  0.02200992 -0.02853306]]`|\n",
        "|dL_dbh shape:| (3, 1)|\n",
        "|Gradient w.r.t. bh (dL_dbh):|`[[ 0.73406116]`<br>`[-0.42812618]`<br>`[-0.69714697]]`|"
      ]
    },
    {
      "cell_type": "markdown",
      "metadata": {
        "id": "3_--VLgVCdpi"
      },
      "source": [
        "## Model class (10%)\n",
        "The `Model` class provides a framework for building and training neural networks.\n",
        "1.   `add()` is just like the function in previous Lab, we can call `model.add( )` to sequentially add a layer into the model.\n",
        "2.   `forward()` performs the forward propagation of data through the layers, calculating predictions\n",
        "3.   In `backward()`, we have to check if the activation function is *softmax* to make sure we call the right `backward()`.\n",
        "4.   `train()` function will be used to train the model, here, we can decide which loss function `BCE` or `MSE` we want to train with. And also calculate the loss for validation data.\n",
        "5. `plot_losses()` function can show the history of the training and validation loss to see if the training works."
      ]
    },
    {
      "cell_type": "code",
      "execution_count": 85,
      "metadata": {
        "id": "LlyznHZjCc0K"
      },
      "outputs": [],
      "source": [
        "class Model():\n",
        "    def __init__(self):\n",
        "        self.layers = []\n",
        "\n",
        "    def add(self, layer):\n",
        "        \"\"\"\n",
        "        Sequentially add a layer into the model.\n",
        "\n",
        "        Parameters:\n",
        "        layer: Different layers class.\n",
        "        \"\"\"\n",
        "        ### START CODE HERE ###\n",
        "        self.layers.append(layer)\n",
        "        ### END CODE HERE ###\n",
        "\n",
        "    def forward(self, X):\n",
        "        for layer in self.layers:\n",
        "            if layer.__class__.__name__ == 'RNN':\n",
        "                if len(X.shape) < 3:                                # If the RNN layer is stacked after another RNN layer.\n",
        "                    ### START CODE HERE ###\n",
        "                    X = X.reshape(X.shape[0], 1, -1)                # We have to treat the output size of first layer (rnn_units) as the feature size (input_size) of the second layer.\n",
        "                    ### END CODE HERE ###\n",
        "                X = layer.forward(X)\n",
        "            else:\n",
        "                X = layer.forward(X)\n",
        "        return X\n",
        "\n",
        "    def backward(self, dA, Y):\n",
        "        for layer in reversed(self.layers):\n",
        "            if isinstance(layer, Activation) and layer.activation_function == \"softmax\":\n",
        "                ### START CODE HERE ###\n",
        "                dA = layer.backward(dA, Y)                  # softmax activation backward.\n",
        "                ### END CODE HERE ###\n",
        "            else:\n",
        "                ### START CODE HERE ###\n",
        "                dA = layer.backward(dA)\n",
        "                ### END CODE HERE ###\n",
        "        return dA\n",
        "\n",
        "    def update(self, learning_rate):\n",
        "        for layer in self.layers:       # Update for every layers.\n",
        "            ### START CODE HERE ###\n",
        "            # layer.update(learning_rate)\n",
        "            if hasattr(layer, 'update'):\n",
        "                layer.update(learning_rate)\n",
        "            ### END CODE HERE ###\n",
        "\n",
        "    def train(self, X_train, y_train, X_val, y_val, epochs=10, learning_rate=0.001, batch_size = 32, loss_function='mse'):\n",
        "        self.train_losses = []  # Initialize a list to store training losses\n",
        "        self.val_losses = []  # Initialize a list to store validation losses\n",
        "        for epoch in range(epochs):\n",
        "            total_loss = 0\n",
        "            ### START CODE HERE ###\n",
        "            num_batches = len(X_train) // batch_size    # Calculate the number of batches\n",
        "            ### END CODE HERE ###\n",
        "\n",
        "            with tqdm(total=num_batches, desc=f\"Epoch {epoch + 1}/{epochs}\", unit=\"batch\") as pbar:\n",
        "                for batch_idx in range(num_batches):\n",
        "\n",
        "                    ### START CODE HERE ###\n",
        "                    # Get the batch data\n",
        "                    start_idx = batch_idx * batch_size\n",
        "                    end_idx = start_idx + batch_size\n",
        "                    X_batch = X_train[start_idx:end_idx]\n",
        "                    y_batch = y_train[start_idx:end_idx]\n",
        "                    ### END CODE HERE ###\n",
        "\n",
        "                    ### START CODE HERE ###\n",
        "                    # 1. Forward to get the prediction.\n",
        "                    # 2. Calculate the loss according to your parameters ('cce' or 'mse').\n",
        "                    # 3. Calculate dA.\n",
        "                    # 4. backward with the calculated dA.\n",
        "                    # 5. update the parameters.\n",
        "                    y_pred = self.forward(X_batch)\n",
        "                    # Compute loss\n",
        "                    if loss_function == 'cce':\n",
        "                        loss = compute_CCE_loss(y_pred, y_batch)\n",
        "                    elif loss_function == 'mse':\n",
        "                        loss = compute_MSE_loss(y_pred, y_batch)\n",
        "                    else:\n",
        "                        raise ValueError(\"Unsupported loss function\")\n",
        "\n",
        "                    total_loss += loss\n",
        "\n",
        "                    if loss_function == 'cce':\n",
        "                        dA = (y_pred - y_batch) / y_batch.shape[0]  # !\n",
        "                    elif loss_function == 'mse':\n",
        "                        dA = 2 * (y_pred - y_batch) / y_batch.shape[0]\n",
        "                    \n",
        "                    self.backward(dA, y_batch)\n",
        "\n",
        "                    self.update(learning_rate)\n",
        "                    ### END CODE HERE ###\n",
        "\n",
        "                    # Update the progress bar and loss every 5 iterations\n",
        "                    if (batch_idx + 1) % 5 == 0:\n",
        "                        pbar.set_postfix(loss=total_loss / (batch_idx + 1))\n",
        "                    pbar.update(1)  # Increment the progress bar by 1 unit\n",
        "\n",
        "                # Handle the remaining examples that do not fit into a full batch\n",
        "                if len(X_train) % batch_size != 0:\n",
        "\n",
        "                    # Get the remaining data\n",
        "                    ### START CODE HERE ###\n",
        "                    X_batch = X_train[num_batches * batch_size:]\n",
        "                    y_batch = y_train[num_batches * batch_size:]\n",
        "                    ### END CODE HERE ###\n",
        "\n",
        "                    ### START CODE HERE ###\n",
        "                    # Same as above in batch\n",
        "                    y_pred = self.forward(X_batch)\n",
        "                    # Compute loss\n",
        "                    if loss_function == 'cce':\n",
        "                        loss = compute_CCE_loss(y_pred, y_batch)\n",
        "                    elif loss_function == 'mse':\n",
        "                        loss = compute_MSE_loss(y_pred, y_batch)\n",
        "                    else:\n",
        "                        raise ValueError(\"Unsupported loss function\")\n",
        "\n",
        "                    total_loss += loss\n",
        "                    \n",
        "                    if loss_function == 'cce':\n",
        "                        dA = (y_pred - y_batch) / y_batch.shape[0]  # !\n",
        "                    elif loss_function == 'mse':\n",
        "                        dA = 2 * (y_pred - y_batch) / y_batch.shape[0]\n",
        "                    \n",
        "                    self.backward(dA, y_batch)\n",
        "\n",
        "                    self.update(learning_rate)\n",
        "                    ### END CODE HERE ###\n",
        "\n",
        "            ### START CODE HERE ###\n",
        "            avg_train_loss = total_loss / (num_batches + (len(X_train) % batch_size > 0))       # Calculate the average loss over batches.\n",
        "            ### END CODE HERE ###\n",
        "\n",
        "            self.train_losses.append(avg_train_loss)\n",
        "            print(f'Epoch {epoch + 1}/{epochs}, Training Loss: {avg_train_loss}')\n",
        "\n",
        "            # Validation part\n",
        "            ### START CODE HERE ###\n",
        "            # 1. Get the prediction\n",
        "            # 2. compute the loss ('mse', 'cce').\n",
        "            y_pred = self.forward(X_val)\n",
        "\n",
        "            if loss_function == 'cce':\n",
        "                val_loss = compute_CCE_loss(y_pred, y_val)\n",
        "            elif loss_function == 'mse':\n",
        "                val_loss = compute_MSE_loss(y_pred, y_val)\n",
        "            ### END CODE HERE ###\n",
        "\n",
        "            self.val_losses.append(val_loss)\n",
        "            print(f'Epoch {epoch + 1}/{epochs}, Validation Loss: {val_loss}')\n",
        "\n",
        "    def predict(self, X):\n",
        "        return self.forward(X)\n",
        "\n",
        "    def plot_losses(self):\n",
        "        plt.plot(self.train_losses, label='Training Loss')\n",
        "        plt.plot(self.val_losses, label='Validation Loss')\n",
        "        plt.xlabel('Epoch')\n",
        "        plt.ylabel('Loss')\n",
        "        plt.legend()"
      ]
    },
    {
      "cell_type": "markdown",
      "metadata": {
        "id": "icEnOl_kR_r5"
      },
      "source": [
        "### `Model` class testing"
      ]
    },
    {
      "cell_type": "code",
      "execution_count": 44,
      "metadata": {
        "id": "B2ON5fmPSCSj"
      },
      "outputs": [
        {
          "name": "stdout",
          "output_type": "stream",
          "text": [
            "AL:  [[0.50002597]\n",
            " [0.50011082]\n",
            " [0.49998505]]\n",
            "dA_prev:  [[ 1.62378331e-09  3.84694676e-09  6.02625343e-09 -1.21805669e-08]\n",
            " [ 1.62165475e-09  3.84752280e-09  6.02247634e-09 -1.21748332e-08]\n",
            " [ 1.62368851e-09  3.84622277e-09  6.02587086e-09 -1.21793784e-08]]\n",
            "Wx of RNN:  [[ 0.01609996]\n",
            " [-0.00598851]\n",
            " [-0.00519148]\n",
            " [-0.01059058]]\n",
            "Wh of RNN:  [[ 0.00865366 -0.02301519  0.01744827 -0.00761178]\n",
            " [ 0.00319076 -0.00249388  0.01462095 -0.02060167]\n",
            " [-0.00322391 -0.00384067  0.0113376  -0.0109991 ]\n",
            " [-0.00172383 -0.00877879  0.00042198  0.00582784]]\n",
            "bh of RNN:  [[ 0.00017288]\n",
            " [-0.00015564]\n",
            " [-0.00010827]\n",
            " [-0.00016452]]\n"
          ]
        }
      ],
      "source": [
        "def test_model_class(seed, save_to_output = False):\n",
        "    np.random.seed(seed)\n",
        "    input = np.random.randn(3, 3, 1)\n",
        "    Y = np.expand_dims(np.array([1,0,1]),-1)\n",
        "\n",
        "    model = Model()\n",
        "    model.add(RNN(1, 4))\n",
        "    model.add(RNN(4, 4))\n",
        "    model.add(Dense(4, 1))\n",
        "    model.add(Activation(\"sigmoid\", None))\n",
        "\n",
        "    AL = model.forward(input)\n",
        "    dA_prev = model.backward(AL, Y=Y)\n",
        "    model.update(0.1)\n",
        "    if save_to_output == False:\n",
        "        print(\"AL: \", AL)\n",
        "        print(\"dA_prev: \", dA_prev)\n",
        "        print(\"Wx of RNN: \", model.layers[0].Wx)\n",
        "        print(\"Wh of RNN: \", model.layers[0].Wh)\n",
        "        print(\"bh of RNN: \", model.layers[0].bh)\n",
        "\n",
        "    if save_to_output == True:\n",
        "        outputs['Model_class'] = {\"AL\": AL, \"dA_prev\": dA_prev, \"Wx of RNN\": model.layers[0].Wx, \"Wh of RNN\": model.layers[0].Wh, \"bh of RNN\": model.layers[0].bh}\n",
        "\n",
        "# Run the test with seed 1 to compare with expected outputs.\n",
        "test_model_class(1)\n",
        "\n",
        "# Run with seed 42 and save the answer.\n",
        "test_model_class(42, True)"
      ]
    },
    {
      "cell_type": "markdown",
      "metadata": {
        "id": "Seg7OO12VOvh"
      },
      "source": [
        "Expected output:\n",
        "\n",
        "|Output|Value|\n",
        "|---|---|\n",
        "|AL:| `[[0.50002597]`<br>`[0.50011082]`<br>`[0.49998505]]`|\n",
        "|dA_prev:|`[[ 1.62378331e-09  3.84694676e-09  6.02625343e-09 -1.21805669e-08]`<br>`[ 1.62165475e-09  3.84752280e-09  6.02247634e-09 -1.21748332e-08]`<br>`[ 1.62368851e-09  3.84622277e-09  6.02587086e-09 -1.21793784e-08]]`|\n",
        "|Wx of RNN:| `[[ 0.01609996]`<br>`[-0.00598851]`<br>`[-0.00519148]`<br>`[-0.01059058]]`|\n",
        "|Wh of RNN:|`[[ 0.00865366 -0.02301519  0.01744827 -0.00761178]`<br>`[ 0.00319076 -0.00249388  0.01462095 -0.02060167]`<br>`[-0.00322391 -0.00384067  0.0113376  -0.0109991 ]`<br>`[-0.00172383 -0.00877879  0.00042198  0.00582784]]`|\n",
        "|bh of RNN:|  `[[ 0.00017288]`<br>`[-0.00015564]`<br>`[-0.00010827]`<br>`[-0.00016452]]`|"
      ]
    },
    {
      "cell_type": "markdown",
      "metadata": {
        "id": "gEMEe8JMkmhE"
      },
      "source": [
        "### Save the above output to `.npy`"
      ]
    },
    {
      "cell_type": "code",
      "execution_count": 45,
      "metadata": {
        "id": "W6SUWskHkmMd"
      },
      "outputs": [
        {
          "name": "stdout",
          "output_type": "stream",
          "text": [
            "RNN_initialization:\n",
            "  Wx shape: <class 'tuple'>\n",
            "  Wh shape: <class 'tuple'>\n",
            "  bh shape: <class 'tuple'>\n",
            "RNN_forward:\n",
            "  X shape: <class 'tuple'>\n",
            "  X: <class 'numpy.ndarray'>\n",
            "  Output shape: <class 'tuple'>\n",
            "  Output: <class 'numpy.ndarray'>\n",
            "RNN_backward:\n",
            "  dH shape: <class 'tuple'>\n",
            "  dH: <class 'numpy.ndarray'>\n",
            "  dL_dX shape: <class 'tuple'>\n",
            "  dL_dX: <class 'numpy.ndarray'>\n",
            "  dL_dWx shape: <class 'tuple'>\n",
            "  dL_dWx: <class 'numpy.ndarray'>\n",
            "  dL_dWh shape: <class 'tuple'>\n",
            "  dL_dWh: <class 'numpy.ndarray'>\n",
            "  dL_dbh shape: <class 'tuple'>\n",
            "  dL_dbh: <class 'numpy.ndarray'>\n",
            "Model_class:\n",
            "  AL: <class 'numpy.ndarray'>\n",
            "  dA_prev: <class 'numpy.ndarray'>\n",
            "  Wx of RNN: <class 'numpy.ndarray'>\n",
            "  Wh of RNN: <class 'numpy.ndarray'>\n",
            "  bh of RNN: <class 'numpy.ndarray'>\n"
          ]
        }
      ],
      "source": [
        "assert list(outputs.keys()) == ['RNN_initialization', 'RNN_forward', 'RNN_backward', 'Model_class']\n",
        "np.save('Lab6_outputs.npy', outputs)\n",
        "# sanity check for saved outputs\n",
        "submit = np.load(\"Lab6_outputs.npy\", allow_pickle=True).item()\n",
        "for key, value in submit.items():\n",
        "    if isinstance(value, dict):  # Check if value is a dictionary\n",
        "        print(f\"{key}:\")\n",
        "        for inner_key, inner_value in value.items():\n",
        "            print(f\"  {inner_key}: {type(inner_value)}\")  # Print type of inner values\n",
        "    else:\n",
        "        print(f\"{key}: {type(value)}\")  # Print type of other values"
      ]
    },
    {
      "cell_type": "markdown",
      "metadata": {
        "id": "m-Q5MP76mda2"
      },
      "source": [
        "Expected output:\n",
        "\n",
        "\n",
        "```\n",
        "RNN_initialization:\n",
        "  Wx shape: <class 'tuple'>\n",
        "  Wh shape: <class 'tuple'>\n",
        "  bh shape: <class 'tuple'>\n",
        "RNN_forward:\n",
        "  X shape: <class 'tuple'>\n",
        "  X: <class 'numpy.ndarray'>\n",
        "  Output shape: <class 'tuple'>\n",
        "  Output: <class 'numpy.ndarray'>\n",
        "RNN_backward:\n",
        "  dH shape: <class 'tuple'>\n",
        "  dH: <class 'numpy.ndarray'>\n",
        "  dL_dX shape: <class 'tuple'>\n",
        "  dL_dX: <class 'numpy.ndarray'>\n",
        "  dL_dWx shape: <class 'tuple'>\n",
        "  dL_dWx: <class 'numpy.ndarray'>\n",
        "  dL_dWh shape: <class 'tuple'>\n",
        "  dL_dWh: <class 'numpy.ndarray'>\n",
        "  dL_dbh shape: <class 'tuple'>\n",
        "  dL_dbh: <class 'numpy.ndarray'>\n",
        "Model_class:\n",
        "  AL: <class 'numpy.ndarray'>\n",
        "  dA_prev: <class 'numpy.ndarray'>\n",
        "  Wx of RNN: <class 'numpy.ndarray'>\n",
        "  Wh of RNN: <class 'numpy.ndarray'>\n",
        "  bh of RNN: <class 'numpy.ndarray'>\n",
        "```\n",
        "\n"
      ]
    },
    {
      "cell_type": "markdown",
      "metadata": {
        "id": "QOLxLMMl9BD9"
      },
      "source": [
        "## Sinusoidal wave dataset (20%)\n",
        "In this section, we will generate a dataset of sinusoidal waves with varying frequencies, amplitudes, and random phase shifts. The **last value** in each sequence will be used as the target prediction. This dataset will be used for training and validating a model.\n",
        "\n",
        "\n",
        "\n",
        "*   You can decide how many `num_samples`, `num_timesteps`, `freq_range` and `amp_range` you want to generate your own training dataset. (**there is no provided training dataset!**)\n",
        "* ⚠⚠ You need to download X_test.csv from Kaggle and put it into Sinewave directory. (Or you have to change the path when generating prediction)\n",
        "* For **testing data** on Kaggle, we used `num_timesteps = 100`, `0.5 <= freq_range <= 5` & `0.5 <= amp_range <= 5` to generate, your training dataset can try to cover these range in testing data.\n",
        "* You need submit the `y_test.csv` to Kaggle\n",
        "    * `MAPE <= 17%` -> 10 points\n",
        "    * `MAPE <= 14%` -> 20 points\n",
        "* **Kaggle Link**: https://www.kaggle.com/t/512f44fe285d4c1bb90c39884f8a2a33"
      ]
    },
    {
      "cell_type": "code",
      "execution_count": 63,
      "metadata": {
        "id": "4eIHk7hbB7Cg"
      },
      "outputs": [
        {
          "data": {
            "image/png": "[encoded data removed]",
            "text/plain": [
              "<Figure size 640x480 with 1 Axes>"
            ]
          },
          "metadata": {},
          "output_type": "display_data"
        }
      ],
      "source": [
        "# Generate Sinusoidal Wave Dataset\n",
        "\n",
        "def generate_sine_wave_data(num_samples, num_timesteps, freq_range, amp_range):\n",
        "    \"\"\"\n",
        "    Generate sine wave data with varying frequencies, amplitudes, and random phase shifts.\n",
        "    The last value in each sequence is used as the target prediction.\n",
        "\n",
        "    Parameters:\n",
        "    - num_samples: Number of samples to generate.\n",
        "    - num_timesteps: Number of timesteps for each sample.\n",
        "    - freq_range: Tuple of floor and ceiling of frequency range.\n",
        "    - amp_range: Tuple of floor and ceiling of amplitude range.\n",
        "\n",
        "    Returns:\n",
        "    - X: Generated sine wave data of shape (num_samples, num_timesteps - 1).\n",
        "    - y: Target values of shape (num_samples,).\n",
        "    \"\"\"\n",
        "    X = np.zeros((num_samples, num_timesteps - 1))\n",
        "    y = np.zeros(num_samples)\n",
        "    for i in range(num_samples):\n",
        "        ### START CODE HERE ###\n",
        "        # Choose the frequency, amplitude and shift phase value.\n",
        "        freq = np.random.uniform(*freq_range)             # Random choose from freq_range.\n",
        "        amp = np.random.uniform(*amp_range)              # Random choose from amp_range.\n",
        "        phase_shift = np.random.uniform(0, 2 * np.pi)      # Random choose from (0, 2*pi).\n",
        "        ### END CODE HERE ###\n",
        "\n",
        "        t = np.linspace(0, 2 * np.pi, num_timesteps)\n",
        "        sine_wave = amp * np.sin(freq * t + phase_shift)\n",
        "        X[i] = sine_wave[:-1]  # All but the last value\n",
        "        y[i] = sine_wave[-1]   # The last value\n",
        "    return X, y\n",
        "\n",
        "### START CODE HERE ###\n",
        "# You can modify to your preferred range and number of samples. (Note: It's recommended to cover the range of testing data mentioned above.)\n",
        "num_samples = 1600\n",
        "num_timesteps = 100\n",
        "freq_range = (0.5, 5.0)  # Frequency range  # 10\n",
        "amp_range = (0.5, 5.0)   # Amplitude range  # 10\n",
        "### END CODE HERE ###\n",
        "\n",
        "X, y = generate_sine_wave_data(num_samples, num_timesteps, freq_range, amp_range)\n",
        "\n",
        "### START CODE HERE ###\n",
        "# Split data into training and validation sets\n",
        "split_idx = int(0.8 * num_samples)  # 80% training, 20% validation\n",
        "X_train, X_val = X[:split_idx], X[split_idx:]\n",
        "y_train, y_val = y[:split_idx], y[split_idx:]\n",
        "### END CODE HERE ###\n",
        "\n",
        "# Plot an example sequence\n",
        "plt.plot(X_train[0], label='Input Sequence')\n",
        "plt.plot(np.arange(num_timesteps, num_timesteps + 1), y_train[0], 'ro', label='Target Value')\n",
        "plt.legend()\n",
        "plt.show()\n"
      ]
    },
    {
      "cell_type": "markdown",
      "metadata": {
        "id": "ambyK8w0CYko"
      },
      "source": [
        "### Construct the model with Dense layer only\n",
        "Here, we want you to construct the model with **Dense layer only** like you did in Lab4. You may modify the model structure and parameters in the way you like."
      ]
    },
    {
      "cell_type": "code",
      "execution_count": 50,
      "metadata": {
        "id": "NHebwBbOCeZy"
      },
      "outputs": [
        {
          "name": "stderr",
          "output_type": "stream",
          "text": [
            "Epoch 1/200: 100%|██████████| 160/160 [00:00<00:00, 3388.84batch/s, loss=14.3]\n"
          ]
        },
        {
          "name": "stdout",
          "output_type": "stream",
          "text": [
            "Epoch 1/200, Training Loss: 14.320253053810157\n",
            "Epoch 1/200, Validation Loss: 6.358881224015014\n"
          ]
        },
        {
          "name": "stderr",
          "output_type": "stream",
          "text": [
            "Epoch 2/200: 100%|██████████| 160/160 [00:00<00:00, 4585.76batch/s, loss=4.68]\n"
          ]
        },
        {
          "name": "stdout",
          "output_type": "stream",
          "text": [
            "Epoch 2/200, Training Loss: 4.675878417974219\n",
            "Epoch 2/200, Validation Loss: 4.2757506700548635\n"
          ]
        },
        {
          "name": "stderr",
          "output_type": "stream",
          "text": [
            "Epoch 3/200: 100%|██████████| 160/160 [00:00<00:00, 5555.37batch/s, loss=3.04]\n"
          ]
        },
        {
          "name": "stdout",
          "output_type": "stream",
          "text": [
            "Epoch 3/200, Training Loss: 3.0354163040483995\n",
            "Epoch 3/200, Validation Loss: 3.227106025617299\n"
          ]
        },
        {
          "name": "stderr",
          "output_type": "stream",
          "text": [
            "Epoch 4/200: 100%|██████████| 160/160 [00:00<00:00, 5269.81batch/s, loss=2.24]\n"
          ]
        },
        {
          "name": "stdout",
          "output_type": "stream",
          "text": [
            "Epoch 4/200, Training Loss: 2.244774318185961\n",
            "Epoch 4/200, Validation Loss: 2.554059595967537\n"
          ]
        },
        {
          "name": "stderr",
          "output_type": "stream",
          "text": [
            "Epoch 5/200: 100%|██████████| 160/160 [00:00<00:00, 5365.32batch/s, loss=1.77]\n"
          ]
        },
        {
          "name": "stdout",
          "output_type": "stream",
          "text": [
            "Epoch 5/200, Training Loss: 1.7705695041960159\n",
            "Epoch 5/200, Validation Loss: 2.1010027396612405\n"
          ]
        },
        {
          "name": "stderr",
          "output_type": "stream",
          "text": [
            "Epoch 6/200: 100%|██████████| 160/160 [00:00<00:00, 5373.78batch/s, loss=1.46]\n"
          ]
        },
        {
          "name": "stdout",
          "output_type": "stream",
          "text": [
            "Epoch 6/200, Training Loss: 1.4582477549627568\n",
            "Epoch 6/200, Validation Loss: 1.7749015459364479\n"
          ]
        },
        {
          "name": "stderr",
          "output_type": "stream",
          "text": [
            "Epoch 7/200: 100%|██████████| 160/160 [00:00<00:00, 4443.82batch/s, loss=1.24]\n"
          ]
        },
        {
          "name": "stdout",
          "output_type": "stream",
          "text": [
            "Epoch 7/200, Training Loss: 1.2400978909480662\n",
            "Epoch 7/200, Validation Loss: 1.532871603619597\n"
          ]
        },
        {
          "name": "stderr",
          "output_type": "stream",
          "text": [
            "Epoch 8/200: 100%|██████████| 160/160 [00:00<00:00, 3574.68batch/s, loss=1.08]\n"
          ]
        },
        {
          "name": "stdout",
          "output_type": "stream",
          "text": [
            "Epoch 8/200, Training Loss: 1.078838410593363\n",
            "Epoch 8/200, Validation Loss: 1.351831177657102\n"
          ]
        },
        {
          "name": "stderr",
          "output_type": "stream",
          "text": [
            "Epoch 9/200: 100%|██████████| 160/160 [00:00<00:00, 4484.87batch/s, loss=0.957]\n"
          ]
        },
        {
          "name": "stdout",
          "output_type": "stream",
          "text": [
            "Epoch 9/200, Training Loss: 0.9569893054271683\n",
            "Epoch 9/200, Validation Loss: 1.2123977970657576\n"
          ]
        },
        {
          "name": "stderr",
          "output_type": "stream",
          "text": [
            "Epoch 10/200: 100%|██████████| 160/160 [00:00<00:00, 4297.11batch/s, loss=0.861]\n"
          ]
        },
        {
          "name": "stdout",
          "output_type": "stream",
          "text": [
            "Epoch 10/200, Training Loss: 0.86051597667982\n",
            "Epoch 10/200, Validation Loss: 1.1040235698827214\n"
          ]
        },
        {
          "name": "stderr",
          "output_type": "stream",
          "text": [
            "Epoch 11/200: 100%|██████████| 160/160 [00:00<00:00, 4401.04batch/s, loss=0.783]\n"
          ]
        },
        {
          "name": "stdout",
          "output_type": "stream",
          "text": [
            "Epoch 11/200, Training Loss: 0.782972682603599\n",
            "Epoch 11/200, Validation Loss: 1.0208081986722686\n"
          ]
        },
        {
          "name": "stderr",
          "output_type": "stream",
          "text": [
            "Epoch 12/200: 100%|██████████| 160/160 [00:00<00:00, 4867.41batch/s, loss=0.719]\n"
          ]
        },
        {
          "name": "stdout",
          "output_type": "stream",
          "text": [
            "Epoch 12/200, Training Loss: 0.7187355315959483\n",
            "Epoch 12/200, Validation Loss: 0.9557099891994192\n"
          ]
        },
        {
          "name": "stderr",
          "output_type": "stream",
          "text": [
            "Epoch 13/200: 100%|██████████| 160/160 [00:00<00:00, 5099.77batch/s, loss=0.665]\n"
          ]
        },
        {
          "name": "stdout",
          "output_type": "stream",
          "text": [
            "Epoch 13/200, Training Loss: 0.6645243089499494\n",
            "Epoch 13/200, Validation Loss: 0.9033848508590604\n"
          ]
        },
        {
          "name": "stderr",
          "output_type": "stream",
          "text": [
            "Epoch 14/200: 100%|██████████| 160/160 [00:00<00:00, 4345.73batch/s, loss=0.617]\n"
          ]
        },
        {
          "name": "stdout",
          "output_type": "stream",
          "text": [
            "Epoch 14/200, Training Loss: 0.617492474970117\n",
            "Epoch 14/200, Validation Loss: 0.8630701791046399\n"
          ]
        },
        {
          "name": "stderr",
          "output_type": "stream",
          "text": [
            "Epoch 15/200: 100%|██████████| 160/160 [00:00<00:00, 3832.10batch/s, loss=0.577]\n"
          ]
        },
        {
          "name": "stdout",
          "output_type": "stream",
          "text": [
            "Epoch 15/200, Training Loss: 0.5769933217394654\n",
            "Epoch 15/200, Validation Loss: 0.8308233550091053\n"
          ]
        },
        {
          "name": "stderr",
          "output_type": "stream",
          "text": [
            "Epoch 16/200: 100%|██████████| 160/160 [00:00<00:00, 4603.43batch/s, loss=0.541]\n"
          ]
        },
        {
          "name": "stdout",
          "output_type": "stream",
          "text": [
            "Epoch 16/200, Training Loss: 0.5412958177835964\n",
            "Epoch 16/200, Validation Loss: 0.8053152042694536\n"
          ]
        },
        {
          "name": "stderr",
          "output_type": "stream",
          "text": [
            "Epoch 17/200: 100%|██████████| 160/160 [00:00<00:00, 4900.82batch/s, loss=0.509]\n"
          ]
        },
        {
          "name": "stdout",
          "output_type": "stream",
          "text": [
            "Epoch 17/200, Training Loss: 0.5093706397904572\n",
            "Epoch 17/200, Validation Loss: 0.7851481997535441\n"
          ]
        },
        {
          "name": "stderr",
          "output_type": "stream",
          "text": [
            "Epoch 18/200: 100%|██████████| 160/160 [00:00<00:00, 5225.94batch/s, loss=0.481]\n"
          ]
        },
        {
          "name": "stdout",
          "output_type": "stream",
          "text": [
            "Epoch 18/200, Training Loss: 0.48074157627736414\n",
            "Epoch 18/200, Validation Loss: 0.7673124062856678\n"
          ]
        },
        {
          "name": "stderr",
          "output_type": "stream",
          "text": [
            "Epoch 19/200: 100%|██████████| 160/160 [00:00<00:00, 5352.95batch/s, loss=0.455]\n"
          ]
        },
        {
          "name": "stdout",
          "output_type": "stream",
          "text": [
            "Epoch 19/200, Training Loss: 0.45512341734855155\n",
            "Epoch 19/200, Validation Loss: 0.7538512272921718\n"
          ]
        },
        {
          "name": "stderr",
          "output_type": "stream",
          "text": [
            "Epoch 20/200: 100%|██████████| 160/160 [00:00<00:00, 5552.57batch/s, loss=0.432]\n"
          ]
        },
        {
          "name": "stdout",
          "output_type": "stream",
          "text": [
            "Epoch 20/200, Training Loss: 0.43156348133308153\n",
            "Epoch 20/200, Validation Loss: 0.7414704315397806\n"
          ]
        },
        {
          "name": "stderr",
          "output_type": "stream",
          "text": [
            "Epoch 21/200: 100%|██████████| 160/160 [00:00<00:00, 5793.09batch/s, loss=0.41] \n"
          ]
        },
        {
          "name": "stdout",
          "output_type": "stream",
          "text": [
            "Epoch 21/200, Training Loss: 0.41045196504781345\n",
            "Epoch 21/200, Validation Loss: 0.7321251729209215\n"
          ]
        },
        {
          "name": "stderr",
          "output_type": "stream",
          "text": [
            "Epoch 22/200: 100%|██████████| 160/160 [00:00<00:00, 5431.94batch/s, loss=0.391]\n"
          ]
        },
        {
          "name": "stdout",
          "output_type": "stream",
          "text": [
            "Epoch 22/200, Training Loss: 0.39092958238031994\n",
            "Epoch 22/200, Validation Loss: 0.723230622173359\n"
          ]
        },
        {
          "name": "stderr",
          "output_type": "stream",
          "text": [
            "Epoch 23/200: 100%|██████████| 160/160 [00:00<00:00, 5107.84batch/s, loss=0.373]\n"
          ]
        },
        {
          "name": "stdout",
          "output_type": "stream",
          "text": [
            "Epoch 23/200, Training Loss: 0.37286062100894624\n",
            "Epoch 23/200, Validation Loss: 0.7174554696025975\n"
          ]
        },
        {
          "name": "stderr",
          "output_type": "stream",
          "text": [
            "Epoch 24/200: 100%|██████████| 160/160 [00:00<00:00, 5515.37batch/s, loss=0.357]\n"
          ]
        },
        {
          "name": "stdout",
          "output_type": "stream",
          "text": [
            "Epoch 24/200, Training Loss: 0.356932261646067\n",
            "Epoch 24/200, Validation Loss: 0.710376917704377\n"
          ]
        },
        {
          "name": "stderr",
          "output_type": "stream",
          "text": [
            "Epoch 25/200: 100%|██████████| 160/160 [00:00<00:00, 5181.27batch/s, loss=0.342]\n"
          ]
        },
        {
          "name": "stdout",
          "output_type": "stream",
          "text": [
            "Epoch 25/200, Training Loss: 0.34215502601722986\n",
            "Epoch 25/200, Validation Loss: 0.706068172384318\n"
          ]
        },
        {
          "name": "stderr",
          "output_type": "stream",
          "text": [
            "Epoch 26/200: 100%|██████████| 160/160 [00:00<00:00, 5474.07batch/s, loss=0.328]\n"
          ]
        },
        {
          "name": "stdout",
          "output_type": "stream",
          "text": [
            "Epoch 26/200, Training Loss: 0.3283804183615818\n",
            "Epoch 26/200, Validation Loss: 0.7003005099573157\n"
          ]
        },
        {
          "name": "stderr",
          "output_type": "stream",
          "text": [
            "Epoch 27/200: 100%|██████████| 160/160 [00:00<00:00, 3524.14batch/s, loss=0.316]\n"
          ]
        },
        {
          "name": "stdout",
          "output_type": "stream",
          "text": [
            "Epoch 27/200, Training Loss: 0.3156674688087752\n",
            "Epoch 27/200, Validation Loss: 0.695602018624606\n"
          ]
        },
        {
          "name": "stderr",
          "output_type": "stream",
          "text": [
            "Epoch 28/200: 100%|██████████| 160/160 [00:00<00:00, 5009.99batch/s, loss=0.304]\n"
          ]
        },
        {
          "name": "stdout",
          "output_type": "stream",
          "text": [
            "Epoch 28/200, Training Loss: 0.3035763733748797\n",
            "Epoch 28/200, Validation Loss: 0.6915967562205152\n"
          ]
        },
        {
          "name": "stderr",
          "output_type": "stream",
          "text": [
            "Epoch 29/200: 100%|██████████| 160/160 [00:00<00:00, 5162.70batch/s, loss=0.292]\n"
          ]
        },
        {
          "name": "stdout",
          "output_type": "stream",
          "text": [
            "Epoch 29/200, Training Loss: 0.2923492310701266\n",
            "Epoch 29/200, Validation Loss: 0.6882711071842945\n"
          ]
        },
        {
          "name": "stderr",
          "output_type": "stream",
          "text": [
            "Epoch 30/200: 100%|██████████| 160/160 [00:00<00:00, 5186.28batch/s, loss=0.282]\n"
          ]
        },
        {
          "name": "stdout",
          "output_type": "stream",
          "text": [
            "Epoch 30/200, Training Loss: 0.2820301204275076\n",
            "Epoch 30/200, Validation Loss: 0.6840109683634568\n"
          ]
        },
        {
          "name": "stderr",
          "output_type": "stream",
          "text": [
            "Epoch 31/200: 100%|██████████| 160/160 [00:00<00:00, 5216.35batch/s, loss=0.272]\n"
          ]
        },
        {
          "name": "stdout",
          "output_type": "stream",
          "text": [
            "Epoch 31/200, Training Loss: 0.27241582937940095\n",
            "Epoch 31/200, Validation Loss: 0.6809967120732074\n"
          ]
        },
        {
          "name": "stderr",
          "output_type": "stream",
          "text": [
            "Epoch 32/200: 100%|██████████| 160/160 [00:00<00:00, 5196.76batch/s, loss=0.263]\n"
          ]
        },
        {
          "name": "stdout",
          "output_type": "stream",
          "text": [
            "Epoch 32/200, Training Loss: 0.26347250014434304\n",
            "Epoch 32/200, Validation Loss: 0.6784324445359519\n"
          ]
        },
        {
          "name": "stderr",
          "output_type": "stream",
          "text": [
            "Epoch 33/200: 100%|██████████| 160/160 [00:00<00:00, 4933.24batch/s, loss=0.255]\n"
          ]
        },
        {
          "name": "stdout",
          "output_type": "stream",
          "text": [
            "Epoch 33/200, Training Loss: 0.2551205118357964\n",
            "Epoch 33/200, Validation Loss: 0.6751599686196981\n"
          ]
        },
        {
          "name": "stderr",
          "output_type": "stream",
          "text": [
            "Epoch 34/200: 100%|██████████| 160/160 [00:00<00:00, 5181.95batch/s, loss=0.247]\n"
          ]
        },
        {
          "name": "stdout",
          "output_type": "stream",
          "text": [
            "Epoch 34/200, Training Loss: 0.2471189154529269\n",
            "Epoch 34/200, Validation Loss: 0.6712917929883684\n"
          ]
        },
        {
          "name": "stderr",
          "output_type": "stream",
          "text": [
            "Epoch 35/200: 100%|██████████| 160/160 [00:00<00:00, 5587.66batch/s, loss=0.24] \n"
          ]
        },
        {
          "name": "stdout",
          "output_type": "stream",
          "text": [
            "Epoch 35/200, Training Loss: 0.23976475784769852\n",
            "Epoch 35/200, Validation Loss: 0.6686766561393442\n"
          ]
        },
        {
          "name": "stderr",
          "output_type": "stream",
          "text": [
            "Epoch 36/200: 100%|██████████| 160/160 [00:00<00:00, 5514.33batch/s, loss=0.233]\n"
          ]
        },
        {
          "name": "stdout",
          "output_type": "stream",
          "text": [
            "Epoch 36/200, Training Loss: 0.23280066306897435\n",
            "Epoch 36/200, Validation Loss: 0.6658755186996418\n"
          ]
        },
        {
          "name": "stderr",
          "output_type": "stream",
          "text": [
            "Epoch 37/200: 100%|██████████| 160/160 [00:00<00:00, 4404.13batch/s, loss=0.226]\n"
          ]
        },
        {
          "name": "stdout",
          "output_type": "stream",
          "text": [
            "Epoch 37/200, Training Loss: 0.22649866777949948\n",
            "Epoch 37/200, Validation Loss: 0.6640120542466884\n"
          ]
        },
        {
          "name": "stderr",
          "output_type": "stream",
          "text": [
            "Epoch 38/200: 100%|██████████| 160/160 [00:00<00:00, 5411.87batch/s, loss=0.22] \n"
          ]
        },
        {
          "name": "stdout",
          "output_type": "stream",
          "text": [
            "Epoch 38/200, Training Loss: 0.2202902206144302\n",
            "Epoch 38/200, Validation Loss: 0.6613735872577104\n"
          ]
        },
        {
          "name": "stderr",
          "output_type": "stream",
          "text": [
            "Epoch 39/200: 100%|██████████| 160/160 [00:00<00:00, 5182.55batch/s, loss=0.214]\n"
          ]
        },
        {
          "name": "stdout",
          "output_type": "stream",
          "text": [
            "Epoch 39/200, Training Loss: 0.21445773458585102\n",
            "Epoch 39/200, Validation Loss: 0.6582503161347522\n"
          ]
        },
        {
          "name": "stderr",
          "output_type": "stream",
          "text": [
            "Epoch 40/200: 100%|██████████| 160/160 [00:00<00:00, 4139.71batch/s, loss=0.209]\n"
          ]
        },
        {
          "name": "stdout",
          "output_type": "stream",
          "text": [
            "Epoch 40/200, Training Loss: 0.20919870589300066\n",
            "Epoch 40/200, Validation Loss: 0.6567379035097104\n"
          ]
        },
        {
          "name": "stderr",
          "output_type": "stream",
          "text": [
            "Epoch 41/200: 100%|██████████| 160/160 [00:00<00:00, 4558.31batch/s, loss=0.204]\n"
          ]
        },
        {
          "name": "stdout",
          "output_type": "stream",
          "text": [
            "Epoch 41/200, Training Loss: 0.2039887159300075\n",
            "Epoch 41/200, Validation Loss: 0.6521224121223705\n"
          ]
        },
        {
          "name": "stderr",
          "output_type": "stream",
          "text": [
            "Epoch 42/200: 100%|██████████| 160/160 [00:00<00:00, 5391.61batch/s, loss=0.199]\n"
          ]
        },
        {
          "name": "stdout",
          "output_type": "stream",
          "text": [
            "Epoch 42/200, Training Loss: 0.1990995655724655\n",
            "Epoch 42/200, Validation Loss: 0.6502510787965259\n"
          ]
        },
        {
          "name": "stderr",
          "output_type": "stream",
          "text": [
            "Epoch 43/200: 100%|██████████| 160/160 [00:00<00:00, 5334.95batch/s, loss=0.195]\n"
          ]
        },
        {
          "name": "stdout",
          "output_type": "stream",
          "text": [
            "Epoch 43/200, Training Loss: 0.19464975582979102\n",
            "Epoch 43/200, Validation Loss: 0.6487036465788251\n"
          ]
        },
        {
          "name": "stderr",
          "output_type": "stream",
          "text": [
            "Epoch 44/200: 100%|██████████| 160/160 [00:00<00:00, 5263.56batch/s, loss=0.19] \n"
          ]
        },
        {
          "name": "stdout",
          "output_type": "stream",
          "text": [
            "Epoch 44/200, Training Loss: 0.19024585168248753\n",
            "Epoch 44/200, Validation Loss: 0.6460268350716006\n"
          ]
        },
        {
          "name": "stderr",
          "output_type": "stream",
          "text": [
            "Epoch 45/200: 100%|██████████| 160/160 [00:00<00:00, 5266.08batch/s, loss=0.186]\n"
          ]
        },
        {
          "name": "stdout",
          "output_type": "stream",
          "text": [
            "Epoch 45/200, Training Loss: 0.1862298307110713\n",
            "Epoch 45/200, Validation Loss: 0.6436852022920929\n"
          ]
        },
        {
          "name": "stderr",
          "output_type": "stream",
          "text": [
            "Epoch 46/200: 100%|██████████| 160/160 [00:00<00:00, 5116.25batch/s, loss=0.182]\n"
          ]
        },
        {
          "name": "stdout",
          "output_type": "stream",
          "text": [
            "Epoch 46/200, Training Loss: 0.18237639858315807\n",
            "Epoch 46/200, Validation Loss: 0.641829759634227\n"
          ]
        },
        {
          "name": "stderr",
          "output_type": "stream",
          "text": [
            "Epoch 47/200: 100%|██████████| 160/160 [00:00<00:00, 5172.80batch/s, loss=0.179]\n"
          ]
        },
        {
          "name": "stdout",
          "output_type": "stream",
          "text": [
            "Epoch 47/200, Training Loss: 0.17857356346596343\n",
            "Epoch 47/200, Validation Loss: 0.6392412917960233\n"
          ]
        },
        {
          "name": "stderr",
          "output_type": "stream",
          "text": [
            "Epoch 48/200: 100%|██████████| 160/160 [00:00<00:00, 5275.15batch/s, loss=0.175]\n"
          ]
        },
        {
          "name": "stdout",
          "output_type": "stream",
          "text": [
            "Epoch 48/200, Training Loss: 0.17518868900315926\n",
            "Epoch 48/200, Validation Loss: 0.6385061917889452\n"
          ]
        },
        {
          "name": "stderr",
          "output_type": "stream",
          "text": [
            "Epoch 49/200: 100%|██████████| 160/160 [00:00<00:00, 5362.87batch/s, loss=0.172]\n"
          ]
        },
        {
          "name": "stdout",
          "output_type": "stream",
          "text": [
            "Epoch 49/200, Training Loss: 0.17168276804228713\n",
            "Epoch 49/200, Validation Loss: 0.6350231802795685\n"
          ]
        },
        {
          "name": "stderr",
          "output_type": "stream",
          "text": [
            "Epoch 50/200: 100%|██████████| 160/160 [00:00<00:00, 5150.69batch/s, loss=0.168]\n"
          ]
        },
        {
          "name": "stdout",
          "output_type": "stream",
          "text": [
            "Epoch 50/200, Training Loss: 0.16848585627062365\n",
            "Epoch 50/200, Validation Loss: 0.6329580993408123\n"
          ]
        },
        {
          "name": "stderr",
          "output_type": "stream",
          "text": [
            "Epoch 51/200: 100%|██████████| 160/160 [00:00<00:00, 5166.67batch/s, loss=0.165]\n"
          ]
        },
        {
          "name": "stdout",
          "output_type": "stream",
          "text": [
            "Epoch 51/200, Training Loss: 0.16544900590651285\n",
            "Epoch 51/200, Validation Loss: 0.6303304575214591\n"
          ]
        },
        {
          "name": "stderr",
          "output_type": "stream",
          "text": [
            "Epoch 52/200: 100%|██████████| 160/160 [00:00<00:00, 5498.70batch/s, loss=0.162]\n"
          ]
        },
        {
          "name": "stdout",
          "output_type": "stream",
          "text": [
            "Epoch 52/200, Training Loss: 0.16239323175028705\n",
            "Epoch 52/200, Validation Loss: 0.6284270796780544\n"
          ]
        },
        {
          "name": "stderr",
          "output_type": "stream",
          "text": [
            "Epoch 53/200: 100%|██████████| 160/160 [00:00<00:00, 3982.75batch/s, loss=0.16] \n"
          ]
        },
        {
          "name": "stdout",
          "output_type": "stream",
          "text": [
            "Epoch 53/200, Training Loss: 0.15967875534872178\n",
            "Epoch 53/200, Validation Loss: 0.6241727669304343\n"
          ]
        },
        {
          "name": "stderr",
          "output_type": "stream",
          "text": [
            "Epoch 54/200: 100%|██████████| 160/160 [00:00<00:00, 4487.81batch/s, loss=0.157]\n"
          ]
        },
        {
          "name": "stdout",
          "output_type": "stream",
          "text": [
            "Epoch 54/200, Training Loss: 0.15703575083932886\n",
            "Epoch 54/200, Validation Loss: 0.6222422914426478\n"
          ]
        },
        {
          "name": "stderr",
          "output_type": "stream",
          "text": [
            "Epoch 55/200: 100%|██████████| 160/160 [00:00<00:00, 5219.76batch/s, loss=0.154]\n"
          ]
        },
        {
          "name": "stdout",
          "output_type": "stream",
          "text": [
            "Epoch 55/200, Training Loss: 0.1544680691487339\n",
            "Epoch 55/200, Validation Loss: 0.6189113110077891\n"
          ]
        },
        {
          "name": "stderr",
          "output_type": "stream",
          "text": [
            "Epoch 56/200: 100%|██████████| 160/160 [00:00<00:00, 5380.68batch/s, loss=0.152]\n"
          ]
        },
        {
          "name": "stdout",
          "output_type": "stream",
          "text": [
            "Epoch 56/200, Training Loss: 0.15201470213095578\n",
            "Epoch 56/200, Validation Loss: 0.6156429455790168\n"
          ]
        },
        {
          "name": "stderr",
          "output_type": "stream",
          "text": [
            "Epoch 57/200: 100%|██████████| 160/160 [00:00<00:00, 4470.02batch/s, loss=0.15] \n"
          ]
        },
        {
          "name": "stdout",
          "output_type": "stream",
          "text": [
            "Epoch 57/200, Training Loss: 0.14990155957910561\n",
            "Epoch 57/200, Validation Loss: 0.6139693958608032\n"
          ]
        },
        {
          "name": "stderr",
          "output_type": "stream",
          "text": [
            "Epoch 58/200: 100%|██████████| 160/160 [00:00<00:00, 4959.34batch/s, loss=0.148]\n"
          ]
        },
        {
          "name": "stdout",
          "output_type": "stream",
          "text": [
            "Epoch 58/200, Training Loss: 0.14760551820897455\n",
            "Epoch 58/200, Validation Loss: 0.6101488523632901\n"
          ]
        },
        {
          "name": "stderr",
          "output_type": "stream",
          "text": [
            "Epoch 59/200: 100%|██████████| 160/160 [00:00<00:00, 4965.18batch/s, loss=0.146]\n"
          ]
        },
        {
          "name": "stdout",
          "output_type": "stream",
          "text": [
            "Epoch 59/200, Training Loss: 0.14551952253169922\n",
            "Epoch 59/200, Validation Loss: 0.6078398515881154\n"
          ]
        },
        {
          "name": "stderr",
          "output_type": "stream",
          "text": [
            "Epoch 60/200: 100%|██████████| 160/160 [00:00<00:00, 5413.36batch/s, loss=0.143]\n"
          ]
        },
        {
          "name": "stdout",
          "output_type": "stream",
          "text": [
            "Epoch 60/200, Training Loss: 0.14337174184019946\n",
            "Epoch 60/200, Validation Loss: 0.6039354297540906\n"
          ]
        },
        {
          "name": "stderr",
          "output_type": "stream",
          "text": [
            "Epoch 61/200: 100%|██████████| 160/160 [00:00<00:00, 4624.43batch/s, loss=0.141]\n"
          ]
        },
        {
          "name": "stdout",
          "output_type": "stream",
          "text": [
            "Epoch 61/200, Training Loss: 0.14142925184799024\n",
            "Epoch 61/200, Validation Loss: 0.6016832577793321\n"
          ]
        },
        {
          "name": "stderr",
          "output_type": "stream",
          "text": [
            "Epoch 62/200: 100%|██████████| 160/160 [00:00<00:00, 5116.41batch/s, loss=0.14] \n"
          ]
        },
        {
          "name": "stdout",
          "output_type": "stream",
          "text": [
            "Epoch 62/200, Training Loss: 0.13951690617251303\n",
            "Epoch 62/200, Validation Loss: 0.599218291230459\n"
          ]
        },
        {
          "name": "stderr",
          "output_type": "stream",
          "text": [
            "Epoch 63/200: 100%|██████████| 160/160 [00:00<00:00, 4998.05batch/s, loss=0.138]\n"
          ]
        },
        {
          "name": "stdout",
          "output_type": "stream",
          "text": [
            "Epoch 63/200, Training Loss: 0.1376142339804362\n",
            "Epoch 63/200, Validation Loss: 0.5952698562797183\n"
          ]
        },
        {
          "name": "stderr",
          "output_type": "stream",
          "text": [
            "Epoch 64/200: 100%|██████████| 160/160 [00:00<00:00, 5434.66batch/s, loss=0.136]\n"
          ]
        },
        {
          "name": "stdout",
          "output_type": "stream",
          "text": [
            "Epoch 64/200, Training Loss: 0.13590113337788914\n",
            "Epoch 64/200, Validation Loss: 0.5930252078761348\n"
          ]
        },
        {
          "name": "stderr",
          "output_type": "stream",
          "text": [
            "Epoch 65/200: 100%|██████████| 160/160 [00:00<00:00, 5713.24batch/s, loss=0.134]\n"
          ]
        },
        {
          "name": "stdout",
          "output_type": "stream",
          "text": [
            "Epoch 65/200, Training Loss: 0.13408886957823857\n",
            "Epoch 65/200, Validation Loss: 0.5889805665360538\n"
          ]
        },
        {
          "name": "stderr",
          "output_type": "stream",
          "text": [
            "Epoch 66/200: 100%|██████████| 160/160 [00:00<00:00, 3392.68batch/s, loss=0.132]\n"
          ]
        },
        {
          "name": "stdout",
          "output_type": "stream",
          "text": [
            "Epoch 66/200, Training Loss: 0.13248235576430295\n",
            "Epoch 66/200, Validation Loss: 0.5871472928325926\n"
          ]
        },
        {
          "name": "stderr",
          "output_type": "stream",
          "text": [
            "Epoch 67/200: 100%|██████████| 160/160 [00:00<00:00, 4539.81batch/s, loss=0.131]\n"
          ]
        },
        {
          "name": "stdout",
          "output_type": "stream",
          "text": [
            "Epoch 67/200, Training Loss: 0.13081874583379607\n",
            "Epoch 67/200, Validation Loss: 0.5831682098486113\n"
          ]
        },
        {
          "name": "stderr",
          "output_type": "stream",
          "text": [
            "Epoch 68/200: 100%|██████████| 160/160 [00:00<00:00, 5492.53batch/s, loss=0.129]\n"
          ]
        },
        {
          "name": "stdout",
          "output_type": "stream",
          "text": [
            "Epoch 68/200, Training Loss: 0.12936440345089087\n",
            "Epoch 68/200, Validation Loss: 0.5807386294218524\n"
          ]
        },
        {
          "name": "stderr",
          "output_type": "stream",
          "text": [
            "Epoch 69/200: 100%|██████████| 160/160 [00:00<00:00, 5445.73batch/s, loss=0.128]\n"
          ]
        },
        {
          "name": "stdout",
          "output_type": "stream",
          "text": [
            "Epoch 69/200, Training Loss: 0.12779349492756556\n",
            "Epoch 69/200, Validation Loss: 0.5778493555078035\n"
          ]
        },
        {
          "name": "stderr",
          "output_type": "stream",
          "text": [
            "Epoch 70/200: 100%|██████████| 160/160 [00:00<00:00, 5194.95batch/s, loss=0.126]\n"
          ]
        },
        {
          "name": "stdout",
          "output_type": "stream",
          "text": [
            "Epoch 70/200, Training Loss: 0.12634409262711427\n",
            "Epoch 70/200, Validation Loss: 0.5737763745278237\n"
          ]
        },
        {
          "name": "stderr",
          "output_type": "stream",
          "text": [
            "Epoch 71/200: 100%|██████████| 160/160 [00:00<00:00, 5679.35batch/s, loss=0.125]\n"
          ]
        },
        {
          "name": "stdout",
          "output_type": "stream",
          "text": [
            "Epoch 71/200, Training Loss: 0.12492803612135228\n",
            "Epoch 71/200, Validation Loss: 0.5717529487848368\n"
          ]
        },
        {
          "name": "stderr",
          "output_type": "stream",
          "text": [
            "Epoch 72/200: 100%|██████████| 160/160 [00:00<00:00, 5180.19batch/s, loss=0.124]\n"
          ]
        },
        {
          "name": "stdout",
          "output_type": "stream",
          "text": [
            "Epoch 72/200, Training Loss: 0.12358377013388082\n",
            "Epoch 72/200, Validation Loss: 0.5673066838748373\n"
          ]
        },
        {
          "name": "stderr",
          "output_type": "stream",
          "text": [
            "Epoch 73/200: 100%|██████████| 160/160 [00:00<00:00, 5395.38batch/s, loss=0.122]\n"
          ]
        },
        {
          "name": "stdout",
          "output_type": "stream",
          "text": [
            "Epoch 73/200, Training Loss: 0.12229193014155819\n",
            "Epoch 73/200, Validation Loss: 0.5652263992675172\n"
          ]
        },
        {
          "name": "stderr",
          "output_type": "stream",
          "text": [
            "Epoch 74/200: 100%|██████████| 160/160 [00:00<00:00, 5049.16batch/s, loss=0.121]\n"
          ]
        },
        {
          "name": "stdout",
          "output_type": "stream",
          "text": [
            "Epoch 74/200, Training Loss: 0.1210209221090788\n",
            "Epoch 74/200, Validation Loss: 0.560976232958809\n"
          ]
        },
        {
          "name": "stderr",
          "output_type": "stream",
          "text": [
            "Epoch 75/200: 100%|██████████| 160/160 [00:00<00:00, 3620.58batch/s, loss=0.12] \n"
          ]
        },
        {
          "name": "stdout",
          "output_type": "stream",
          "text": [
            "Epoch 75/200, Training Loss: 0.11976877909066377\n",
            "Epoch 75/200, Validation Loss: 0.5589011681154515\n"
          ]
        },
        {
          "name": "stderr",
          "output_type": "stream",
          "text": [
            "Epoch 76/200: 100%|██████████| 160/160 [00:00<00:00, 4384.51batch/s, loss=0.119]\n"
          ]
        },
        {
          "name": "stdout",
          "output_type": "stream",
          "text": [
            "Epoch 76/200, Training Loss: 0.11852882358684988\n",
            "Epoch 76/200, Validation Loss: 0.5554840895735089\n"
          ]
        },
        {
          "name": "stderr",
          "output_type": "stream",
          "text": [
            "Epoch 77/200: 100%|██████████| 160/160 [00:00<00:00, 5235.19batch/s, loss=0.117]\n"
          ]
        },
        {
          "name": "stdout",
          "output_type": "stream",
          "text": [
            "Epoch 77/200, Training Loss: 0.11737639618878237\n",
            "Epoch 77/200, Validation Loss: 0.5519333498788751\n"
          ]
        },
        {
          "name": "stderr",
          "output_type": "stream",
          "text": [
            "Epoch 78/200: 100%|██████████| 160/160 [00:00<00:00, 4902.75batch/s, loss=0.116]\n"
          ]
        },
        {
          "name": "stdout",
          "output_type": "stream",
          "text": [
            "Epoch 78/200, Training Loss: 0.11617200334942168\n",
            "Epoch 78/200, Validation Loss: 0.5491145348155387\n"
          ]
        },
        {
          "name": "stderr",
          "output_type": "stream",
          "text": [
            "Epoch 79/200: 100%|██████████| 160/160 [00:00<00:00, 5181.91batch/s, loss=0.115]\n"
          ]
        },
        {
          "name": "stdout",
          "output_type": "stream",
          "text": [
            "Epoch 79/200, Training Loss: 0.11497022311397584\n",
            "Epoch 79/200, Validation Loss: 0.5461852136467321\n"
          ]
        },
        {
          "name": "stderr",
          "output_type": "stream",
          "text": [
            "Epoch 80/200: 100%|██████████| 160/160 [00:00<00:00, 5489.39batch/s, loss=0.114]\n"
          ]
        },
        {
          "name": "stdout",
          "output_type": "stream",
          "text": [
            "Epoch 80/200, Training Loss: 0.11382475796263761\n",
            "Epoch 80/200, Validation Loss: 0.5425905087743633\n"
          ]
        },
        {
          "name": "stderr",
          "output_type": "stream",
          "text": [
            "Epoch 81/200: 100%|██████████| 160/160 [00:00<00:00, 5128.76batch/s, loss=0.113]\n"
          ]
        },
        {
          "name": "stdout",
          "output_type": "stream",
          "text": [
            "Epoch 81/200, Training Loss: 0.11278248719782022\n",
            "Epoch 81/200, Validation Loss: 0.5397064341462056\n"
          ]
        },
        {
          "name": "stderr",
          "output_type": "stream",
          "text": [
            "Epoch 82/200: 100%|██████████| 160/160 [00:00<00:00, 5158.93batch/s, loss=0.112]\n"
          ]
        },
        {
          "name": "stdout",
          "output_type": "stream",
          "text": [
            "Epoch 82/200, Training Loss: 0.11175516425582685\n",
            "Epoch 82/200, Validation Loss: 0.5362561997779801\n"
          ]
        },
        {
          "name": "stderr",
          "output_type": "stream",
          "text": [
            "Epoch 83/200: 100%|██████████| 160/160 [00:00<00:00, 5190.69batch/s, loss=0.111]\n"
          ]
        },
        {
          "name": "stdout",
          "output_type": "stream",
          "text": [
            "Epoch 83/200, Training Loss: 0.1106239097030689\n",
            "Epoch 83/200, Validation Loss: 0.5337607928676504\n"
          ]
        },
        {
          "name": "stderr",
          "output_type": "stream",
          "text": [
            "Epoch 84/200: 100%|██████████| 160/160 [00:00<00:00, 5144.57batch/s, loss=0.11] \n"
          ]
        },
        {
          "name": "stdout",
          "output_type": "stream",
          "text": [
            "Epoch 84/200, Training Loss: 0.10964828200514769\n",
            "Epoch 84/200, Validation Loss: 0.5306063904411727\n"
          ]
        },
        {
          "name": "stderr",
          "output_type": "stream",
          "text": [
            "Epoch 85/200: 100%|██████████| 160/160 [00:00<00:00, 5511.80batch/s, loss=0.109]\n"
          ]
        },
        {
          "name": "stdout",
          "output_type": "stream",
          "text": [
            "Epoch 85/200, Training Loss: 0.1086401756147473\n",
            "Epoch 85/200, Validation Loss: 0.5267314291836961\n"
          ]
        },
        {
          "name": "stderr",
          "output_type": "stream",
          "text": [
            "Epoch 86/200: 100%|██████████| 160/160 [00:00<00:00, 5149.66batch/s, loss=0.108] \n"
          ]
        },
        {
          "name": "stdout",
          "output_type": "stream",
          "text": [
            "Epoch 86/200, Training Loss: 0.10768627990293012\n",
            "Epoch 86/200, Validation Loss: 0.5244446669967803\n"
          ]
        },
        {
          "name": "stderr",
          "output_type": "stream",
          "text": [
            "Epoch 87/200: 100%|██████████| 160/160 [00:00<00:00, 5108.31batch/s, loss=0.107] \n"
          ]
        },
        {
          "name": "stdout",
          "output_type": "stream",
          "text": [
            "Epoch 87/200, Training Loss: 0.10668273347823351\n",
            "Epoch 87/200, Validation Loss: 0.5212216245251375\n"
          ]
        },
        {
          "name": "stderr",
          "output_type": "stream",
          "text": [
            "Epoch 88/200: 100%|██████████| 160/160 [00:00<00:00, 3785.24batch/s, loss=0.106] \n"
          ]
        },
        {
          "name": "stdout",
          "output_type": "stream",
          "text": [
            "Epoch 88/200, Training Loss: 0.10575338579282453\n",
            "Epoch 88/200, Validation Loss: 0.5175449243139643\n"
          ]
        },
        {
          "name": "stderr",
          "output_type": "stream",
          "text": [
            "Epoch 89/200: 100%|██████████| 160/160 [00:00<00:00, 4230.74batch/s, loss=0.105] \n"
          ]
        },
        {
          "name": "stdout",
          "output_type": "stream",
          "text": [
            "Epoch 89/200, Training Loss: 0.10481280224261633\n",
            "Epoch 89/200, Validation Loss: 0.5146397855600704\n"
          ]
        },
        {
          "name": "stderr",
          "output_type": "stream",
          "text": [
            "Epoch 90/200: 100%|██████████| 160/160 [00:00<00:00, 5050.22batch/s, loss=0.104] \n"
          ]
        },
        {
          "name": "stdout",
          "output_type": "stream",
          "text": [
            "Epoch 90/200, Training Loss: 0.1038921439644079\n",
            "Epoch 90/200, Validation Loss: 0.5111991208304576\n"
          ]
        },
        {
          "name": "stderr",
          "output_type": "stream",
          "text": [
            "Epoch 91/200: 100%|██████████| 160/160 [00:00<00:00, 4603.62batch/s, loss=0.103] \n"
          ]
        },
        {
          "name": "stdout",
          "output_type": "stream",
          "text": [
            "Epoch 91/200, Training Loss: 0.10308428815218491\n",
            "Epoch 91/200, Validation Loss: 0.5086313246523114\n"
          ]
        },
        {
          "name": "stderr",
          "output_type": "stream",
          "text": [
            "Epoch 92/200: 100%|██████████| 160/160 [00:00<00:00, 4863.67batch/s, loss=0.102] \n"
          ]
        },
        {
          "name": "stdout",
          "output_type": "stream",
          "text": [
            "Epoch 92/200, Training Loss: 0.10212926110163392\n",
            "Epoch 92/200, Validation Loss: 0.5063480760926938\n"
          ]
        },
        {
          "name": "stderr",
          "output_type": "stream",
          "text": [
            "Epoch 93/200: 100%|██████████| 160/160 [00:00<00:00, 5033.59batch/s, loss=0.101] \n"
          ]
        },
        {
          "name": "stdout",
          "output_type": "stream",
          "text": [
            "Epoch 93/200, Training Loss: 0.1013245556129603\n",
            "Epoch 93/200, Validation Loss: 0.5022566290550339\n"
          ]
        },
        {
          "name": "stderr",
          "output_type": "stream",
          "text": [
            "Epoch 94/200: 100%|██████████| 160/160 [00:00<00:00, 5170.45batch/s, loss=0.101] \n"
          ]
        },
        {
          "name": "stdout",
          "output_type": "stream",
          "text": [
            "Epoch 94/200, Training Loss: 0.10051916190527059\n",
            "Epoch 94/200, Validation Loss: 0.5006504266325339\n"
          ]
        },
        {
          "name": "stderr",
          "output_type": "stream",
          "text": [
            "Epoch 95/200: 100%|██████████| 160/160 [00:00<00:00, 5218.46batch/s, loss=0.0997]\n"
          ]
        },
        {
          "name": "stdout",
          "output_type": "stream",
          "text": [
            "Epoch 95/200, Training Loss: 0.09966808681342025\n",
            "Epoch 95/200, Validation Loss: 0.4968760070595295\n"
          ]
        },
        {
          "name": "stderr",
          "output_type": "stream",
          "text": [
            "Epoch 96/200: 100%|██████████| 160/160 [00:00<00:00, 4658.46batch/s, loss=0.0989]\n"
          ]
        },
        {
          "name": "stdout",
          "output_type": "stream",
          "text": [
            "Epoch 96/200, Training Loss: 0.0988869948740733\n",
            "Epoch 96/200, Validation Loss: 0.4943996403911614\n"
          ]
        },
        {
          "name": "stderr",
          "output_type": "stream",
          "text": [
            "Epoch 97/200: 100%|██████████| 160/160 [00:00<00:00, 4770.90batch/s, loss=0.0981]\n"
          ]
        },
        {
          "name": "stdout",
          "output_type": "stream",
          "text": [
            "Epoch 97/200, Training Loss: 0.09813551813985774\n",
            "Epoch 97/200, Validation Loss: 0.49159769529672676\n"
          ]
        },
        {
          "name": "stderr",
          "output_type": "stream",
          "text": [
            "Epoch 98/200: 100%|██████████| 160/160 [00:00<00:00, 4751.74batch/s, loss=0.0973]\n"
          ]
        },
        {
          "name": "stdout",
          "output_type": "stream",
          "text": [
            "Epoch 98/200, Training Loss: 0.09731958221367992\n",
            "Epoch 98/200, Validation Loss: 0.48920861429917645\n"
          ]
        },
        {
          "name": "stderr",
          "output_type": "stream",
          "text": [
            "Epoch 99/200: 100%|██████████| 160/160 [00:00<00:00, 5262.57batch/s, loss=0.0966]\n"
          ]
        },
        {
          "name": "stdout",
          "output_type": "stream",
          "text": [
            "Epoch 99/200, Training Loss: 0.09658366084613498\n",
            "Epoch 99/200, Validation Loss: 0.486651894397687\n"
          ]
        },
        {
          "name": "stderr",
          "output_type": "stream",
          "text": [
            "Epoch 100/200: 100%|██████████| 160/160 [00:00<00:00, 5286.58batch/s, loss=0.0958]\n"
          ]
        },
        {
          "name": "stdout",
          "output_type": "stream",
          "text": [
            "Epoch 100/200, Training Loss: 0.09581679176973687\n",
            "Epoch 100/200, Validation Loss: 0.483707124028264\n"
          ]
        },
        {
          "name": "stderr",
          "output_type": "stream",
          "text": [
            "Epoch 101/200: 100%|██████████| 160/160 [00:00<00:00, 3657.46batch/s, loss=0.0951]\n"
          ]
        },
        {
          "name": "stdout",
          "output_type": "stream",
          "text": [
            "Epoch 101/200, Training Loss: 0.0951360157887984\n",
            "Epoch 101/200, Validation Loss: 0.4810359074634383\n"
          ]
        },
        {
          "name": "stderr",
          "output_type": "stream",
          "text": [
            "Epoch 102/200: 100%|██████████| 160/160 [00:00<00:00, 4826.10batch/s, loss=0.0944]\n"
          ]
        },
        {
          "name": "stdout",
          "output_type": "stream",
          "text": [
            "Epoch 102/200, Training Loss: 0.09439258937032886\n",
            "Epoch 102/200, Validation Loss: 0.4788763499255768\n"
          ]
        },
        {
          "name": "stderr",
          "output_type": "stream",
          "text": [
            "Epoch 103/200: 100%|██████████| 160/160 [00:00<00:00, 4894.31batch/s, loss=0.0937]\n"
          ]
        },
        {
          "name": "stdout",
          "output_type": "stream",
          "text": [
            "Epoch 103/200, Training Loss: 0.0936674053954199\n",
            "Epoch 103/200, Validation Loss: 0.4756961418768187\n"
          ]
        },
        {
          "name": "stderr",
          "output_type": "stream",
          "text": [
            "Epoch 104/200: 100%|██████████| 160/160 [00:00<00:00, 5309.62batch/s, loss=0.093] \n"
          ]
        },
        {
          "name": "stdout",
          "output_type": "stream",
          "text": [
            "Epoch 104/200, Training Loss: 0.09300842293327646\n",
            "Epoch 104/200, Validation Loss: 0.47313064353027623\n"
          ]
        },
        {
          "name": "stderr",
          "output_type": "stream",
          "text": [
            "Epoch 105/200: 100%|██████████| 160/160 [00:00<00:00, 5326.78batch/s, loss=0.0923]\n"
          ]
        },
        {
          "name": "stdout",
          "output_type": "stream",
          "text": [
            "Epoch 105/200, Training Loss: 0.09229248215947236\n",
            "Epoch 105/200, Validation Loss: 0.47008343288647847\n"
          ]
        },
        {
          "name": "stderr",
          "output_type": "stream",
          "text": [
            "Epoch 106/200: 100%|██████████| 160/160 [00:00<00:00, 5238.79batch/s, loss=0.0916]\n"
          ]
        },
        {
          "name": "stdout",
          "output_type": "stream",
          "text": [
            "Epoch 106/200, Training Loss: 0.09164025257406218\n",
            "Epoch 106/200, Validation Loss: 0.46755747892058364\n"
          ]
        },
        {
          "name": "stderr",
          "output_type": "stream",
          "text": [
            "Epoch 107/200: 100%|██████████| 160/160 [00:00<00:00, 5459.96batch/s, loss=0.091] \n"
          ]
        },
        {
          "name": "stdout",
          "output_type": "stream",
          "text": [
            "Epoch 107/200, Training Loss: 0.0909636794044156\n",
            "Epoch 107/200, Validation Loss: 0.4646437953863973\n"
          ]
        },
        {
          "name": "stderr",
          "output_type": "stream",
          "text": [
            "Epoch 108/200: 100%|██████████| 160/160 [00:00<00:00, 5430.05batch/s, loss=0.0903]\n"
          ]
        },
        {
          "name": "stdout",
          "output_type": "stream",
          "text": [
            "Epoch 108/200, Training Loss: 0.09029559438754865\n",
            "Epoch 108/200, Validation Loss: 0.46139482500790996\n"
          ]
        },
        {
          "name": "stderr",
          "output_type": "stream",
          "text": [
            "Epoch 109/200: 100%|██████████| 160/160 [00:00<00:00, 5212.26batch/s, loss=0.0896]\n"
          ]
        },
        {
          "name": "stdout",
          "output_type": "stream",
          "text": [
            "Epoch 109/200, Training Loss: 0.08962518199344559\n",
            "Epoch 109/200, Validation Loss: 0.4592044437458501\n"
          ]
        },
        {
          "name": "stderr",
          "output_type": "stream",
          "text": [
            "Epoch 110/200: 100%|██████████| 160/160 [00:00<00:00, 5400.51batch/s, loss=0.089] \n"
          ]
        },
        {
          "name": "stdout",
          "output_type": "stream",
          "text": [
            "Epoch 110/200, Training Loss: 0.08903020483809682\n",
            "Epoch 110/200, Validation Loss: 0.4565257845933789\n"
          ]
        },
        {
          "name": "stderr",
          "output_type": "stream",
          "text": [
            "Epoch 111/200: 100%|██████████| 160/160 [00:00<00:00, 5464.71batch/s, loss=0.0883]\n"
          ]
        },
        {
          "name": "stdout",
          "output_type": "stream",
          "text": [
            "Epoch 111/200, Training Loss: 0.088327053499278\n",
            "Epoch 111/200, Validation Loss: 0.4530037197997042\n"
          ]
        },
        {
          "name": "stderr",
          "output_type": "stream",
          "text": [
            "Epoch 112/200: 100%|██████████| 160/160 [00:00<00:00, 5352.27batch/s, loss=0.0877]\n"
          ]
        },
        {
          "name": "stdout",
          "output_type": "stream",
          "text": [
            "Epoch 112/200, Training Loss: 0.0877372430885068\n",
            "Epoch 112/200, Validation Loss: 0.45078798384985963\n"
          ]
        },
        {
          "name": "stderr",
          "output_type": "stream",
          "text": [
            "Epoch 113/200: 100%|██████████| 160/160 [00:00<00:00, 5519.27batch/s, loss=0.0872]\n"
          ]
        },
        {
          "name": "stdout",
          "output_type": "stream",
          "text": [
            "Epoch 113/200, Training Loss: 0.08715319950506659\n",
            "Epoch 113/200, Validation Loss: 0.44863295102649386\n"
          ]
        },
        {
          "name": "stderr",
          "output_type": "stream",
          "text": [
            "Epoch 114/200: 100%|██████████| 160/160 [00:00<00:00, 3586.37batch/s, loss=0.0865]\n"
          ]
        },
        {
          "name": "stdout",
          "output_type": "stream",
          "text": [
            "Epoch 114/200, Training Loss: 0.08653693296956348\n",
            "Epoch 114/200, Validation Loss: 0.4461148715564912\n"
          ]
        },
        {
          "name": "stderr",
          "output_type": "stream",
          "text": [
            "Epoch 115/200: 100%|██████████| 160/160 [00:00<00:00, 4620.42batch/s, loss=0.086] \n"
          ]
        },
        {
          "name": "stdout",
          "output_type": "stream",
          "text": [
            "Epoch 115/200, Training Loss: 0.08595798473280028\n",
            "Epoch 115/200, Validation Loss: 0.4426542827864737\n"
          ]
        },
        {
          "name": "stderr",
          "output_type": "stream",
          "text": [
            "Epoch 116/200: 100%|██████████| 160/160 [00:00<00:00, 3947.30batch/s, loss=0.0853]\n"
          ]
        },
        {
          "name": "stdout",
          "output_type": "stream",
          "text": [
            "Epoch 116/200, Training Loss: 0.08531981095540228\n",
            "Epoch 116/200, Validation Loss: 0.4405084258247473\n"
          ]
        },
        {
          "name": "stderr",
          "output_type": "stream",
          "text": [
            "Epoch 117/200: 100%|██████████| 160/160 [00:00<00:00, 4761.59batch/s, loss=0.0848]\n"
          ]
        },
        {
          "name": "stdout",
          "output_type": "stream",
          "text": [
            "Epoch 117/200, Training Loss: 0.08479751239187025\n",
            "Epoch 117/200, Validation Loss: 0.43814227459729854\n"
          ]
        },
        {
          "name": "stderr",
          "output_type": "stream",
          "text": [
            "Epoch 118/200: 100%|██████████| 160/160 [00:00<00:00, 5072.90batch/s, loss=0.0842]\n"
          ]
        },
        {
          "name": "stdout",
          "output_type": "stream",
          "text": [
            "Epoch 118/200, Training Loss: 0.08420744031308255\n",
            "Epoch 118/200, Validation Loss: 0.43525051652606034\n"
          ]
        },
        {
          "name": "stderr",
          "output_type": "stream",
          "text": [
            "Epoch 119/200: 100%|██████████| 160/160 [00:00<00:00, 5254.09batch/s, loss=0.0837]\n"
          ]
        },
        {
          "name": "stdout",
          "output_type": "stream",
          "text": [
            "Epoch 119/200, Training Loss: 0.08366423854806951\n",
            "Epoch 119/200, Validation Loss: 0.43327529655023567\n"
          ]
        },
        {
          "name": "stderr",
          "output_type": "stream",
          "text": [
            "Epoch 120/200: 100%|██████████| 160/160 [00:00<00:00, 4847.47batch/s, loss=0.0831]\n"
          ]
        },
        {
          "name": "stdout",
          "output_type": "stream",
          "text": [
            "Epoch 120/200, Training Loss: 0.08310008995329857\n",
            "Epoch 120/200, Validation Loss: 0.4302114998861824\n"
          ]
        },
        {
          "name": "stderr",
          "output_type": "stream",
          "text": [
            "Epoch 121/200: 100%|██████████| 160/160 [00:00<00:00, 5123.05batch/s, loss=0.0826]\n"
          ]
        },
        {
          "name": "stdout",
          "output_type": "stream",
          "text": [
            "Epoch 121/200, Training Loss: 0.08259172425607378\n",
            "Epoch 121/200, Validation Loss: 0.4277231755409945\n"
          ]
        },
        {
          "name": "stderr",
          "output_type": "stream",
          "text": [
            "Epoch 122/200: 100%|██████████| 160/160 [00:00<00:00, 5285.41batch/s, loss=0.082] \n"
          ]
        },
        {
          "name": "stdout",
          "output_type": "stream",
          "text": [
            "Epoch 122/200, Training Loss: 0.08200490920697803\n",
            "Epoch 122/200, Validation Loss: 0.4249804871144905\n"
          ]
        },
        {
          "name": "stderr",
          "output_type": "stream",
          "text": [
            "Epoch 123/200: 100%|██████████| 160/160 [00:00<00:00, 5066.50batch/s, loss=0.0815]\n"
          ]
        },
        {
          "name": "stdout",
          "output_type": "stream",
          "text": [
            "Epoch 123/200, Training Loss: 0.08149394886736032\n",
            "Epoch 123/200, Validation Loss: 0.42291091699859784\n"
          ]
        },
        {
          "name": "stderr",
          "output_type": "stream",
          "text": [
            "Epoch 124/200: 100%|██████████| 160/160 [00:00<00:00, 5414.41batch/s, loss=0.081] \n"
          ]
        },
        {
          "name": "stdout",
          "output_type": "stream",
          "text": [
            "Epoch 124/200, Training Loss: 0.08099194486711228\n",
            "Epoch 124/200, Validation Loss: 0.4206322609333286\n"
          ]
        },
        {
          "name": "stderr",
          "output_type": "stream",
          "text": [
            "Epoch 125/200: 100%|██████████| 160/160 [00:00<00:00, 4751.34batch/s, loss=0.0804]\n"
          ]
        },
        {
          "name": "stdout",
          "output_type": "stream",
          "text": [
            "Epoch 125/200, Training Loss: 0.08044853105279863\n",
            "Epoch 125/200, Validation Loss: 0.4177301103140309\n"
          ]
        },
        {
          "name": "stderr",
          "output_type": "stream",
          "text": [
            "Epoch 126/200: 100%|██████████| 160/160 [00:00<00:00, 4625.42batch/s, loss=0.08]  \n"
          ]
        },
        {
          "name": "stdout",
          "output_type": "stream",
          "text": [
            "Epoch 126/200, Training Loss: 0.07998649885791603\n",
            "Epoch 126/200, Validation Loss: 0.4156784539646221\n"
          ]
        },
        {
          "name": "stderr",
          "output_type": "stream",
          "text": [
            "Epoch 127/200: 100%|██████████| 160/160 [00:00<00:00, 3611.05batch/s, loss=0.0795]\n"
          ]
        },
        {
          "name": "stdout",
          "output_type": "stream",
          "text": [
            "Epoch 127/200, Training Loss: 0.07948012449018135\n",
            "Epoch 127/200, Validation Loss: 0.4139687256333067\n"
          ]
        },
        {
          "name": "stderr",
          "output_type": "stream",
          "text": [
            "Epoch 128/200: 100%|██████████| 160/160 [00:00<00:00, 5196.52batch/s, loss=0.079] \n"
          ]
        },
        {
          "name": "stdout",
          "output_type": "stream",
          "text": [
            "Epoch 128/200, Training Loss: 0.07896356852592504\n",
            "Epoch 128/200, Validation Loss: 0.4116353763582308\n"
          ]
        },
        {
          "name": "stderr",
          "output_type": "stream",
          "text": [
            "Epoch 129/200: 100%|██████████| 160/160 [00:00<00:00, 5123.32batch/s, loss=0.0785]\n"
          ]
        },
        {
          "name": "stdout",
          "output_type": "stream",
          "text": [
            "Epoch 129/200, Training Loss: 0.07849774320433259\n",
            "Epoch 129/200, Validation Loss: 0.4084714658049988\n"
          ]
        },
        {
          "name": "stderr",
          "output_type": "stream",
          "text": [
            "Epoch 130/200: 100%|██████████| 160/160 [00:00<00:00, 5068.15batch/s, loss=0.0781]\n"
          ]
        },
        {
          "name": "stdout",
          "output_type": "stream",
          "text": [
            "Epoch 130/200, Training Loss: 0.07805323548573469\n",
            "Epoch 130/200, Validation Loss: 0.40694025307018045\n"
          ]
        },
        {
          "name": "stderr",
          "output_type": "stream",
          "text": [
            "Epoch 131/200: 100%|██████████| 160/160 [00:00<00:00, 5569.94batch/s, loss=0.0776]\n"
          ]
        },
        {
          "name": "stdout",
          "output_type": "stream",
          "text": [
            "Epoch 131/200, Training Loss: 0.07757831980968469\n",
            "Epoch 131/200, Validation Loss: 0.4046568021344726\n"
          ]
        },
        {
          "name": "stderr",
          "output_type": "stream",
          "text": [
            "Epoch 132/200: 100%|██████████| 160/160 [00:00<00:00, 5129.43batch/s, loss=0.0771]\n"
          ]
        },
        {
          "name": "stdout",
          "output_type": "stream",
          "text": [
            "Epoch 132/200, Training Loss: 0.07705822294992778\n",
            "Epoch 132/200, Validation Loss: 0.40287603708242853\n"
          ]
        },
        {
          "name": "stderr",
          "output_type": "stream",
          "text": [
            "Epoch 133/200: 100%|██████████| 160/160 [00:00<00:00, 5597.82batch/s, loss=0.0766]\n"
          ]
        },
        {
          "name": "stdout",
          "output_type": "stream",
          "text": [
            "Epoch 133/200, Training Loss: 0.07661055298613913\n",
            "Epoch 133/200, Validation Loss: 0.40021796672548604\n"
          ]
        },
        {
          "name": "stderr",
          "output_type": "stream",
          "text": [
            "Epoch 134/200: 100%|██████████| 160/160 [00:00<00:00, 4131.86batch/s, loss=0.0762]\n"
          ]
        },
        {
          "name": "stdout",
          "output_type": "stream",
          "text": [
            "Epoch 134/200, Training Loss: 0.07616238541417539\n",
            "Epoch 134/200, Validation Loss: 0.3983952410960278\n"
          ]
        },
        {
          "name": "stderr",
          "output_type": "stream",
          "text": [
            "Epoch 135/200: 100%|██████████| 160/160 [00:00<00:00, 4819.31batch/s, loss=0.0757]\n"
          ]
        },
        {
          "name": "stdout",
          "output_type": "stream",
          "text": [
            "Epoch 135/200, Training Loss: 0.07570423105561784\n",
            "Epoch 135/200, Validation Loss: 0.3960721967383113\n"
          ]
        },
        {
          "name": "stderr",
          "output_type": "stream",
          "text": [
            "Epoch 136/200: 100%|██████████| 160/160 [00:00<00:00, 5321.75batch/s, loss=0.0753]\n"
          ]
        },
        {
          "name": "stdout",
          "output_type": "stream",
          "text": [
            "Epoch 136/200, Training Loss: 0.07530943571848422\n",
            "Epoch 136/200, Validation Loss: 0.3937713277636754\n"
          ]
        },
        {
          "name": "stderr",
          "output_type": "stream",
          "text": [
            "Epoch 137/200: 100%|██████████| 160/160 [00:00<00:00, 5151.92batch/s, loss=0.0748]\n"
          ]
        },
        {
          "name": "stdout",
          "output_type": "stream",
          "text": [
            "Epoch 137/200, Training Loss: 0.07480413877927634\n",
            "Epoch 137/200, Validation Loss: 0.391510054948379\n"
          ]
        },
        {
          "name": "stderr",
          "output_type": "stream",
          "text": [
            "Epoch 138/200: 100%|██████████| 160/160 [00:00<00:00, 5298.26batch/s, loss=0.0744]\n"
          ]
        },
        {
          "name": "stdout",
          "output_type": "stream",
          "text": [
            "Epoch 138/200, Training Loss: 0.0743933949897329\n",
            "Epoch 138/200, Validation Loss: 0.38936441786977005\n"
          ]
        },
        {
          "name": "stderr",
          "output_type": "stream",
          "text": [
            "Epoch 139/200: 100%|██████████| 160/160 [00:00<00:00, 3486.90batch/s, loss=0.074] \n"
          ]
        },
        {
          "name": "stdout",
          "output_type": "stream",
          "text": [
            "Epoch 139/200, Training Loss: 0.07398589297050287\n",
            "Epoch 139/200, Validation Loss: 0.38722853309598554\n"
          ]
        },
        {
          "name": "stderr",
          "output_type": "stream",
          "text": [
            "Epoch 140/200: 100%|██████████| 160/160 [00:00<00:00, 4700.09batch/s, loss=0.0736]\n"
          ]
        },
        {
          "name": "stdout",
          "output_type": "stream",
          "text": [
            "Epoch 140/200, Training Loss: 0.0735521795431326\n",
            "Epoch 140/200, Validation Loss: 0.38454146411144896\n"
          ]
        },
        {
          "name": "stderr",
          "output_type": "stream",
          "text": [
            "Epoch 141/200: 100%|██████████| 160/160 [00:00<00:00, 5076.85batch/s, loss=0.0731]\n"
          ]
        },
        {
          "name": "stdout",
          "output_type": "stream",
          "text": [
            "Epoch 141/200, Training Loss: 0.0731274666071825\n",
            "Epoch 141/200, Validation Loss: 0.3817783898471834\n"
          ]
        },
        {
          "name": "stderr",
          "output_type": "stream",
          "text": [
            "Epoch 142/200: 100%|██████████| 160/160 [00:00<00:00, 5420.18batch/s, loss=0.0727]\n"
          ]
        },
        {
          "name": "stdout",
          "output_type": "stream",
          "text": [
            "Epoch 142/200, Training Loss: 0.07269363452206218\n",
            "Epoch 142/200, Validation Loss: 0.379939628706502\n"
          ]
        },
        {
          "name": "stderr",
          "output_type": "stream",
          "text": [
            "Epoch 143/200: 100%|██████████| 160/160 [00:00<00:00, 4922.64batch/s, loss=0.0723]\n"
          ]
        },
        {
          "name": "stdout",
          "output_type": "stream",
          "text": [
            "Epoch 143/200, Training Loss: 0.07225683234154787\n",
            "Epoch 143/200, Validation Loss: 0.37805188769294895\n"
          ]
        },
        {
          "name": "stderr",
          "output_type": "stream",
          "text": [
            "Epoch 144/200: 100%|██████████| 160/160 [00:00<00:00, 5070.22batch/s, loss=0.0719]\n"
          ]
        },
        {
          "name": "stdout",
          "output_type": "stream",
          "text": [
            "Epoch 144/200, Training Loss: 0.07190443031682486\n",
            "Epoch 144/200, Validation Loss: 0.37594812946164163\n"
          ]
        },
        {
          "name": "stderr",
          "output_type": "stream",
          "text": [
            "Epoch 145/200: 100%|██████████| 160/160 [00:00<00:00, 4894.03batch/s, loss=0.0715]\n"
          ]
        },
        {
          "name": "stdout",
          "output_type": "stream",
          "text": [
            "Epoch 145/200, Training Loss: 0.07145419148330873\n",
            "Epoch 145/200, Validation Loss: 0.3729682535293645\n"
          ]
        },
        {
          "name": "stderr",
          "output_type": "stream",
          "text": [
            "Epoch 146/200: 100%|██████████| 160/160 [00:00<00:00, 5019.02batch/s, loss=0.0711]\n"
          ]
        },
        {
          "name": "stdout",
          "output_type": "stream",
          "text": [
            "Epoch 146/200, Training Loss: 0.07105481945261273\n",
            "Epoch 146/200, Validation Loss: 0.37118030309322564\n"
          ]
        },
        {
          "name": "stderr",
          "output_type": "stream",
          "text": [
            "Epoch 147/200: 100%|██████████| 160/160 [00:00<00:00, 5525.41batch/s, loss=0.0706]\n"
          ]
        },
        {
          "name": "stdout",
          "output_type": "stream",
          "text": [
            "Epoch 147/200, Training Loss: 0.07063970729603505\n",
            "Epoch 147/200, Validation Loss: 0.369390134620752\n"
          ]
        },
        {
          "name": "stderr",
          "output_type": "stream",
          "text": [
            "Epoch 148/200: 100%|██████████| 160/160 [00:00<00:00, 4739.29batch/s, loss=0.0703]\n"
          ]
        },
        {
          "name": "stdout",
          "output_type": "stream",
          "text": [
            "Epoch 148/200, Training Loss: 0.07027172378850308\n",
            "Epoch 148/200, Validation Loss: 0.36727563934407015\n"
          ]
        },
        {
          "name": "stderr",
          "output_type": "stream",
          "text": [
            "Epoch 149/200: 100%|██████████| 160/160 [00:00<00:00, 3300.94batch/s, loss=0.0699]\n"
          ]
        },
        {
          "name": "stdout",
          "output_type": "stream",
          "text": [
            "Epoch 149/200, Training Loss: 0.06986870382233538\n",
            "Epoch 149/200, Validation Loss: 0.36504005085031493\n"
          ]
        },
        {
          "name": "stderr",
          "output_type": "stream",
          "text": [
            "Epoch 150/200: 100%|██████████| 160/160 [00:00<00:00, 5507.32batch/s, loss=0.0695]\n"
          ]
        },
        {
          "name": "stdout",
          "output_type": "stream",
          "text": [
            "Epoch 150/200, Training Loss: 0.0695110265311378\n",
            "Epoch 150/200, Validation Loss: 0.36201485648567244\n"
          ]
        },
        {
          "name": "stderr",
          "output_type": "stream",
          "text": [
            "Epoch 151/200: 100%|██████████| 160/160 [00:00<00:00, 4860.04batch/s, loss=0.0691]\n"
          ]
        },
        {
          "name": "stdout",
          "output_type": "stream",
          "text": [
            "Epoch 151/200, Training Loss: 0.06911823236093509\n",
            "Epoch 151/200, Validation Loss: 0.3602076024854772\n"
          ]
        },
        {
          "name": "stderr",
          "output_type": "stream",
          "text": [
            "Epoch 152/200: 100%|██████████| 160/160 [00:00<00:00, 5041.27batch/s, loss=0.0687]\n"
          ]
        },
        {
          "name": "stdout",
          "output_type": "stream",
          "text": [
            "Epoch 152/200, Training Loss: 0.06873960116399927\n",
            "Epoch 152/200, Validation Loss: 0.3584163444306372\n"
          ]
        },
        {
          "name": "stderr",
          "output_type": "stream",
          "text": [
            "Epoch 153/200: 100%|██████████| 160/160 [00:00<00:00, 5392.13batch/s, loss=0.0684]\n"
          ]
        },
        {
          "name": "stdout",
          "output_type": "stream",
          "text": [
            "Epoch 153/200, Training Loss: 0.06838724343982291\n",
            "Epoch 153/200, Validation Loss: 0.35628874448531045\n"
          ]
        },
        {
          "name": "stderr",
          "output_type": "stream",
          "text": [
            "Epoch 154/200: 100%|██████████| 160/160 [00:00<00:00, 4882.38batch/s, loss=0.068] \n"
          ]
        },
        {
          "name": "stdout",
          "output_type": "stream",
          "text": [
            "Epoch 154/200, Training Loss: 0.0680422860464691\n",
            "Epoch 154/200, Validation Loss: 0.35405234754968273\n"
          ]
        },
        {
          "name": "stderr",
          "output_type": "stream",
          "text": [
            "Epoch 155/200: 100%|██████████| 160/160 [00:00<00:00, 5049.96batch/s, loss=0.0677]\n"
          ]
        },
        {
          "name": "stdout",
          "output_type": "stream",
          "text": [
            "Epoch 155/200, Training Loss: 0.06765403902512279\n",
            "Epoch 155/200, Validation Loss: 0.3517503004315223\n"
          ]
        },
        {
          "name": "stderr",
          "output_type": "stream",
          "text": [
            "Epoch 156/200: 100%|██████████| 160/160 [00:00<00:00, 4655.71batch/s, loss=0.0673]\n"
          ]
        },
        {
          "name": "stdout",
          "output_type": "stream",
          "text": [
            "Epoch 156/200, Training Loss: 0.06731276512352266\n",
            "Epoch 156/200, Validation Loss: 0.35022392074108893\n"
          ]
        },
        {
          "name": "stderr",
          "output_type": "stream",
          "text": [
            "Epoch 157/200: 100%|██████████| 160/160 [00:00<00:00, 4886.26batch/s, loss=0.067] \n"
          ]
        },
        {
          "name": "stdout",
          "output_type": "stream",
          "text": [
            "Epoch 157/200, Training Loss: 0.06697689566157279\n",
            "Epoch 157/200, Validation Loss: 0.347881709872026\n"
          ]
        },
        {
          "name": "stderr",
          "output_type": "stream",
          "text": [
            "Epoch 158/200: 100%|██████████| 160/160 [00:00<00:00, 5225.29batch/s, loss=0.0666]\n"
          ]
        },
        {
          "name": "stdout",
          "output_type": "stream",
          "text": [
            "Epoch 158/200, Training Loss: 0.06663526345002073\n",
            "Epoch 158/200, Validation Loss: 0.3455053666514425\n"
          ]
        },
        {
          "name": "stderr",
          "output_type": "stream",
          "text": [
            "Epoch 159/200: 100%|██████████| 160/160 [00:00<00:00, 5284.25batch/s, loss=0.0663]\n"
          ]
        },
        {
          "name": "stdout",
          "output_type": "stream",
          "text": [
            "Epoch 159/200, Training Loss: 0.06627872959857053\n",
            "Epoch 159/200, Validation Loss: 0.34399364613005995\n"
          ]
        },
        {
          "name": "stderr",
          "output_type": "stream",
          "text": [
            "Epoch 160/200: 100%|██████████| 160/160 [00:00<00:00, 5367.64batch/s, loss=0.0659]\n"
          ]
        },
        {
          "name": "stdout",
          "output_type": "stream",
          "text": [
            "Epoch 160/200, Training Loss: 0.06594486974001958\n",
            "Epoch 160/200, Validation Loss: 0.3421781130167344\n"
          ]
        },
        {
          "name": "stderr",
          "output_type": "stream",
          "text": [
            "Epoch 161/200: 100%|██████████| 160/160 [00:00<00:00, 3713.93batch/s, loss=0.0656]\n"
          ]
        },
        {
          "name": "stdout",
          "output_type": "stream",
          "text": [
            "Epoch 161/200, Training Loss: 0.06563397958328955\n",
            "Epoch 161/200, Validation Loss: 0.3404568606727183\n"
          ]
        },
        {
          "name": "stderr",
          "output_type": "stream",
          "text": [
            "Epoch 162/200: 100%|██████████| 160/160 [00:00<00:00, 4794.21batch/s, loss=0.0652]\n"
          ]
        },
        {
          "name": "stdout",
          "output_type": "stream",
          "text": [
            "Epoch 162/200, Training Loss: 0.06524441631369374\n",
            "Epoch 162/200, Validation Loss: 0.33847730491974715\n"
          ]
        },
        {
          "name": "stderr",
          "output_type": "stream",
          "text": [
            "Epoch 163/200: 100%|██████████| 160/160 [00:00<00:00, 5240.71batch/s, loss=0.0649]\n"
          ]
        },
        {
          "name": "stdout",
          "output_type": "stream",
          "text": [
            "Epoch 163/200, Training Loss: 0.06493072777564934\n",
            "Epoch 163/200, Validation Loss: 0.3363527928010956\n"
          ]
        },
        {
          "name": "stderr",
          "output_type": "stream",
          "text": [
            "Epoch 164/200: 100%|██████████| 160/160 [00:00<00:00, 5634.71batch/s, loss=0.0646]\n"
          ]
        },
        {
          "name": "stdout",
          "output_type": "stream",
          "text": [
            "Epoch 164/200, Training Loss: 0.06464383337787119\n",
            "Epoch 164/200, Validation Loss: 0.3343603136790956\n"
          ]
        },
        {
          "name": "stderr",
          "output_type": "stream",
          "text": [
            "Epoch 165/200: 100%|██████████| 160/160 [00:00<00:00, 5348.77batch/s, loss=0.0643]\n"
          ]
        },
        {
          "name": "stdout",
          "output_type": "stream",
          "text": [
            "Epoch 165/200, Training Loss: 0.06427462547041732\n",
            "Epoch 165/200, Validation Loss: 0.3327635046339148\n"
          ]
        },
        {
          "name": "stderr",
          "output_type": "stream",
          "text": [
            "Epoch 166/200: 100%|██████████| 160/160 [00:00<00:00, 4963.31batch/s, loss=0.0639]\n"
          ]
        },
        {
          "name": "stdout",
          "output_type": "stream",
          "text": [
            "Epoch 166/200, Training Loss: 0.06393846215503737\n",
            "Epoch 166/200, Validation Loss: 0.3307555100747377\n"
          ]
        },
        {
          "name": "stderr",
          "output_type": "stream",
          "text": [
            "Epoch 167/200: 100%|██████████| 160/160 [00:00<00:00, 4273.96batch/s, loss=0.0636]\n"
          ]
        },
        {
          "name": "stdout",
          "output_type": "stream",
          "text": [
            "Epoch 167/200, Training Loss: 0.06362607694487081\n",
            "Epoch 167/200, Validation Loss: 0.3292004714196445\n"
          ]
        },
        {
          "name": "stderr",
          "output_type": "stream",
          "text": [
            "Epoch 168/200: 100%|██████████| 160/160 [00:00<00:00, 5140.00batch/s, loss=0.0633]\n"
          ]
        },
        {
          "name": "stdout",
          "output_type": "stream",
          "text": [
            "Epoch 168/200, Training Loss: 0.06328078719183698\n",
            "Epoch 168/200, Validation Loss: 0.32736293411201356\n"
          ]
        },
        {
          "name": "stderr",
          "output_type": "stream",
          "text": [
            "Epoch 169/200: 100%|██████████| 160/160 [00:00<00:00, 5559.65batch/s, loss=0.063] \n"
          ]
        },
        {
          "name": "stdout",
          "output_type": "stream",
          "text": [
            "Epoch 169/200, Training Loss: 0.06298202485851748\n",
            "Epoch 169/200, Validation Loss: 0.3252123403935119\n"
          ]
        },
        {
          "name": "stderr",
          "output_type": "stream",
          "text": [
            "Epoch 170/200: 100%|██████████| 160/160 [00:00<00:00, 5022.14batch/s, loss=0.0627]\n"
          ]
        },
        {
          "name": "stdout",
          "output_type": "stream",
          "text": [
            "Epoch 170/200, Training Loss: 0.06268067212277115\n",
            "Epoch 170/200, Validation Loss: 0.32280786988816235\n"
          ]
        },
        {
          "name": "stderr",
          "output_type": "stream",
          "text": [
            "Epoch 171/200: 100%|██████████| 160/160 [00:00<00:00, 4960.48batch/s, loss=0.0623]\n"
          ]
        },
        {
          "name": "stdout",
          "output_type": "stream",
          "text": [
            "Epoch 171/200, Training Loss: 0.062332207453416145\n",
            "Epoch 171/200, Validation Loss: 0.3215365960622633\n"
          ]
        },
        {
          "name": "stderr",
          "output_type": "stream",
          "text": [
            "Epoch 172/200: 100%|██████████| 160/160 [00:00<00:00, 4944.91batch/s, loss=0.062] \n"
          ]
        },
        {
          "name": "stdout",
          "output_type": "stream",
          "text": [
            "Epoch 172/200, Training Loss: 0.062024431982825555\n",
            "Epoch 172/200, Validation Loss: 0.31979628634846785\n"
          ]
        },
        {
          "name": "stderr",
          "output_type": "stream",
          "text": [
            "Epoch 173/200: 100%|██████████| 160/160 [00:00<00:00, 3393.35batch/s, loss=0.0617]\n"
          ]
        },
        {
          "name": "stdout",
          "output_type": "stream",
          "text": [
            "Epoch 173/200, Training Loss: 0.0617311354800999\n",
            "Epoch 173/200, Validation Loss: 0.31817196725804814\n"
          ]
        },
        {
          "name": "stderr",
          "output_type": "stream",
          "text": [
            "Epoch 174/200: 100%|██████████| 160/160 [00:00<00:00, 4886.58batch/s, loss=0.0614]\n"
          ]
        },
        {
          "name": "stdout",
          "output_type": "stream",
          "text": [
            "Epoch 174/200, Training Loss: 0.061385840537802425\n",
            "Epoch 174/200, Validation Loss: 0.3163013616609134\n"
          ]
        },
        {
          "name": "stderr",
          "output_type": "stream",
          "text": [
            "Epoch 175/200: 100%|██████████| 160/160 [00:00<00:00, 5204.30batch/s, loss=0.0611]\n"
          ]
        },
        {
          "name": "stdout",
          "output_type": "stream",
          "text": [
            "Epoch 175/200, Training Loss: 0.06110412834952998\n",
            "Epoch 175/200, Validation Loss: 0.3149261726628847\n"
          ]
        },
        {
          "name": "stderr",
          "output_type": "stream",
          "text": [
            "Epoch 176/200: 100%|██████████| 160/160 [00:00<00:00, 4560.85batch/s, loss=0.0608]\n"
          ]
        },
        {
          "name": "stdout",
          "output_type": "stream",
          "text": [
            "Epoch 176/200, Training Loss: 0.060803577962399845\n",
            "Epoch 176/200, Validation Loss: 0.3127267368854728\n"
          ]
        },
        {
          "name": "stderr",
          "output_type": "stream",
          "text": [
            "Epoch 177/200: 100%|██████████| 160/160 [00:00<00:00, 4690.60batch/s, loss=0.0605]\n"
          ]
        },
        {
          "name": "stdout",
          "output_type": "stream",
          "text": [
            "Epoch 177/200, Training Loss: 0.06046931479700035\n",
            "Epoch 177/200, Validation Loss: 0.31119655343258557\n"
          ]
        },
        {
          "name": "stderr",
          "output_type": "stream",
          "text": [
            "Epoch 178/200: 100%|██████████| 160/160 [00:00<00:00, 4548.74batch/s, loss=0.0602]\n"
          ]
        },
        {
          "name": "stdout",
          "output_type": "stream",
          "text": [
            "Epoch 178/200, Training Loss: 0.06017810881434353\n",
            "Epoch 178/200, Validation Loss: 0.30969712374219815\n"
          ]
        },
        {
          "name": "stderr",
          "output_type": "stream",
          "text": [
            "Epoch 179/200: 100%|██████████| 160/160 [00:00<00:00, 4990.99batch/s, loss=0.0599]\n"
          ]
        },
        {
          "name": "stdout",
          "output_type": "stream",
          "text": [
            "Epoch 179/200, Training Loss: 0.05986706481880448\n",
            "Epoch 179/200, Validation Loss: 0.3079669442036856\n"
          ]
        },
        {
          "name": "stderr",
          "output_type": "stream",
          "text": [
            "Epoch 180/200: 100%|██████████| 160/160 [00:00<00:00, 4465.50batch/s, loss=0.0596]\n"
          ]
        },
        {
          "name": "stdout",
          "output_type": "stream",
          "text": [
            "Epoch 180/200, Training Loss: 0.05956066766587098\n",
            "Epoch 180/200, Validation Loss: 0.3061073749028889\n"
          ]
        },
        {
          "name": "stderr",
          "output_type": "stream",
          "text": [
            "Epoch 181/200: 100%|██████████| 160/160 [00:00<00:00, 4499.03batch/s, loss=0.0593]\n"
          ]
        },
        {
          "name": "stdout",
          "output_type": "stream",
          "text": [
            "Epoch 181/200, Training Loss: 0.059266798360136895\n",
            "Epoch 181/200, Validation Loss: 0.3045501025590202\n"
          ]
        },
        {
          "name": "stderr",
          "output_type": "stream",
          "text": [
            "Epoch 182/200: 100%|██████████| 160/160 [00:00<00:00, 4889.00batch/s, loss=0.059] \n"
          ]
        },
        {
          "name": "stdout",
          "output_type": "stream",
          "text": [
            "Epoch 182/200, Training Loss: 0.05896044476290848\n",
            "Epoch 182/200, Validation Loss: 0.30321244770451417\n"
          ]
        },
        {
          "name": "stderr",
          "output_type": "stream",
          "text": [
            "Epoch 183/200: 100%|██████████| 160/160 [00:00<00:00, 4891.89batch/s, loss=0.0587]\n"
          ]
        },
        {
          "name": "stdout",
          "output_type": "stream",
          "text": [
            "Epoch 183/200, Training Loss: 0.058678823844118544\n",
            "Epoch 183/200, Validation Loss: 0.3010886791075631\n"
          ]
        },
        {
          "name": "stderr",
          "output_type": "stream",
          "text": [
            "Epoch 184/200: 100%|██████████| 160/160 [00:00<00:00, 3276.45batch/s, loss=0.0584]\n"
          ]
        },
        {
          "name": "stdout",
          "output_type": "stream",
          "text": [
            "Epoch 184/200, Training Loss: 0.0583900477520722\n",
            "Epoch 184/200, Validation Loss: 0.2993719038940216\n"
          ]
        },
        {
          "name": "stderr",
          "output_type": "stream",
          "text": [
            "Epoch 185/200: 100%|██████████| 160/160 [00:00<00:00, 5086.59batch/s, loss=0.0581]\n"
          ]
        },
        {
          "name": "stdout",
          "output_type": "stream",
          "text": [
            "Epoch 185/200, Training Loss: 0.05811126301383061\n",
            "Epoch 185/200, Validation Loss: 0.2980323657315462\n"
          ]
        },
        {
          "name": "stderr",
          "output_type": "stream",
          "text": [
            "Epoch 186/200: 100%|██████████| 160/160 [00:00<00:00, 4701.84batch/s, loss=0.0578]\n"
          ]
        },
        {
          "name": "stdout",
          "output_type": "stream",
          "text": [
            "Epoch 186/200, Training Loss: 0.05783514289155757\n",
            "Epoch 186/200, Validation Loss: 0.29628386135476614\n"
          ]
        },
        {
          "name": "stderr",
          "output_type": "stream",
          "text": [
            "Epoch 187/200: 100%|██████████| 160/160 [00:00<00:00, 5127.90batch/s, loss=0.0575]\n"
          ]
        },
        {
          "name": "stdout",
          "output_type": "stream",
          "text": [
            "Epoch 187/200, Training Loss: 0.05752326947298987\n",
            "Epoch 187/200, Validation Loss: 0.294885213973501\n"
          ]
        },
        {
          "name": "stderr",
          "output_type": "stream",
          "text": [
            "Epoch 188/200: 100%|██████████| 160/160 [00:00<00:00, 5260.80batch/s, loss=0.0573]\n"
          ]
        },
        {
          "name": "stdout",
          "output_type": "stream",
          "text": [
            "Epoch 188/200, Training Loss: 0.05727376936848476\n",
            "Epoch 188/200, Validation Loss: 0.2932597362739605\n"
          ]
        },
        {
          "name": "stderr",
          "output_type": "stream",
          "text": [
            "Epoch 189/200: 100%|██████████| 160/160 [00:00<00:00, 5337.28batch/s, loss=0.057] \n"
          ]
        },
        {
          "name": "stdout",
          "output_type": "stream",
          "text": [
            "Epoch 189/200, Training Loss: 0.05699656238937737\n",
            "Epoch 189/200, Validation Loss: 0.2918994438036774\n"
          ]
        },
        {
          "name": "stderr",
          "output_type": "stream",
          "text": [
            "Epoch 190/200: 100%|██████████| 160/160 [00:00<00:00, 5335.67batch/s, loss=0.0567]\n"
          ]
        },
        {
          "name": "stdout",
          "output_type": "stream",
          "text": [
            "Epoch 190/200, Training Loss: 0.05674292464054022\n",
            "Epoch 190/200, Validation Loss: 0.2902089451753801\n"
          ]
        },
        {
          "name": "stderr",
          "output_type": "stream",
          "text": [
            "Epoch 191/200: 100%|██████████| 160/160 [00:00<00:00, 4919.32batch/s, loss=0.0565]\n"
          ]
        },
        {
          "name": "stdout",
          "output_type": "stream",
          "text": [
            "Epoch 191/200, Training Loss: 0.056479258949419\n",
            "Epoch 191/200, Validation Loss: 0.28841798363172994\n"
          ]
        },
        {
          "name": "stderr",
          "output_type": "stream",
          "text": [
            "Epoch 192/200: 100%|██████████| 160/160 [00:00<00:00, 4589.33batch/s, loss=0.0562]\n"
          ]
        },
        {
          "name": "stdout",
          "output_type": "stream",
          "text": [
            "Epoch 192/200, Training Loss: 0.05620488577603807\n",
            "Epoch 192/200, Validation Loss: 0.28683798875702954\n"
          ]
        },
        {
          "name": "stderr",
          "output_type": "stream",
          "text": [
            "Epoch 193/200: 100%|██████████| 160/160 [00:00<00:00, 5140.12batch/s, loss=0.0559]\n"
          ]
        },
        {
          "name": "stdout",
          "output_type": "stream",
          "text": [
            "Epoch 193/200, Training Loss: 0.05593928822995944\n",
            "Epoch 193/200, Validation Loss: 0.2851726268814825\n"
          ]
        },
        {
          "name": "stderr",
          "output_type": "stream",
          "text": [
            "Epoch 194/200: 100%|██████████| 160/160 [00:00<00:00, 4881.78batch/s, loss=0.0557]\n"
          ]
        },
        {
          "name": "stdout",
          "output_type": "stream",
          "text": [
            "Epoch 194/200, Training Loss: 0.055697186480918134\n",
            "Epoch 194/200, Validation Loss: 0.28379365401924544\n"
          ]
        },
        {
          "name": "stderr",
          "output_type": "stream",
          "text": [
            "Epoch 195/200: 100%|██████████| 160/160 [00:00<00:00, 4257.91batch/s, loss=0.0554]\n"
          ]
        },
        {
          "name": "stdout",
          "output_type": "stream",
          "text": [
            "Epoch 195/200, Training Loss: 0.055404238576493216\n",
            "Epoch 195/200, Validation Loss: 0.28227420481519727\n"
          ]
        },
        {
          "name": "stderr",
          "output_type": "stream",
          "text": [
            "Epoch 196/200: 100%|██████████| 160/160 [00:00<00:00, 4398.59batch/s, loss=0.0552]\n"
          ]
        },
        {
          "name": "stdout",
          "output_type": "stream",
          "text": [
            "Epoch 196/200, Training Loss: 0.055184033815433874\n",
            "Epoch 196/200, Validation Loss: 0.2805344550451922\n"
          ]
        },
        {
          "name": "stderr",
          "output_type": "stream",
          "text": [
            "Epoch 197/200: 100%|██████████| 160/160 [00:00<00:00, 4002.91batch/s, loss=0.0549]\n"
          ]
        },
        {
          "name": "stdout",
          "output_type": "stream",
          "text": [
            "Epoch 197/200, Training Loss: 0.05489667800142829\n",
            "Epoch 197/200, Validation Loss: 0.279215897616687\n"
          ]
        },
        {
          "name": "stderr",
          "output_type": "stream",
          "text": [
            "Epoch 198/200: 100%|██████████| 160/160 [00:00<00:00, 5590.50batch/s, loss=0.0547]\n"
          ]
        },
        {
          "name": "stdout",
          "output_type": "stream",
          "text": [
            "Epoch 198/200, Training Loss: 0.05469118427876751\n",
            "Epoch 198/200, Validation Loss: 0.2771360780179692\n"
          ]
        },
        {
          "name": "stderr",
          "output_type": "stream",
          "text": [
            "Epoch 199/200: 100%|██████████| 160/160 [00:00<00:00, 4873.87batch/s, loss=0.0544]\n"
          ]
        },
        {
          "name": "stdout",
          "output_type": "stream",
          "text": [
            "Epoch 199/200, Training Loss: 0.05441849734691616\n",
            "Epoch 199/200, Validation Loss: 0.2758508423294934\n"
          ]
        },
        {
          "name": "stderr",
          "output_type": "stream",
          "text": [
            "Epoch 200/200: 100%|██████████| 160/160 [00:00<00:00, 5072.28batch/s, loss=0.0542]\n"
          ]
        },
        {
          "name": "stdout",
          "output_type": "stream",
          "text": [
            "Epoch 200/200, Training Loss: 0.05419695961839892\n",
            "Epoch 200/200, Validation Loss: 0.27450777284584815\n"
          ]
        },
        {
          "data": {
            "image/png": "[encoded data removed]",
            "text/plain": [
              "<Figure size 640x480 with 1 Axes>"
            ]
          },
          "metadata": {},
          "output_type": "display_data"
        }
      ],
      "source": [
        "### START CODE HERE ###\n",
        "# Change the structure and parameters to train your own model (Only contain Dense layer here!!!)\n",
        "# Reshape the input data to fit Dense model\n",
        "input_size = X_train.shape[1]\n",
        "X_train = X_train.reshape(X_train.shape[0], X_train.shape[1])\n",
        "X_val = X_val.reshape(X_val.shape[0], X_val.shape[1])\n",
        "y_val = y_val.reshape(-1, 1)\n",
        "y_train = y_train.reshape(-1, 1)\n",
        "# Construct the model with Dense layers\n",
        "\n",
        "model = Model()\n",
        "model.add(Dense(input_size, 64))\n",
        "model.add(Activation(\"relu\", None))\n",
        "model.add(Dense(64, 1))\n",
        "model.add(Activation(\"linear\", None))\n",
        "\n",
        "# Train the model\n",
        "model.train(X_train, y_train, X_val, y_val, epochs=200, learning_rate=0.001, batch_size = 8, loss_function='mse')\n",
        "### END CODE HERE ###\n",
        "\n",
        "# Plot the training and validation losses\n",
        "model.plot_losses()"
      ]
    },
    {
      "cell_type": "markdown",
      "metadata": {
        "id": "xP0-p2yrD8gA"
      },
      "source": [
        "#### Predict testing data & Save the answer (For Dense model)\n",
        "For this prediction of Dense model, you can choose not to submit it to Kaggle if its performance is not better."
      ]
    },
    {
      "cell_type": "code",
      "execution_count": 51,
      "metadata": {
        "id": "_GNngIotD6Ow"
      },
      "outputs": [
        {
          "name": "stdout",
          "output_type": "stream",
          "text": [
            "Prediction data has been saved.\n"
          ]
        }
      ],
      "source": [
        "### START CODE HERE ###\n",
        "# Read the X_test.csv file into a DataFrame\n",
        "# Change the path if needed\n",
        "# download\n",
        "X_test_df = pd.read_csv('Sinewave/X_test.csv')\n",
        "### END CODE HERE ###\n",
        "\n",
        "# Do not modify this part to get the correct output format!!\n",
        "# Drop the 'Id' column if it exists\n",
        "if 'Id' in X_test_df.columns:\n",
        "    X_test_df = X_test_df.drop(columns=['Id'])\n",
        "\n",
        "# Convert the DataFrame to a numpy array\n",
        "X_test = X_test_df.values\n",
        "y_pred = model.predict(X_test)\n",
        "\n",
        "\n",
        "# Convert the list of predictions to a numpy array\n",
        "y_pred = np.array(y_pred)\n",
        "y_pred_df = pd.DataFrame(y_pred, columns=['answer'])\n",
        "y_pred_df.insert(0, 'Id', range(1, 1 + len(y_pred_df)))\n",
        "y_pred_df.to_csv('y_pred_basic.csv', index=False)\n",
        "\n",
        "print('Prediction data has been saved.')"
      ]
    },
    {
      "cell_type": "markdown",
      "metadata": {
        "id": "0E7dvPVBBhgk"
      },
      "source": [
        "### Construct the model with RNN layer\n",
        "Then, we can integrate our custom-built RNN layer into the model to evaluate whether it improves performance on the sequential inputs."
      ]
    },
    {
      "cell_type": "code",
      "execution_count": 66,
      "metadata": {
        "id": "yIJd6igNCG8i"
      },
      "outputs": [
        {
          "name": "stderr",
          "output_type": "stream",
          "text": [
            "Epoch 1/200: 100%|██████████| 80/80 [00:01<00:00, 73.40batch/s, loss=3.59]\n"
          ]
        },
        {
          "name": "stdout",
          "output_type": "stream",
          "text": [
            "Epoch 1/200, Training Loss: 3.5915401798836486\n",
            "Epoch 1/200, Validation Loss: 2.8929242410570826\n"
          ]
        },
        {
          "name": "stderr",
          "output_type": "stream",
          "text": [
            "Epoch 2/200: 100%|██████████| 80/80 [00:01<00:00, 72.79batch/s, loss=1.95]\n"
          ]
        },
        {
          "name": "stdout",
          "output_type": "stream",
          "text": [
            "Epoch 2/200, Training Loss: 1.9461852638916137\n",
            "Epoch 2/200, Validation Loss: 1.3183834463357458\n"
          ]
        },
        {
          "name": "stderr",
          "output_type": "stream",
          "text": [
            "Epoch 3/200: 100%|██████████| 80/80 [00:01<00:00, 71.35batch/s, loss=0.854]\n"
          ]
        },
        {
          "name": "stdout",
          "output_type": "stream",
          "text": [
            "Epoch 3/200, Training Loss: 0.8542395154442927\n",
            "Epoch 3/200, Validation Loss: 0.5297546615634536\n"
          ]
        },
        {
          "name": "stderr",
          "output_type": "stream",
          "text": [
            "Epoch 4/200: 100%|██████████| 80/80 [00:01<00:00, 72.93batch/s, loss=0.425]\n"
          ]
        },
        {
          "name": "stdout",
          "output_type": "stream",
          "text": [
            "Epoch 4/200, Training Loss: 0.42461284745164435\n",
            "Epoch 4/200, Validation Loss: 0.3229078970399654\n"
          ]
        },
        {
          "name": "stderr",
          "output_type": "stream",
          "text": [
            "Epoch 5/200: 100%|██████████| 80/80 [00:01<00:00, 73.89batch/s, loss=0.325]\n"
          ]
        },
        {
          "name": "stdout",
          "output_type": "stream",
          "text": [
            "Epoch 5/200, Training Loss: 0.32466334745139763\n",
            "Epoch 5/200, Validation Loss: 0.27970937306984567\n"
          ]
        },
        {
          "name": "stderr",
          "output_type": "stream",
          "text": [
            "Epoch 6/200: 100%|██████████| 80/80 [00:01<00:00, 73.72batch/s, loss=0.298]\n"
          ]
        },
        {
          "name": "stdout",
          "output_type": "stream",
          "text": [
            "Epoch 6/200, Training Loss: 0.29818090186945245\n",
            "Epoch 6/200, Validation Loss: 0.26416429129009567\n"
          ]
        },
        {
          "name": "stderr",
          "output_type": "stream",
          "text": [
            "Epoch 7/200: 100%|██████████| 80/80 [00:01<00:00, 74.61batch/s, loss=0.284]\n"
          ]
        },
        {
          "name": "stdout",
          "output_type": "stream",
          "text": [
            "Epoch 7/200, Training Loss: 0.28353126491665953\n",
            "Epoch 7/200, Validation Loss: 0.25326966776629983\n"
          ]
        },
        {
          "name": "stderr",
          "output_type": "stream",
          "text": [
            "Epoch 8/200: 100%|██████████| 80/80 [00:01<00:00, 72.11batch/s, loss=0.272]\n"
          ]
        },
        {
          "name": "stdout",
          "output_type": "stream",
          "text": [
            "Epoch 8/200, Training Loss: 0.27156634305004657\n",
            "Epoch 8/200, Validation Loss: 0.24380657729284147\n"
          ]
        },
        {
          "name": "stderr",
          "output_type": "stream",
          "text": [
            "Epoch 9/200: 100%|██████████| 80/80 [00:01<00:00, 73.39batch/s, loss=0.261]\n"
          ]
        },
        {
          "name": "stdout",
          "output_type": "stream",
          "text": [
            "Epoch 9/200, Training Loss: 0.260891331469275\n",
            "Epoch 9/200, Validation Loss: 0.23523524537965\n"
          ]
        },
        {
          "name": "stderr",
          "output_type": "stream",
          "text": [
            "Epoch 10/200: 100%|██████████| 80/80 [00:01<00:00, 74.86batch/s, loss=0.251]\n"
          ]
        },
        {
          "name": "stdout",
          "output_type": "stream",
          "text": [
            "Epoch 10/200, Training Loss: 0.2510613819654038\n",
            "Epoch 10/200, Validation Loss: 0.22728377377118392\n"
          ]
        },
        {
          "name": "stderr",
          "output_type": "stream",
          "text": [
            "Epoch 11/200: 100%|██████████| 80/80 [00:01<00:00, 71.74batch/s, loss=0.242]\n"
          ]
        },
        {
          "name": "stdout",
          "output_type": "stream",
          "text": [
            "Epoch 11/200, Training Loss: 0.24191960551808442\n",
            "Epoch 11/200, Validation Loss: 0.21989583306275606\n"
          ]
        },
        {
          "name": "stderr",
          "output_type": "stream",
          "text": [
            "Epoch 12/200: 100%|██████████| 80/80 [00:01<00:00, 74.72batch/s, loss=0.233]\n"
          ]
        },
        {
          "name": "stdout",
          "output_type": "stream",
          "text": [
            "Epoch 12/200, Training Loss: 0.23345891977385116\n",
            "Epoch 12/200, Validation Loss: 0.21302207452992095\n"
          ]
        },
        {
          "name": "stderr",
          "output_type": "stream",
          "text": [
            "Epoch 13/200: 100%|██████████| 80/80 [00:01<00:00, 74.86batch/s, loss=0.226]\n"
          ]
        },
        {
          "name": "stdout",
          "output_type": "stream",
          "text": [
            "Epoch 13/200, Training Loss: 0.2256487238589573\n",
            "Epoch 13/200, Validation Loss: 0.2065538508723983\n"
          ]
        },
        {
          "name": "stderr",
          "output_type": "stream",
          "text": [
            "Epoch 14/200: 100%|██████████| 80/80 [00:01<00:00, 73.29batch/s, loss=0.218]\n"
          ]
        },
        {
          "name": "stdout",
          "output_type": "stream",
          "text": [
            "Epoch 14/200, Training Loss: 0.21834769480335936\n",
            "Epoch 14/200, Validation Loss: 0.20042820540815032\n"
          ]
        },
        {
          "name": "stderr",
          "output_type": "stream",
          "text": [
            "Epoch 15/200: 100%|██████████| 80/80 [00:01<00:00, 73.08batch/s, loss=0.211]\n"
          ]
        },
        {
          "name": "stdout",
          "output_type": "stream",
          "text": [
            "Epoch 15/200, Training Loss: 0.21147026953627268\n",
            "Epoch 15/200, Validation Loss: 0.19461388672916335\n"
          ]
        },
        {
          "name": "stderr",
          "output_type": "stream",
          "text": [
            "Epoch 16/200: 100%|██████████| 80/80 [00:01<00:00, 72.04batch/s, loss=0.205]\n"
          ]
        },
        {
          "name": "stdout",
          "output_type": "stream",
          "text": [
            "Epoch 16/200, Training Loss: 0.20497158762376308\n",
            "Epoch 16/200, Validation Loss: 0.18907630664593747\n"
          ]
        },
        {
          "name": "stderr",
          "output_type": "stream",
          "text": [
            "Epoch 17/200: 100%|██████████| 80/80 [00:01<00:00, 74.49batch/s, loss=0.199]\n"
          ]
        },
        {
          "name": "stdout",
          "output_type": "stream",
          "text": [
            "Epoch 17/200, Training Loss: 0.19877089935325123\n",
            "Epoch 17/200, Validation Loss: 0.18379453051729225\n"
          ]
        },
        {
          "name": "stderr",
          "output_type": "stream",
          "text": [
            "Epoch 18/200: 100%|██████████| 80/80 [00:01<00:00, 73.09batch/s, loss=0.193]\n"
          ]
        },
        {
          "name": "stdout",
          "output_type": "stream",
          "text": [
            "Epoch 18/200, Training Loss: 0.19279772679512797\n",
            "Epoch 18/200, Validation Loss: 0.17870499783449298\n"
          ]
        },
        {
          "name": "stderr",
          "output_type": "stream",
          "text": [
            "Epoch 19/200: 100%|██████████| 80/80 [00:01<00:00, 71.55batch/s, loss=0.187]\n"
          ]
        },
        {
          "name": "stdout",
          "output_type": "stream",
          "text": [
            "Epoch 19/200, Training Loss: 0.18702418428667242\n",
            "Epoch 19/200, Validation Loss: 0.1736953984445637\n"
          ]
        },
        {
          "name": "stderr",
          "output_type": "stream",
          "text": [
            "Epoch 20/200: 100%|██████████| 80/80 [00:01<00:00, 74.25batch/s, loss=0.181]\n"
          ]
        },
        {
          "name": "stdout",
          "output_type": "stream",
          "text": [
            "Epoch 20/200, Training Loss: 0.18143932642551835\n",
            "Epoch 20/200, Validation Loss: 0.16884750283908515\n"
          ]
        },
        {
          "name": "stderr",
          "output_type": "stream",
          "text": [
            "Epoch 21/200: 100%|██████████| 80/80 [00:01<00:00, 73.54batch/s, loss=0.176]\n"
          ]
        },
        {
          "name": "stdout",
          "output_type": "stream",
          "text": [
            "Epoch 21/200, Training Loss: 0.17599564681059104\n",
            "Epoch 21/200, Validation Loss: 0.16402898400118798\n"
          ]
        },
        {
          "name": "stderr",
          "output_type": "stream",
          "text": [
            "Epoch 22/200: 100%|██████████| 80/80 [00:01<00:00, 73.97batch/s, loss=0.171]\n"
          ]
        },
        {
          "name": "stdout",
          "output_type": "stream",
          "text": [
            "Epoch 22/200, Training Loss: 0.17066088428127882\n",
            "Epoch 22/200, Validation Loss: 0.15929817558237344\n"
          ]
        },
        {
          "name": "stderr",
          "output_type": "stream",
          "text": [
            "Epoch 23/200: 100%|██████████| 80/80 [00:01<00:00, 75.49batch/s, loss=0.166]\n"
          ]
        },
        {
          "name": "stdout",
          "output_type": "stream",
          "text": [
            "Epoch 23/200, Training Loss: 0.16551308549657331\n",
            "Epoch 23/200, Validation Loss: 0.15470355934033034\n"
          ]
        },
        {
          "name": "stderr",
          "output_type": "stream",
          "text": [
            "Epoch 24/200: 100%|██████████| 80/80 [00:01<00:00, 71.29batch/s, loss=0.161]\n"
          ]
        },
        {
          "name": "stdout",
          "output_type": "stream",
          "text": [
            "Epoch 24/200, Training Loss: 0.16068179938667904\n",
            "Epoch 24/200, Validation Loss: 0.1503249807648652\n"
          ]
        },
        {
          "name": "stderr",
          "output_type": "stream",
          "text": [
            "Epoch 25/200: 100%|██████████| 80/80 [00:01<00:00, 70.78batch/s, loss=0.156]\n"
          ]
        },
        {
          "name": "stdout",
          "output_type": "stream",
          "text": [
            "Epoch 25/200, Training Loss: 0.15610339439616613\n",
            "Epoch 25/200, Validation Loss: 0.1461478391712532\n"
          ]
        },
        {
          "name": "stderr",
          "output_type": "stream",
          "text": [
            "Epoch 26/200: 100%|██████████| 80/80 [00:01<00:00, 73.81batch/s, loss=0.152]\n"
          ]
        },
        {
          "name": "stdout",
          "output_type": "stream",
          "text": [
            "Epoch 26/200, Training Loss: 0.15174843900029547\n",
            "Epoch 26/200, Validation Loss: 0.1421819052771178\n"
          ]
        },
        {
          "name": "stderr",
          "output_type": "stream",
          "text": [
            "Epoch 27/200: 100%|██████████| 80/80 [00:01<00:00, 74.16batch/s, loss=0.148]\n"
          ]
        },
        {
          "name": "stdout",
          "output_type": "stream",
          "text": [
            "Epoch 27/200, Training Loss: 0.1475886365069546\n",
            "Epoch 27/200, Validation Loss: 0.1383855412846759\n"
          ]
        },
        {
          "name": "stderr",
          "output_type": "stream",
          "text": [
            "Epoch 28/200: 100%|██████████| 80/80 [00:01<00:00, 74.12batch/s, loss=0.144]\n"
          ]
        },
        {
          "name": "stdout",
          "output_type": "stream",
          "text": [
            "Epoch 28/200, Training Loss: 0.14359407662296833\n",
            "Epoch 28/200, Validation Loss: 0.13473649827628695\n"
          ]
        },
        {
          "name": "stderr",
          "output_type": "stream",
          "text": [
            "Epoch 29/200: 100%|██████████| 80/80 [00:01<00:00, 74.01batch/s, loss=0.14] \n"
          ]
        },
        {
          "name": "stdout",
          "output_type": "stream",
          "text": [
            "Epoch 29/200, Training Loss: 0.13974925166670585\n",
            "Epoch 29/200, Validation Loss: 0.1312158652535845\n"
          ]
        },
        {
          "name": "stderr",
          "output_type": "stream",
          "text": [
            "Epoch 30/200: 100%|██████████| 80/80 [00:01<00:00, 74.38batch/s, loss=0.136]\n"
          ]
        },
        {
          "name": "stdout",
          "output_type": "stream",
          "text": [
            "Epoch 30/200, Training Loss: 0.13602217572239883\n",
            "Epoch 30/200, Validation Loss: 0.12779252994417653\n"
          ]
        },
        {
          "name": "stderr",
          "output_type": "stream",
          "text": [
            "Epoch 31/200: 100%|██████████| 80/80 [00:01<00:00, 71.30batch/s, loss=0.132]\n"
          ]
        },
        {
          "name": "stdout",
          "output_type": "stream",
          "text": [
            "Epoch 31/200, Training Loss: 0.13238497772689214\n",
            "Epoch 31/200, Validation Loss: 0.12445705350265257\n"
          ]
        },
        {
          "name": "stderr",
          "output_type": "stream",
          "text": [
            "Epoch 32/200: 100%|██████████| 80/80 [00:01<00:00, 73.36batch/s, loss=0.129]\n"
          ]
        },
        {
          "name": "stdout",
          "output_type": "stream",
          "text": [
            "Epoch 32/200, Training Loss: 0.12883210238776258\n",
            "Epoch 32/200, Validation Loss: 0.12119139623659297\n"
          ]
        },
        {
          "name": "stderr",
          "output_type": "stream",
          "text": [
            "Epoch 33/200: 100%|██████████| 80/80 [00:01<00:00, 74.68batch/s, loss=0.125]\n"
          ]
        },
        {
          "name": "stdout",
          "output_type": "stream",
          "text": [
            "Epoch 33/200, Training Loss: 0.12535894516940999\n",
            "Epoch 33/200, Validation Loss: 0.1179967815696613\n"
          ]
        },
        {
          "name": "stderr",
          "output_type": "stream",
          "text": [
            "Epoch 34/200: 100%|██████████| 80/80 [00:01<00:00, 74.58batch/s, loss=0.122]\n"
          ]
        },
        {
          "name": "stdout",
          "output_type": "stream",
          "text": [
            "Epoch 34/200, Training Loss: 0.12194986596756663\n",
            "Epoch 34/200, Validation Loss: 0.11487806700563297\n"
          ]
        },
        {
          "name": "stderr",
          "output_type": "stream",
          "text": [
            "Epoch 35/200: 100%|██████████| 80/80 [00:01<00:00, 74.57batch/s, loss=0.119]\n"
          ]
        },
        {
          "name": "stdout",
          "output_type": "stream",
          "text": [
            "Epoch 35/200, Training Loss: 0.11861151903770732\n",
            "Epoch 35/200, Validation Loss: 0.11182386792882681\n"
          ]
        },
        {
          "name": "stderr",
          "output_type": "stream",
          "text": [
            "Epoch 36/200: 100%|██████████| 80/80 [00:01<00:00, 73.44batch/s, loss=0.115]\n"
          ]
        },
        {
          "name": "stdout",
          "output_type": "stream",
          "text": [
            "Epoch 36/200, Training Loss: 0.11534415948706433\n",
            "Epoch 36/200, Validation Loss: 0.10885168385459375\n"
          ]
        },
        {
          "name": "stderr",
          "output_type": "stream",
          "text": [
            "Epoch 37/200: 100%|██████████| 80/80 [00:01<00:00, 72.80batch/s, loss=0.112]\n"
          ]
        },
        {
          "name": "stdout",
          "output_type": "stream",
          "text": [
            "Epoch 37/200, Training Loss: 0.11214863412340341\n",
            "Epoch 37/200, Validation Loss: 0.1059446165456016\n"
          ]
        },
        {
          "name": "stderr",
          "output_type": "stream",
          "text": [
            "Epoch 38/200: 100%|██████████| 80/80 [00:01<00:00, 74.48batch/s, loss=0.109]\n"
          ]
        },
        {
          "name": "stdout",
          "output_type": "stream",
          "text": [
            "Epoch 38/200, Training Loss: 0.1090073982761796\n",
            "Epoch 38/200, Validation Loss: 0.10310596477552876\n"
          ]
        },
        {
          "name": "stderr",
          "output_type": "stream",
          "text": [
            "Epoch 39/200: 100%|██████████| 80/80 [00:01<00:00, 76.49batch/s, loss=0.106]\n"
          ]
        },
        {
          "name": "stdout",
          "output_type": "stream",
          "text": [
            "Epoch 39/200, Training Loss: 0.10591757912951712\n",
            "Epoch 39/200, Validation Loss: 0.10031362856051705\n"
          ]
        },
        {
          "name": "stderr",
          "output_type": "stream",
          "text": [
            "Epoch 40/200: 100%|██████████| 80/80 [00:01<00:00, 71.71batch/s, loss=0.103]\n"
          ]
        },
        {
          "name": "stdout",
          "output_type": "stream",
          "text": [
            "Epoch 40/200, Training Loss: 0.10287389983981939\n",
            "Epoch 40/200, Validation Loss: 0.09757059662352377\n"
          ]
        },
        {
          "name": "stderr",
          "output_type": "stream",
          "text": [
            "Epoch 41/200: 100%|██████████| 80/80 [00:01<00:00, 74.26batch/s, loss=0.0999]\n"
          ]
        },
        {
          "name": "stdout",
          "output_type": "stream",
          "text": [
            "Epoch 41/200, Training Loss: 0.09987614260726682\n",
            "Epoch 41/200, Validation Loss: 0.09486061217013766\n"
          ]
        },
        {
          "name": "stderr",
          "output_type": "stream",
          "text": [
            "Epoch 42/200: 100%|██████████| 80/80 [00:01<00:00, 74.79batch/s, loss=0.0969]\n"
          ]
        },
        {
          "name": "stdout",
          "output_type": "stream",
          "text": [
            "Epoch 42/200, Training Loss: 0.09690735734631485\n",
            "Epoch 42/200, Validation Loss: 0.09215990443599656\n"
          ]
        },
        {
          "name": "stderr",
          "output_type": "stream",
          "text": [
            "Epoch 43/200: 100%|██████████| 80/80 [00:01<00:00, 75.17batch/s, loss=0.094] \n"
          ]
        },
        {
          "name": "stdout",
          "output_type": "stream",
          "text": [
            "Epoch 43/200, Training Loss: 0.09397054223992099\n",
            "Epoch 43/200, Validation Loss: 0.08950307522093577\n"
          ]
        },
        {
          "name": "stderr",
          "output_type": "stream",
          "text": [
            "Epoch 44/200: 100%|██████████| 80/80 [00:01<00:00, 72.50batch/s, loss=0.0911]\n"
          ]
        },
        {
          "name": "stdout",
          "output_type": "stream",
          "text": [
            "Epoch 44/200, Training Loss: 0.09107201516235881\n",
            "Epoch 44/200, Validation Loss: 0.08685540582429248\n"
          ]
        },
        {
          "name": "stderr",
          "output_type": "stream",
          "text": [
            "Epoch 45/200: 100%|██████████| 80/80 [00:01<00:00, 75.34batch/s, loss=0.0882]\n"
          ]
        },
        {
          "name": "stdout",
          "output_type": "stream",
          "text": [
            "Epoch 45/200, Training Loss: 0.08820638567950541\n",
            "Epoch 45/200, Validation Loss: 0.08424860947667484\n"
          ]
        },
        {
          "name": "stderr",
          "output_type": "stream",
          "text": [
            "Epoch 46/200: 100%|██████████| 80/80 [00:01<00:00, 73.43batch/s, loss=0.0854]\n"
          ]
        },
        {
          "name": "stdout",
          "output_type": "stream",
          "text": [
            "Epoch 46/200, Training Loss: 0.0853758952672726\n",
            "Epoch 46/200, Validation Loss: 0.08168595709042166\n"
          ]
        },
        {
          "name": "stderr",
          "output_type": "stream",
          "text": [
            "Epoch 47/200: 100%|██████████| 80/80 [00:01<00:00, 74.95batch/s, loss=0.0826]\n"
          ]
        },
        {
          "name": "stdout",
          "output_type": "stream",
          "text": [
            "Epoch 47/200, Training Loss: 0.08258370719080309\n",
            "Epoch 47/200, Validation Loss: 0.07916301707029913\n"
          ]
        },
        {
          "name": "stderr",
          "output_type": "stream",
          "text": [
            "Epoch 48/200: 100%|██████████| 80/80 [00:01<00:00, 76.80batch/s, loss=0.0798]\n"
          ]
        },
        {
          "name": "stdout",
          "output_type": "stream",
          "text": [
            "Epoch 48/200, Training Loss: 0.079806911966082\n",
            "Epoch 48/200, Validation Loss: 0.07661880642463154\n"
          ]
        },
        {
          "name": "stderr",
          "output_type": "stream",
          "text": [
            "Epoch 49/200: 100%|██████████| 80/80 [00:01<00:00, 75.29batch/s, loss=0.077] \n"
          ]
        },
        {
          "name": "stdout",
          "output_type": "stream",
          "text": [
            "Epoch 49/200, Training Loss: 0.07703410354581117\n",
            "Epoch 49/200, Validation Loss: 0.07406985097490366\n"
          ]
        },
        {
          "name": "stderr",
          "output_type": "stream",
          "text": [
            "Epoch 50/200: 100%|██████████| 80/80 [00:01<00:00, 70.95batch/s, loss=0.0743]\n"
          ]
        },
        {
          "name": "stdout",
          "output_type": "stream",
          "text": [
            "Epoch 50/200, Training Loss: 0.074270994766186\n",
            "Epoch 50/200, Validation Loss: 0.07153153596900537\n"
          ]
        },
        {
          "name": "stderr",
          "output_type": "stream",
          "text": [
            "Epoch 51/200: 100%|██████████| 80/80 [00:01<00:00, 74.70batch/s, loss=0.0715]\n"
          ]
        },
        {
          "name": "stdout",
          "output_type": "stream",
          "text": [
            "Epoch 51/200, Training Loss: 0.07153198589621139\n",
            "Epoch 51/200, Validation Loss: 0.06903925282099287\n"
          ]
        },
        {
          "name": "stderr",
          "output_type": "stream",
          "text": [
            "Epoch 52/200: 100%|██████████| 80/80 [00:01<00:00, 72.75batch/s, loss=0.0688]\n"
          ]
        },
        {
          "name": "stdout",
          "output_type": "stream",
          "text": [
            "Epoch 52/200, Training Loss: 0.06884224809334168\n",
            "Epoch 52/200, Validation Loss: 0.0665787080162328\n"
          ]
        },
        {
          "name": "stderr",
          "output_type": "stream",
          "text": [
            "Epoch 53/200: 100%|██████████| 80/80 [00:01<00:00, 74.66batch/s, loss=0.0662]\n"
          ]
        },
        {
          "name": "stdout",
          "output_type": "stream",
          "text": [
            "Epoch 53/200, Training Loss: 0.06617315757738336\n",
            "Epoch 53/200, Validation Loss: 0.0641050522262229\n"
          ]
        },
        {
          "name": "stderr",
          "output_type": "stream",
          "text": [
            "Epoch 54/200: 100%|██████████| 80/80 [00:01<00:00, 75.63batch/s, loss=0.0635]\n"
          ]
        },
        {
          "name": "stdout",
          "output_type": "stream",
          "text": [
            "Epoch 54/200, Training Loss: 0.06348000088406366\n",
            "Epoch 54/200, Validation Loss: 0.06162118581919911\n"
          ]
        },
        {
          "name": "stderr",
          "output_type": "stream",
          "text": [
            "Epoch 55/200: 100%|██████████| 80/80 [00:01<00:00, 73.05batch/s, loss=0.0608]\n"
          ]
        },
        {
          "name": "stdout",
          "output_type": "stream",
          "text": [
            "Epoch 55/200, Training Loss: 0.06080536448369027\n",
            "Epoch 55/200, Validation Loss: 0.05914810653042928\n"
          ]
        },
        {
          "name": "stderr",
          "output_type": "stream",
          "text": [
            "Epoch 56/200: 100%|██████████| 80/80 [00:01<00:00, 73.94batch/s, loss=0.0582]\n"
          ]
        },
        {
          "name": "stdout",
          "output_type": "stream",
          "text": [
            "Epoch 56/200, Training Loss: 0.05817204047151946\n",
            "Epoch 56/200, Validation Loss: 0.05672911455751694\n"
          ]
        },
        {
          "name": "stderr",
          "output_type": "stream",
          "text": [
            "Epoch 57/200: 100%|██████████| 80/80 [00:01<00:00, 75.80batch/s, loss=0.0556]\n"
          ]
        },
        {
          "name": "stdout",
          "output_type": "stream",
          "text": [
            "Epoch 57/200, Training Loss: 0.055588157436132934\n",
            "Epoch 57/200, Validation Loss: 0.05439065950986967\n"
          ]
        },
        {
          "name": "stderr",
          "output_type": "stream",
          "text": [
            "Epoch 58/200: 100%|██████████| 80/80 [00:01<00:00, 73.26batch/s, loss=0.0531]\n"
          ]
        },
        {
          "name": "stdout",
          "output_type": "stream",
          "text": [
            "Epoch 58/200, Training Loss: 0.053075125390324426\n",
            "Epoch 58/200, Validation Loss: 0.05213226613628677\n"
          ]
        },
        {
          "name": "stderr",
          "output_type": "stream",
          "text": [
            "Epoch 59/200: 100%|██████████| 80/80 [00:01<00:00, 76.12batch/s, loss=0.0507]\n"
          ]
        },
        {
          "name": "stdout",
          "output_type": "stream",
          "text": [
            "Epoch 59/200, Training Loss: 0.05065183357751015\n",
            "Epoch 59/200, Validation Loss: 0.04993702959031582\n"
          ]
        },
        {
          "name": "stderr",
          "output_type": "stream",
          "text": [
            "Epoch 60/200: 100%|██████████| 80/80 [00:01<00:00, 75.90batch/s, loss=0.0483]\n"
          ]
        },
        {
          "name": "stdout",
          "output_type": "stream",
          "text": [
            "Epoch 60/200, Training Loss: 0.04833003061029629\n",
            "Epoch 60/200, Validation Loss: 0.04781421515701313\n"
          ]
        },
        {
          "name": "stderr",
          "output_type": "stream",
          "text": [
            "Epoch 61/200: 100%|██████████| 80/80 [00:01<00:00, 69.27batch/s, loss=0.0461]\n"
          ]
        },
        {
          "name": "stdout",
          "output_type": "stream",
          "text": [
            "Epoch 61/200, Training Loss: 0.04610184540130909\n",
            "Epoch 61/200, Validation Loss: 0.04575561278538287\n"
          ]
        },
        {
          "name": "stderr",
          "output_type": "stream",
          "text": [
            "Epoch 62/200: 100%|██████████| 80/80 [00:01<00:00, 69.65batch/s, loss=0.044] \n"
          ]
        },
        {
          "name": "stdout",
          "output_type": "stream",
          "text": [
            "Epoch 62/200, Training Loss: 0.04396097390901759\n",
            "Epoch 62/200, Validation Loss: 0.043778403787725455\n"
          ]
        },
        {
          "name": "stderr",
          "output_type": "stream",
          "text": [
            "Epoch 63/200: 100%|██████████| 80/80 [00:01<00:00, 62.57batch/s, loss=0.0419]\n"
          ]
        },
        {
          "name": "stdout",
          "output_type": "stream",
          "text": [
            "Epoch 63/200, Training Loss: 0.0419115671061915\n",
            "Epoch 63/200, Validation Loss: 0.04187510421581351\n"
          ]
        },
        {
          "name": "stderr",
          "output_type": "stream",
          "text": [
            "Epoch 64/200: 100%|██████████| 80/80 [00:01<00:00, 62.99batch/s, loss=0.0399]\n"
          ]
        },
        {
          "name": "stdout",
          "output_type": "stream",
          "text": [
            "Epoch 64/200, Training Loss: 0.0399429512443336\n",
            "Epoch 64/200, Validation Loss: 0.040062727189203645\n"
          ]
        },
        {
          "name": "stderr",
          "output_type": "stream",
          "text": [
            "Epoch 65/200: 100%|██████████| 80/80 [00:01<00:00, 65.83batch/s, loss=0.0381]\n"
          ]
        },
        {
          "name": "stdout",
          "output_type": "stream",
          "text": [
            "Epoch 65/200, Training Loss: 0.03805743202672897\n",
            "Epoch 65/200, Validation Loss: 0.03833702540983402\n"
          ]
        },
        {
          "name": "stderr",
          "output_type": "stream",
          "text": [
            "Epoch 66/200: 100%|██████████| 80/80 [00:01<00:00, 66.06batch/s, loss=0.0363]\n"
          ]
        },
        {
          "name": "stdout",
          "output_type": "stream",
          "text": [
            "Epoch 66/200, Training Loss: 0.0362510068528145\n",
            "Epoch 66/200, Validation Loss: 0.0366958413853225\n"
          ]
        },
        {
          "name": "stderr",
          "output_type": "stream",
          "text": [
            "Epoch 67/200: 100%|██████████| 80/80 [00:01<00:00, 43.35batch/s, loss=0.0345]\n"
          ]
        },
        {
          "name": "stdout",
          "output_type": "stream",
          "text": [
            "Epoch 67/200, Training Loss: 0.03452412664689471\n",
            "Epoch 67/200, Validation Loss: 0.03511617296214741\n"
          ]
        },
        {
          "name": "stderr",
          "output_type": "stream",
          "text": [
            "Epoch 68/200: 100%|██████████| 80/80 [00:02<00:00, 31.70batch/s, loss=0.0329]\n"
          ]
        },
        {
          "name": "stdout",
          "output_type": "stream",
          "text": [
            "Epoch 68/200, Training Loss: 0.0328716567868065\n",
            "Epoch 68/200, Validation Loss: 0.033615423713229974\n"
          ]
        },
        {
          "name": "stderr",
          "output_type": "stream",
          "text": [
            "Epoch 69/200: 100%|██████████| 80/80 [00:02<00:00, 32.17batch/s, loss=0.0313]\n"
          ]
        },
        {
          "name": "stdout",
          "output_type": "stream",
          "text": [
            "Epoch 69/200, Training Loss: 0.03129382084635017\n",
            "Epoch 69/200, Validation Loss: 0.03216768183289646\n"
          ]
        },
        {
          "name": "stderr",
          "output_type": "stream",
          "text": [
            "Epoch 70/200: 100%|██████████| 80/80 [00:02<00:00, 32.82batch/s, loss=0.0298]\n"
          ]
        },
        {
          "name": "stdout",
          "output_type": "stream",
          "text": [
            "Epoch 70/200, Training Loss: 0.029787505593489742\n",
            "Epoch 70/200, Validation Loss: 0.030781833001413513\n"
          ]
        },
        {
          "name": "stderr",
          "output_type": "stream",
          "text": [
            "Epoch 71/200: 100%|██████████| 80/80 [00:02<00:00, 31.39batch/s, loss=0.0283]\n"
          ]
        },
        {
          "name": "stdout",
          "output_type": "stream",
          "text": [
            "Epoch 71/200, Training Loss: 0.028347505553937762\n",
            "Epoch 71/200, Validation Loss: 0.029448997759191\n"
          ]
        },
        {
          "name": "stderr",
          "output_type": "stream",
          "text": [
            "Epoch 72/200: 100%|██████████| 80/80 [00:02<00:00, 30.12batch/s, loss=0.027] \n"
          ]
        },
        {
          "name": "stdout",
          "output_type": "stream",
          "text": [
            "Epoch 72/200, Training Loss: 0.026972822252677553\n",
            "Epoch 72/200, Validation Loss: 0.028181753515931593\n"
          ]
        },
        {
          "name": "stderr",
          "output_type": "stream",
          "text": [
            "Epoch 73/200: 100%|██████████| 80/80 [00:02<00:00, 31.55batch/s, loss=0.0257]\n"
          ]
        },
        {
          "name": "stdout",
          "output_type": "stream",
          "text": [
            "Epoch 73/200, Training Loss: 0.0256623508470893\n",
            "Epoch 73/200, Validation Loss: 0.026966376327182764\n"
          ]
        },
        {
          "name": "stderr",
          "output_type": "stream",
          "text": [
            "Epoch 74/200: 100%|██████████| 80/80 [00:02<00:00, 30.63batch/s, loss=0.0244]\n"
          ]
        },
        {
          "name": "stdout",
          "output_type": "stream",
          "text": [
            "Epoch 74/200, Training Loss: 0.024413072962765882\n",
            "Epoch 74/200, Validation Loss: 0.025815591139068103\n"
          ]
        },
        {
          "name": "stderr",
          "output_type": "stream",
          "text": [
            "Epoch 75/200: 100%|██████████| 80/80 [00:02<00:00, 32.95batch/s, loss=0.0232]\n"
          ]
        },
        {
          "name": "stdout",
          "output_type": "stream",
          "text": [
            "Epoch 75/200, Training Loss: 0.023230147825295748\n",
            "Epoch 75/200, Validation Loss: 0.02472539365803444\n"
          ]
        },
        {
          "name": "stderr",
          "output_type": "stream",
          "text": [
            "Epoch 76/200: 100%|██████████| 80/80 [00:02<00:00, 31.60batch/s, loss=0.0221]\n"
          ]
        },
        {
          "name": "stdout",
          "output_type": "stream",
          "text": [
            "Epoch 76/200, Training Loss: 0.02211194708387864\n",
            "Epoch 76/200, Validation Loss: 0.023689138187584308\n"
          ]
        },
        {
          "name": "stderr",
          "output_type": "stream",
          "text": [
            "Epoch 77/200: 100%|██████████| 80/80 [00:02<00:00, 34.88batch/s, loss=0.0211]\n"
          ]
        },
        {
          "name": "stdout",
          "output_type": "stream",
          "text": [
            "Epoch 77/200, Training Loss: 0.02105235029267244\n",
            "Epoch 77/200, Validation Loss: 0.022701018229859447\n"
          ]
        },
        {
          "name": "stderr",
          "output_type": "stream",
          "text": [
            "Epoch 78/200: 100%|██████████| 80/80 [00:02<00:00, 30.88batch/s, loss=0.02]  \n"
          ]
        },
        {
          "name": "stdout",
          "output_type": "stream",
          "text": [
            "Epoch 78/200, Training Loss: 0.02004243813069755\n",
            "Epoch 78/200, Validation Loss: 0.02176471484279699\n"
          ]
        },
        {
          "name": "stderr",
          "output_type": "stream",
          "text": [
            "Epoch 79/200: 100%|██████████| 80/80 [00:02<00:00, 31.57batch/s, loss=0.0191]\n"
          ]
        },
        {
          "name": "stdout",
          "output_type": "stream",
          "text": [
            "Epoch 79/200, Training Loss: 0.019082248598608645\n",
            "Epoch 79/200, Validation Loss: 0.020872247564426353\n"
          ]
        },
        {
          "name": "stderr",
          "output_type": "stream",
          "text": [
            "Epoch 80/200: 100%|██████████| 80/80 [00:02<00:00, 35.45batch/s, loss=0.0182]\n"
          ]
        },
        {
          "name": "stdout",
          "output_type": "stream",
          "text": [
            "Epoch 80/200, Training Loss: 0.0181701124466141\n",
            "Epoch 80/200, Validation Loss: 0.02002919618322911\n"
          ]
        },
        {
          "name": "stderr",
          "output_type": "stream",
          "text": [
            "Epoch 81/200: 100%|██████████| 80/80 [00:01<00:00, 74.67batch/s, loss=0.0173]\n"
          ]
        },
        {
          "name": "stdout",
          "output_type": "stream",
          "text": [
            "Epoch 81/200, Training Loss: 0.017307160048963235\n",
            "Epoch 81/200, Validation Loss: 0.019232008000877578\n"
          ]
        },
        {
          "name": "stderr",
          "output_type": "stream",
          "text": [
            "Epoch 82/200: 100%|██████████| 80/80 [00:01<00:00, 72.18batch/s, loss=0.0165]\n"
          ]
        },
        {
          "name": "stdout",
          "output_type": "stream",
          "text": [
            "Epoch 82/200, Training Loss: 0.016494676609637653\n",
            "Epoch 82/200, Validation Loss: 0.0184815819640967\n"
          ]
        },
        {
          "name": "stderr",
          "output_type": "stream",
          "text": [
            "Epoch 83/200: 100%|██████████| 80/80 [00:01<00:00, 74.89batch/s, loss=0.0157]\n"
          ]
        },
        {
          "name": "stdout",
          "output_type": "stream",
          "text": [
            "Epoch 83/200, Training Loss: 0.015731502350325673\n",
            "Epoch 83/200, Validation Loss: 0.017774435066124812\n"
          ]
        },
        {
          "name": "stderr",
          "output_type": "stream",
          "text": [
            "Epoch 84/200: 100%|██████████| 80/80 [00:01<00:00, 74.28batch/s, loss=0.015] \n"
          ]
        },
        {
          "name": "stdout",
          "output_type": "stream",
          "text": [
            "Epoch 84/200, Training Loss: 0.015013830523336122\n",
            "Epoch 84/200, Validation Loss: 0.017110816678211238\n"
          ]
        },
        {
          "name": "stderr",
          "output_type": "stream",
          "text": [
            "Epoch 85/200: 100%|██████████| 80/80 [00:01<00:00, 74.55batch/s, loss=0.0143]\n"
          ]
        },
        {
          "name": "stdout",
          "output_type": "stream",
          "text": [
            "Epoch 85/200, Training Loss: 0.01434008600721367\n",
            "Epoch 85/200, Validation Loss: 0.016485932342335325\n"
          ]
        },
        {
          "name": "stderr",
          "output_type": "stream",
          "text": [
            "Epoch 86/200: 100%|██████████| 80/80 [00:01<00:00, 73.01batch/s, loss=0.0137]\n"
          ]
        },
        {
          "name": "stdout",
          "output_type": "stream",
          "text": [
            "Epoch 86/200, Training Loss: 0.013706171679365258\n",
            "Epoch 86/200, Validation Loss: 0.015899950135108105\n"
          ]
        },
        {
          "name": "stderr",
          "output_type": "stream",
          "text": [
            "Epoch 87/200: 100%|██████████| 80/80 [00:01<00:00, 74.12batch/s, loss=0.0131]\n"
          ]
        },
        {
          "name": "stdout",
          "output_type": "stream",
          "text": [
            "Epoch 87/200, Training Loss: 0.013114535632776416\n",
            "Epoch 87/200, Validation Loss: 0.015352194252148732\n"
          ]
        },
        {
          "name": "stderr",
          "output_type": "stream",
          "text": [
            "Epoch 88/200: 100%|██████████| 80/80 [00:01<00:00, 75.33batch/s, loss=0.0126]\n"
          ]
        },
        {
          "name": "stdout",
          "output_type": "stream",
          "text": [
            "Epoch 88/200, Training Loss: 0.012564633660304613\n",
            "Epoch 88/200, Validation Loss: 0.014838515983651058\n"
          ]
        },
        {
          "name": "stderr",
          "output_type": "stream",
          "text": [
            "Epoch 89/200: 100%|██████████| 80/80 [00:01<00:00, 76.78batch/s, loss=0.0121]\n"
          ]
        },
        {
          "name": "stdout",
          "output_type": "stream",
          "text": [
            "Epoch 89/200, Training Loss: 0.012052734633550968\n",
            "Epoch 89/200, Validation Loss: 0.014358493785859284\n"
          ]
        },
        {
          "name": "stderr",
          "output_type": "stream",
          "text": [
            "Epoch 90/200: 100%|██████████| 80/80 [00:01<00:00, 75.30batch/s, loss=0.0116]\n"
          ]
        },
        {
          "name": "stdout",
          "output_type": "stream",
          "text": [
            "Epoch 90/200, Training Loss: 0.011576615012098494\n",
            "Epoch 90/200, Validation Loss: 0.013916131548706724\n"
          ]
        },
        {
          "name": "stderr",
          "output_type": "stream",
          "text": [
            "Epoch 91/200: 100%|██████████| 80/80 [00:01<00:00, 75.26batch/s, loss=0.0111]\n"
          ]
        },
        {
          "name": "stdout",
          "output_type": "stream",
          "text": [
            "Epoch 91/200, Training Loss: 0.011135175093236667\n",
            "Epoch 91/200, Validation Loss: 0.013502639483809316\n"
          ]
        },
        {
          "name": "stderr",
          "output_type": "stream",
          "text": [
            "Epoch 92/200: 100%|██████████| 80/80 [00:01<00:00, 73.10batch/s, loss=0.0107]\n"
          ]
        },
        {
          "name": "stdout",
          "output_type": "stream",
          "text": [
            "Epoch 92/200, Training Loss: 0.010724730458819696\n",
            "Epoch 92/200, Validation Loss: 0.01311553151447072\n"
          ]
        },
        {
          "name": "stderr",
          "output_type": "stream",
          "text": [
            "Epoch 93/200: 100%|██████████| 80/80 [00:01<00:00, 74.12batch/s, loss=0.0103] \n"
          ]
        },
        {
          "name": "stdout",
          "output_type": "stream",
          "text": [
            "Epoch 93/200, Training Loss: 0.010342821680702094\n",
            "Epoch 93/200, Validation Loss: 0.012757728899890587\n"
          ]
        },
        {
          "name": "stderr",
          "output_type": "stream",
          "text": [
            "Epoch 94/200: 100%|██████████| 80/80 [00:01<00:00, 73.86batch/s, loss=0.00999]\n"
          ]
        },
        {
          "name": "stdout",
          "output_type": "stream",
          "text": [
            "Epoch 94/200, Training Loss: 0.009990627091987784\n",
            "Epoch 94/200, Validation Loss: 0.012428841194876215\n"
          ]
        },
        {
          "name": "stderr",
          "output_type": "stream",
          "text": [
            "Epoch 95/200: 100%|██████████| 80/80 [00:01<00:00, 73.72batch/s, loss=0.00967]\n"
          ]
        },
        {
          "name": "stdout",
          "output_type": "stream",
          "text": [
            "Epoch 95/200, Training Loss: 0.009666285089971405\n",
            "Epoch 95/200, Validation Loss: 0.012120649184739358\n"
          ]
        },
        {
          "name": "stderr",
          "output_type": "stream",
          "text": [
            "Epoch 96/200: 100%|██████████| 80/80 [00:01<00:00, 75.12batch/s, loss=0.00937]\n"
          ]
        },
        {
          "name": "stdout",
          "output_type": "stream",
          "text": [
            "Epoch 96/200, Training Loss: 0.009366514911714481\n",
            "Epoch 96/200, Validation Loss: 0.011830487106506\n"
          ]
        },
        {
          "name": "stderr",
          "output_type": "stream",
          "text": [
            "Epoch 97/200: 100%|██████████| 80/80 [00:01<00:00, 75.20batch/s, loss=0.00909]\n"
          ]
        },
        {
          "name": "stdout",
          "output_type": "stream",
          "text": [
            "Epoch 97/200, Training Loss: 0.009088391038736298\n",
            "Epoch 97/200, Validation Loss: 0.011562594041603192\n"
          ]
        },
        {
          "name": "stderr",
          "output_type": "stream",
          "text": [
            "Epoch 98/200: 100%|██████████| 80/80 [00:01<00:00, 73.23batch/s, loss=0.00883]\n"
          ]
        },
        {
          "name": "stdout",
          "output_type": "stream",
          "text": [
            "Epoch 98/200, Training Loss: 0.0088324461094303\n",
            "Epoch 98/200, Validation Loss: 0.011316884472830718\n"
          ]
        },
        {
          "name": "stderr",
          "output_type": "stream",
          "text": [
            "Epoch 99/200: 100%|██████████| 80/80 [00:01<00:00, 75.29batch/s, loss=0.0086] \n"
          ]
        },
        {
          "name": "stdout",
          "output_type": "stream",
          "text": [
            "Epoch 99/200, Training Loss: 0.008596313270520801\n",
            "Epoch 99/200, Validation Loss: 0.011088320859409407\n"
          ]
        },
        {
          "name": "stderr",
          "output_type": "stream",
          "text": [
            "Epoch 100/200: 100%|██████████| 80/80 [00:01<00:00, 74.15batch/s, loss=0.00838]\n"
          ]
        },
        {
          "name": "stdout",
          "output_type": "stream",
          "text": [
            "Epoch 100/200, Training Loss: 0.008379416265073237\n",
            "Epoch 100/200, Validation Loss: 0.010874995132471539\n"
          ]
        },
        {
          "name": "stderr",
          "output_type": "stream",
          "text": [
            "Epoch 101/200: 100%|██████████| 80/80 [00:01<00:00, 72.96batch/s, loss=0.00818]\n"
          ]
        },
        {
          "name": "stdout",
          "output_type": "stream",
          "text": [
            "Epoch 101/200, Training Loss: 0.008177077918061533\n",
            "Epoch 101/200, Validation Loss: 0.010675412475001669\n"
          ]
        },
        {
          "name": "stderr",
          "output_type": "stream",
          "text": [
            "Epoch 102/200: 100%|██████████| 80/80 [00:01<00:00, 74.89batch/s, loss=0.00799]\n"
          ]
        },
        {
          "name": "stdout",
          "output_type": "stream",
          "text": [
            "Epoch 102/200, Training Loss: 0.007990547726138778\n",
            "Epoch 102/200, Validation Loss: 0.010491293310427528\n"
          ]
        },
        {
          "name": "stderr",
          "output_type": "stream",
          "text": [
            "Epoch 103/200: 100%|██████████| 80/80 [00:01<00:00, 75.06batch/s, loss=0.00782]\n"
          ]
        },
        {
          "name": "stdout",
          "output_type": "stream",
          "text": [
            "Epoch 103/200, Training Loss: 0.007819452739185839\n",
            "Epoch 103/200, Validation Loss: 0.010322008133175563\n"
          ]
        },
        {
          "name": "stderr",
          "output_type": "stream",
          "text": [
            "Epoch 104/200: 100%|██████████| 80/80 [00:01<00:00, 73.49batch/s, loss=0.00766]\n"
          ]
        },
        {
          "name": "stdout",
          "output_type": "stream",
          "text": [
            "Epoch 104/200, Training Loss: 0.0076623146312632204\n",
            "Epoch 104/200, Validation Loss: 0.010165066075075842\n"
          ]
        },
        {
          "name": "stderr",
          "output_type": "stream",
          "text": [
            "Epoch 105/200: 100%|██████████| 80/80 [00:01<00:00, 74.89batch/s, loss=0.00752]\n"
          ]
        },
        {
          "name": "stdout",
          "output_type": "stream",
          "text": [
            "Epoch 105/200, Training Loss: 0.007518137524453487\n",
            "Epoch 105/200, Validation Loss: 0.010018693407339196\n"
          ]
        },
        {
          "name": "stderr",
          "output_type": "stream",
          "text": [
            "Epoch 106/200: 100%|██████████| 80/80 [00:01<00:00, 76.30batch/s, loss=0.00738]\n"
          ]
        },
        {
          "name": "stdout",
          "output_type": "stream",
          "text": [
            "Epoch 106/200, Training Loss: 0.007383924292063361\n",
            "Epoch 106/200, Validation Loss: 0.009881790634417194\n"
          ]
        },
        {
          "name": "stderr",
          "output_type": "stream",
          "text": [
            "Epoch 107/200: 100%|██████████| 80/80 [00:01<00:00, 73.98batch/s, loss=0.00726]\n"
          ]
        },
        {
          "name": "stdout",
          "output_type": "stream",
          "text": [
            "Epoch 107/200, Training Loss: 0.007260307775396481\n",
            "Epoch 107/200, Validation Loss: 0.009751935078656956\n"
          ]
        },
        {
          "name": "stderr",
          "output_type": "stream",
          "text": [
            "Epoch 108/200: 100%|██████████| 80/80 [00:01<00:00, 74.61batch/s, loss=0.00715]\n"
          ]
        },
        {
          "name": "stdout",
          "output_type": "stream",
          "text": [
            "Epoch 108/200, Training Loss: 0.0071459693710103495\n",
            "Epoch 108/200, Validation Loss: 0.009631450950229069\n"
          ]
        },
        {
          "name": "stderr",
          "output_type": "stream",
          "text": [
            "Epoch 109/200: 100%|██████████| 80/80 [00:01<00:00, 70.06batch/s, loss=0.00704]\n"
          ]
        },
        {
          "name": "stdout",
          "output_type": "stream",
          "text": [
            "Epoch 109/200, Training Loss: 0.00704084185075903\n",
            "Epoch 109/200, Validation Loss: 0.009518783473207277\n"
          ]
        },
        {
          "name": "stderr",
          "output_type": "stream",
          "text": [
            "Epoch 110/200: 100%|██████████| 80/80 [00:01<00:00, 72.74batch/s, loss=0.00694]\n"
          ]
        },
        {
          "name": "stdout",
          "output_type": "stream",
          "text": [
            "Epoch 110/200, Training Loss: 0.006943812580703137\n",
            "Epoch 110/200, Validation Loss: 0.009413704091916806\n"
          ]
        },
        {
          "name": "stderr",
          "output_type": "stream",
          "text": [
            "Epoch 111/200: 100%|██████████| 80/80 [00:01<00:00, 76.01batch/s, loss=0.00685]\n"
          ]
        },
        {
          "name": "stdout",
          "output_type": "stream",
          "text": [
            "Epoch 111/200, Training Loss: 0.006854134881267475\n",
            "Epoch 111/200, Validation Loss: 0.00931590239591288\n"
          ]
        },
        {
          "name": "stderr",
          "output_type": "stream",
          "text": [
            "Epoch 112/200: 100%|██████████| 80/80 [00:01<00:00, 75.33batch/s, loss=0.00677]\n"
          ]
        },
        {
          "name": "stdout",
          "output_type": "stream",
          "text": [
            "Epoch 112/200, Training Loss: 0.0067709159181359255\n",
            "Epoch 112/200, Validation Loss: 0.009225457263020445\n"
          ]
        },
        {
          "name": "stderr",
          "output_type": "stream",
          "text": [
            "Epoch 113/200: 100%|██████████| 80/80 [00:01<00:00, 74.25batch/s, loss=0.00669]\n"
          ]
        },
        {
          "name": "stdout",
          "output_type": "stream",
          "text": [
            "Epoch 113/200, Training Loss: 0.0066940995376867565\n",
            "Epoch 113/200, Validation Loss: 0.00914069817300095\n"
          ]
        },
        {
          "name": "stderr",
          "output_type": "stream",
          "text": [
            "Epoch 114/200: 100%|██████████| 80/80 [00:01<00:00, 71.97batch/s, loss=0.00662]\n"
          ]
        },
        {
          "name": "stdout",
          "output_type": "stream",
          "text": [
            "Epoch 114/200, Training Loss: 0.006622619147287042\n",
            "Epoch 114/200, Validation Loss: 0.00906105012963247\n"
          ]
        },
        {
          "name": "stderr",
          "output_type": "stream",
          "text": [
            "Epoch 115/200: 100%|██████████| 80/80 [00:01<00:00, 72.04batch/s, loss=0.00656]\n"
          ]
        },
        {
          "name": "stdout",
          "output_type": "stream",
          "text": [
            "Epoch 115/200, Training Loss: 0.006555794705369723\n",
            "Epoch 115/200, Validation Loss: 0.008985427951836863\n"
          ]
        },
        {
          "name": "stderr",
          "output_type": "stream",
          "text": [
            "Epoch 116/200: 100%|██████████| 80/80 [00:01<00:00, 73.55batch/s, loss=0.00649]\n"
          ]
        },
        {
          "name": "stdout",
          "output_type": "stream",
          "text": [
            "Epoch 116/200, Training Loss: 0.0064932487493211885\n",
            "Epoch 116/200, Validation Loss: 0.008914362302305285\n"
          ]
        },
        {
          "name": "stderr",
          "output_type": "stream",
          "text": [
            "Epoch 117/200: 100%|██████████| 80/80 [00:01<00:00, 74.93batch/s, loss=0.00643]\n"
          ]
        },
        {
          "name": "stdout",
          "output_type": "stream",
          "text": [
            "Epoch 117/200, Training Loss: 0.006434554365447473\n",
            "Epoch 117/200, Validation Loss: 0.00884675301466492\n"
          ]
        },
        {
          "name": "stderr",
          "output_type": "stream",
          "text": [
            "Epoch 118/200: 100%|██████████| 80/80 [00:01<00:00, 74.69batch/s, loss=0.00638]\n"
          ]
        },
        {
          "name": "stdout",
          "output_type": "stream",
          "text": [
            "Epoch 118/200, Training Loss: 0.006379461497727959\n",
            "Epoch 118/200, Validation Loss: 0.008782698949898079\n"
          ]
        },
        {
          "name": "stderr",
          "output_type": "stream",
          "text": [
            "Epoch 119/200: 100%|██████████| 80/80 [00:01<00:00, 73.55batch/s, loss=0.00633]\n"
          ]
        },
        {
          "name": "stdout",
          "output_type": "stream",
          "text": [
            "Epoch 119/200, Training Loss: 0.006327488703500074\n",
            "Epoch 119/200, Validation Loss: 0.008722473553825816\n"
          ]
        },
        {
          "name": "stderr",
          "output_type": "stream",
          "text": [
            "Epoch 120/200: 100%|██████████| 80/80 [00:01<00:00, 72.55batch/s, loss=0.00628]\n"
          ]
        },
        {
          "name": "stdout",
          "output_type": "stream",
          "text": [
            "Epoch 120/200, Training Loss: 0.006278236881877978\n",
            "Epoch 120/200, Validation Loss: 0.008662144632083762\n"
          ]
        },
        {
          "name": "stderr",
          "output_type": "stream",
          "text": [
            "Epoch 121/200: 100%|██████████| 80/80 [00:01<00:00, 72.72batch/s, loss=0.00623]\n"
          ]
        },
        {
          "name": "stdout",
          "output_type": "stream",
          "text": [
            "Epoch 121/200, Training Loss: 0.006230528602380609\n",
            "Epoch 121/200, Validation Loss: 0.008607797736624989\n"
          ]
        },
        {
          "name": "stderr",
          "output_type": "stream",
          "text": [
            "Epoch 122/200: 100%|██████████| 80/80 [00:01<00:00, 73.87batch/s, loss=0.00619]\n"
          ]
        },
        {
          "name": "stdout",
          "output_type": "stream",
          "text": [
            "Epoch 122/200, Training Loss: 0.006185151010198056\n",
            "Epoch 122/200, Validation Loss: 0.008556537953231807\n"
          ]
        },
        {
          "name": "stderr",
          "output_type": "stream",
          "text": [
            "Epoch 123/200: 100%|██████████| 80/80 [00:01<00:00, 75.35batch/s, loss=0.00614]\n"
          ]
        },
        {
          "name": "stdout",
          "output_type": "stream",
          "text": [
            "Epoch 123/200, Training Loss: 0.0061421135278220546\n",
            "Epoch 123/200, Validation Loss: 0.008505565553261239\n"
          ]
        },
        {
          "name": "stderr",
          "output_type": "stream",
          "text": [
            "Epoch 124/200: 100%|██████████| 80/80 [00:01<00:00, 74.90batch/s, loss=0.0061] \n"
          ]
        },
        {
          "name": "stdout",
          "output_type": "stream",
          "text": [
            "Epoch 124/200, Training Loss: 0.006101059221420164\n",
            "Epoch 124/200, Validation Loss: 0.008458264729380821\n"
          ]
        },
        {
          "name": "stderr",
          "output_type": "stream",
          "text": [
            "Epoch 125/200: 100%|██████████| 80/80 [00:01<00:00, 74.31batch/s, loss=0.00606]\n"
          ]
        },
        {
          "name": "stdout",
          "output_type": "stream",
          "text": [
            "Epoch 125/200, Training Loss: 0.006061871904203682\n",
            "Epoch 125/200, Validation Loss: 0.008409988706019148\n"
          ]
        },
        {
          "name": "stderr",
          "output_type": "stream",
          "text": [
            "Epoch 126/200: 100%|██████████| 80/80 [00:01<00:00, 73.40batch/s, loss=0.00602]\n"
          ]
        },
        {
          "name": "stdout",
          "output_type": "stream",
          "text": [
            "Epoch 126/200, Training Loss: 0.006024431120809871\n",
            "Epoch 126/200, Validation Loss: 0.008363955538111728\n"
          ]
        },
        {
          "name": "stderr",
          "output_type": "stream",
          "text": [
            "Epoch 127/200: 100%|██████████| 80/80 [00:01<00:00, 71.44batch/s, loss=0.00599]\n"
          ]
        },
        {
          "name": "stdout",
          "output_type": "stream",
          "text": [
            "Epoch 127/200, Training Loss: 0.005988634813256845\n",
            "Epoch 127/200, Validation Loss: 0.008320727753540206\n"
          ]
        },
        {
          "name": "stderr",
          "output_type": "stream",
          "text": [
            "Epoch 128/200: 100%|██████████| 80/80 [00:01<00:00, 73.94batch/s, loss=0.00595]\n"
          ]
        },
        {
          "name": "stdout",
          "output_type": "stream",
          "text": [
            "Epoch 128/200, Training Loss: 0.005954236534050096\n",
            "Epoch 128/200, Validation Loss: 0.008279051167835519\n"
          ]
        },
        {
          "name": "stderr",
          "output_type": "stream",
          "text": [
            "Epoch 129/200: 100%|██████████| 80/80 [00:01<00:00, 73.89batch/s, loss=0.00592]\n"
          ]
        },
        {
          "name": "stdout",
          "output_type": "stream",
          "text": [
            "Epoch 129/200, Training Loss: 0.005921049939116492\n",
            "Epoch 129/200, Validation Loss: 0.008238181402049457\n"
          ]
        },
        {
          "name": "stderr",
          "output_type": "stream",
          "text": [
            "Epoch 130/200: 100%|██████████| 80/80 [00:01<00:00, 73.39batch/s, loss=0.00589]\n"
          ]
        },
        {
          "name": "stdout",
          "output_type": "stream",
          "text": [
            "Epoch 130/200, Training Loss: 0.0058889224081847364\n",
            "Epoch 130/200, Validation Loss: 0.008196076026792596\n"
          ]
        },
        {
          "name": "stderr",
          "output_type": "stream",
          "text": [
            "Epoch 131/200: 100%|██████████| 80/80 [00:01<00:00, 68.66batch/s, loss=0.00586]\n"
          ]
        },
        {
          "name": "stdout",
          "output_type": "stream",
          "text": [
            "Epoch 131/200, Training Loss: 0.005858156063369818\n",
            "Epoch 131/200, Validation Loss: 0.008156407123311268\n"
          ]
        },
        {
          "name": "stderr",
          "output_type": "stream",
          "text": [
            "Epoch 132/200: 100%|██████████| 80/80 [00:01<00:00, 61.29batch/s, loss=0.00583]\n"
          ]
        },
        {
          "name": "stdout",
          "output_type": "stream",
          "text": [
            "Epoch 132/200, Training Loss: 0.005828314763450716\n",
            "Epoch 132/200, Validation Loss: 0.008118750096163726\n"
          ]
        },
        {
          "name": "stderr",
          "output_type": "stream",
          "text": [
            "Epoch 133/200: 100%|██████████| 80/80 [00:01<00:00, 60.67batch/s, loss=0.0058] \n"
          ]
        },
        {
          "name": "stdout",
          "output_type": "stream",
          "text": [
            "Epoch 133/200, Training Loss: 0.005799264078909751\n",
            "Epoch 133/200, Validation Loss: 0.008081765360487403\n"
          ]
        },
        {
          "name": "stderr",
          "output_type": "stream",
          "text": [
            "Epoch 134/200: 100%|██████████| 80/80 [00:01<00:00, 75.40batch/s, loss=0.00577]\n"
          ]
        },
        {
          "name": "stdout",
          "output_type": "stream",
          "text": [
            "Epoch 134/200, Training Loss: 0.005771066852634126\n",
            "Epoch 134/200, Validation Loss: 0.008046237198816928\n"
          ]
        },
        {
          "name": "stderr",
          "output_type": "stream",
          "text": [
            "Epoch 135/200: 100%|██████████| 80/80 [00:01<00:00, 76.44batch/s, loss=0.00574]\n"
          ]
        },
        {
          "name": "stdout",
          "output_type": "stream",
          "text": [
            "Epoch 135/200, Training Loss: 0.005743570953765967\n",
            "Epoch 135/200, Validation Loss: 0.008011899985724998\n"
          ]
        },
        {
          "name": "stderr",
          "output_type": "stream",
          "text": [
            "Epoch 136/200: 100%|██████████| 80/80 [00:01<00:00, 75.69batch/s, loss=0.00572]\n"
          ]
        },
        {
          "name": "stdout",
          "output_type": "stream",
          "text": [
            "Epoch 136/200, Training Loss: 0.005716760993615641\n",
            "Epoch 136/200, Validation Loss: 0.007977794152513113\n"
          ]
        },
        {
          "name": "stderr",
          "output_type": "stream",
          "text": [
            "Epoch 137/200: 100%|██████████| 80/80 [00:01<00:00, 74.45batch/s, loss=0.00569]\n"
          ]
        },
        {
          "name": "stdout",
          "output_type": "stream",
          "text": [
            "Epoch 137/200, Training Loss: 0.0056905659818123734\n",
            "Epoch 137/200, Validation Loss: 0.007944716641909672\n"
          ]
        },
        {
          "name": "stderr",
          "output_type": "stream",
          "text": [
            "Epoch 138/200: 100%|██████████| 80/80 [00:01<00:00, 75.03batch/s, loss=0.00566]\n"
          ]
        },
        {
          "name": "stdout",
          "output_type": "stream",
          "text": [
            "Epoch 138/200, Training Loss: 0.00566494594694605\n",
            "Epoch 138/200, Validation Loss: 0.007910186036633881\n"
          ]
        },
        {
          "name": "stderr",
          "output_type": "stream",
          "text": [
            "Epoch 139/200: 100%|██████████| 80/80 [00:01<00:00, 74.02batch/s, loss=0.00564]\n"
          ]
        },
        {
          "name": "stdout",
          "output_type": "stream",
          "text": [
            "Epoch 139/200, Training Loss: 0.005639885859523245\n",
            "Epoch 139/200, Validation Loss: 0.00787807135046927\n"
          ]
        },
        {
          "name": "stderr",
          "output_type": "stream",
          "text": [
            "Epoch 140/200: 100%|██████████| 80/80 [00:01<00:00, 75.16batch/s, loss=0.00562]\n"
          ]
        },
        {
          "name": "stdout",
          "output_type": "stream",
          "text": [
            "Epoch 140/200, Training Loss: 0.0056153532592664954\n",
            "Epoch 140/200, Validation Loss: 0.007846678270310914\n"
          ]
        },
        {
          "name": "stderr",
          "output_type": "stream",
          "text": [
            "Epoch 141/200: 100%|██████████| 80/80 [00:01<00:00, 76.23batch/s, loss=0.00559]\n"
          ]
        },
        {
          "name": "stdout",
          "output_type": "stream",
          "text": [
            "Epoch 141/200, Training Loss: 0.005591487749705597\n",
            "Epoch 141/200, Validation Loss: 0.007814231286377775\n"
          ]
        },
        {
          "name": "stderr",
          "output_type": "stream",
          "text": [
            "Epoch 142/200: 100%|██████████| 80/80 [00:01<00:00, 74.92batch/s, loss=0.00557]\n"
          ]
        },
        {
          "name": "stdout",
          "output_type": "stream",
          "text": [
            "Epoch 142/200, Training Loss: 0.00556805799619313\n",
            "Epoch 142/200, Validation Loss: 0.007784204603265038\n"
          ]
        },
        {
          "name": "stderr",
          "output_type": "stream",
          "text": [
            "Epoch 143/200: 100%|██████████| 80/80 [00:01<00:00, 74.77batch/s, loss=0.00555]\n"
          ]
        },
        {
          "name": "stdout",
          "output_type": "stream",
          "text": [
            "Epoch 143/200, Training Loss: 0.005545061687317795\n",
            "Epoch 143/200, Validation Loss: 0.007754876520463927\n"
          ]
        },
        {
          "name": "stderr",
          "output_type": "stream",
          "text": [
            "Epoch 144/200: 100%|██████████| 80/80 [00:01<00:00, 74.34batch/s, loss=0.00552]\n"
          ]
        },
        {
          "name": "stdout",
          "output_type": "stream",
          "text": [
            "Epoch 144/200, Training Loss: 0.005522480820286996\n",
            "Epoch 144/200, Validation Loss: 0.007725783684473346\n"
          ]
        },
        {
          "name": "stderr",
          "output_type": "stream",
          "text": [
            "Epoch 145/200: 100%|██████████| 80/80 [00:01<00:00, 73.77batch/s, loss=0.0055] \n"
          ]
        },
        {
          "name": "stdout",
          "output_type": "stream",
          "text": [
            "Epoch 145/200, Training Loss: 0.005500220786036104\n",
            "Epoch 145/200, Validation Loss: 0.00769705678232132\n"
          ]
        },
        {
          "name": "stderr",
          "output_type": "stream",
          "text": [
            "Epoch 146/200: 100%|██████████| 80/80 [00:01<00:00, 73.75batch/s, loss=0.00548]\n"
          ]
        },
        {
          "name": "stdout",
          "output_type": "stream",
          "text": [
            "Epoch 146/200, Training Loss: 0.005478252363796654\n",
            "Epoch 146/200, Validation Loss: 0.007668832780353705\n"
          ]
        },
        {
          "name": "stderr",
          "output_type": "stream",
          "text": [
            "Epoch 147/200: 100%|██████████| 80/80 [00:01<00:00, 72.31batch/s, loss=0.00546]\n"
          ]
        },
        {
          "name": "stdout",
          "output_type": "stream",
          "text": [
            "Epoch 147/200, Training Loss: 0.005456699239613734\n",
            "Epoch 147/200, Validation Loss: 0.007640946321723028\n"
          ]
        },
        {
          "name": "stderr",
          "output_type": "stream",
          "text": [
            "Epoch 148/200: 100%|██████████| 80/80 [00:01<00:00, 72.92batch/s, loss=0.00544]\n"
          ]
        },
        {
          "name": "stdout",
          "output_type": "stream",
          "text": [
            "Epoch 148/200, Training Loss: 0.005435513145793486\n",
            "Epoch 148/200, Validation Loss: 0.0076132782218447555\n"
          ]
        },
        {
          "name": "stderr",
          "output_type": "stream",
          "text": [
            "Epoch 149/200: 100%|██████████| 80/80 [00:01<00:00, 75.25batch/s, loss=0.00541]\n"
          ]
        },
        {
          "name": "stdout",
          "output_type": "stream",
          "text": [
            "Epoch 149/200, Training Loss: 0.005414673819266672\n",
            "Epoch 149/200, Validation Loss: 0.007586260028454941\n"
          ]
        },
        {
          "name": "stderr",
          "output_type": "stream",
          "text": [
            "Epoch 150/200: 100%|██████████| 80/80 [00:01<00:00, 74.99batch/s, loss=0.00539]\n"
          ]
        },
        {
          "name": "stdout",
          "output_type": "stream",
          "text": [
            "Epoch 150/200, Training Loss: 0.0053942005108560094\n",
            "Epoch 150/200, Validation Loss: 0.007559305024388708\n"
          ]
        },
        {
          "name": "stderr",
          "output_type": "stream",
          "text": [
            "Epoch 151/200: 100%|██████████| 80/80 [00:01<00:00, 68.30batch/s, loss=0.00537]\n"
          ]
        },
        {
          "name": "stdout",
          "output_type": "stream",
          "text": [
            "Epoch 151/200, Training Loss: 0.0053742039196284655\n",
            "Epoch 151/200, Validation Loss: 0.007532234409439321\n"
          ]
        },
        {
          "name": "stderr",
          "output_type": "stream",
          "text": [
            "Epoch 152/200: 100%|██████████| 80/80 [00:01<00:00, 76.69batch/s, loss=0.00535]\n"
          ]
        },
        {
          "name": "stdout",
          "output_type": "stream",
          "text": [
            "Epoch 152/200, Training Loss: 0.0053542781192845255\n",
            "Epoch 152/200, Validation Loss: 0.0075060089626851545\n"
          ]
        },
        {
          "name": "stderr",
          "output_type": "stream",
          "text": [
            "Epoch 153/200: 100%|██████████| 80/80 [00:01<00:00, 78.13batch/s, loss=0.00533]\n"
          ]
        },
        {
          "name": "stdout",
          "output_type": "stream",
          "text": [
            "Epoch 153/200, Training Loss: 0.005334716812808716\n",
            "Epoch 153/200, Validation Loss: 0.007480051322288435\n"
          ]
        },
        {
          "name": "stderr",
          "output_type": "stream",
          "text": [
            "Epoch 154/200: 100%|██████████| 80/80 [00:01<00:00, 75.44batch/s, loss=0.00532]\n"
          ]
        },
        {
          "name": "stdout",
          "output_type": "stream",
          "text": [
            "Epoch 154/200, Training Loss: 0.005315442119252312\n",
            "Epoch 154/200, Validation Loss: 0.007454352150140533\n"
          ]
        },
        {
          "name": "stderr",
          "output_type": "stream",
          "text": [
            "Epoch 155/200: 100%|██████████| 80/80 [00:01<00:00, 71.93batch/s, loss=0.0053] \n"
          ]
        },
        {
          "name": "stdout",
          "output_type": "stream",
          "text": [
            "Epoch 155/200, Training Loss: 0.00529638619471432\n",
            "Epoch 155/200, Validation Loss: 0.0074290359792059685\n"
          ]
        },
        {
          "name": "stderr",
          "output_type": "stream",
          "text": [
            "Epoch 156/200: 100%|██████████| 80/80 [00:01<00:00, 73.20batch/s, loss=0.00528]\n"
          ]
        },
        {
          "name": "stdout",
          "output_type": "stream",
          "text": [
            "Epoch 156/200, Training Loss: 0.005277570402087199\n",
            "Epoch 156/200, Validation Loss: 0.007402880905962789\n"
          ]
        },
        {
          "name": "stderr",
          "output_type": "stream",
          "text": [
            "Epoch 157/200: 100%|██████████| 80/80 [00:01<00:00, 75.30batch/s, loss=0.00526]\n"
          ]
        },
        {
          "name": "stdout",
          "output_type": "stream",
          "text": [
            "Epoch 157/200, Training Loss: 0.005259366604620832\n",
            "Epoch 157/200, Validation Loss: 0.007375922360337937\n"
          ]
        },
        {
          "name": "stderr",
          "output_type": "stream",
          "text": [
            "Epoch 158/200: 100%|██████████| 80/80 [00:01<00:00, 75.09batch/s, loss=0.00524]\n"
          ]
        },
        {
          "name": "stdout",
          "output_type": "stream",
          "text": [
            "Epoch 158/200, Training Loss: 0.00524122145423993\n",
            "Epoch 158/200, Validation Loss: 0.007351222086341443\n"
          ]
        },
        {
          "name": "stderr",
          "output_type": "stream",
          "text": [
            "Epoch 159/200: 100%|██████████| 80/80 [00:01<00:00, 75.39batch/s, loss=0.00522]\n"
          ]
        },
        {
          "name": "stdout",
          "output_type": "stream",
          "text": [
            "Epoch 159/200, Training Loss: 0.005223341828721904\n",
            "Epoch 159/200, Validation Loss: 0.007327573332167788\n"
          ]
        },
        {
          "name": "stderr",
          "output_type": "stream",
          "text": [
            "Epoch 160/200: 100%|██████████| 80/80 [00:01<00:00, 75.43batch/s, loss=0.00521]\n"
          ]
        },
        {
          "name": "stdout",
          "output_type": "stream",
          "text": [
            "Epoch 160/200, Training Loss: 0.005206167706206648\n",
            "Epoch 160/200, Validation Loss: 0.007297279303757152\n"
          ]
        },
        {
          "name": "stderr",
          "output_type": "stream",
          "text": [
            "Epoch 161/200: 100%|██████████| 80/80 [00:01<00:00, 74.47batch/s, loss=0.00519]\n"
          ]
        },
        {
          "name": "stdout",
          "output_type": "stream",
          "text": [
            "Epoch 161/200, Training Loss: 0.005188632105058229\n",
            "Epoch 161/200, Validation Loss: 0.007273208395792883\n"
          ]
        },
        {
          "name": "stderr",
          "output_type": "stream",
          "text": [
            "Epoch 162/200: 100%|██████████| 80/80 [00:01<00:00, 72.39batch/s, loss=0.00517]\n"
          ]
        },
        {
          "name": "stdout",
          "output_type": "stream",
          "text": [
            "Epoch 162/200, Training Loss: 0.0051714955846734\n",
            "Epoch 162/200, Validation Loss: 0.0072502515517415865\n"
          ]
        },
        {
          "name": "stderr",
          "output_type": "stream",
          "text": [
            "Epoch 163/200: 100%|██████████| 80/80 [00:01<00:00, 74.19batch/s, loss=0.00515]\n"
          ]
        },
        {
          "name": "stdout",
          "output_type": "stream",
          "text": [
            "Epoch 163/200, Training Loss: 0.005154454615360756\n",
            "Epoch 163/200, Validation Loss: 0.00722712012248114\n"
          ]
        },
        {
          "name": "stderr",
          "output_type": "stream",
          "text": [
            "Epoch 164/200: 100%|██████████| 80/80 [00:01<00:00, 75.26batch/s, loss=0.00514]\n"
          ]
        },
        {
          "name": "stdout",
          "output_type": "stream",
          "text": [
            "Epoch 164/200, Training Loss: 0.005137534646794045\n",
            "Epoch 164/200, Validation Loss: 0.007204458641473193\n"
          ]
        },
        {
          "name": "stderr",
          "output_type": "stream",
          "text": [
            "Epoch 165/200: 100%|██████████| 80/80 [00:01<00:00, 76.64batch/s, loss=0.00512]\n"
          ]
        },
        {
          "name": "stdout",
          "output_type": "stream",
          "text": [
            "Epoch 165/200, Training Loss: 0.00512078688748586\n",
            "Epoch 165/200, Validation Loss: 0.007181703928133586\n"
          ]
        },
        {
          "name": "stderr",
          "output_type": "stream",
          "text": [
            "Epoch 166/200: 100%|██████████| 80/80 [00:01<00:00, 75.70batch/s, loss=0.0051] \n"
          ]
        },
        {
          "name": "stdout",
          "output_type": "stream",
          "text": [
            "Epoch 166/200, Training Loss: 0.005104265309958262\n",
            "Epoch 166/200, Validation Loss: 0.00715948332564602\n"
          ]
        },
        {
          "name": "stderr",
          "output_type": "stream",
          "text": [
            "Epoch 167/200: 100%|██████████| 80/80 [00:01<00:00, 72.93batch/s, loss=0.00509]\n"
          ]
        },
        {
          "name": "stdout",
          "output_type": "stream",
          "text": [
            "Epoch 167/200, Training Loss: 0.005087867894318952\n",
            "Epoch 167/200, Validation Loss: 0.0071376570842051805\n"
          ]
        },
        {
          "name": "stderr",
          "output_type": "stream",
          "text": [
            "Epoch 168/200: 100%|██████████| 80/80 [00:01<00:00, 70.10batch/s, loss=0.00507]\n"
          ]
        },
        {
          "name": "stdout",
          "output_type": "stream",
          "text": [
            "Epoch 168/200, Training Loss: 0.005071703363903625\n",
            "Epoch 168/200, Validation Loss: 0.007115746196973508\n"
          ]
        },
        {
          "name": "stderr",
          "output_type": "stream",
          "text": [
            "Epoch 169/200: 100%|██████████| 80/80 [00:01<00:00, 70.32batch/s, loss=0.00506]\n"
          ]
        },
        {
          "name": "stdout",
          "output_type": "stream",
          "text": [
            "Epoch 169/200, Training Loss: 0.005055684462506572\n",
            "Epoch 169/200, Validation Loss: 0.007094146344722984\n"
          ]
        },
        {
          "name": "stderr",
          "output_type": "stream",
          "text": [
            "Epoch 170/200: 100%|██████████| 80/80 [00:01<00:00, 75.86batch/s, loss=0.00504]\n"
          ]
        },
        {
          "name": "stdout",
          "output_type": "stream",
          "text": [
            "Epoch 170/200, Training Loss: 0.005039830113059711\n",
            "Epoch 170/200, Validation Loss: 0.0070719520858702496\n"
          ]
        },
        {
          "name": "stderr",
          "output_type": "stream",
          "text": [
            "Epoch 171/200: 100%|██████████| 80/80 [00:01<00:00, 74.71batch/s, loss=0.00502]\n"
          ]
        },
        {
          "name": "stdout",
          "output_type": "stream",
          "text": [
            "Epoch 171/200, Training Loss: 0.005024024128416341\n",
            "Epoch 171/200, Validation Loss: 0.0070505637387595355\n"
          ]
        },
        {
          "name": "stderr",
          "output_type": "stream",
          "text": [
            "Epoch 172/200: 100%|██████████| 80/80 [00:01<00:00, 74.40batch/s, loss=0.00501]\n"
          ]
        },
        {
          "name": "stdout",
          "output_type": "stream",
          "text": [
            "Epoch 172/200, Training Loss: 0.0050083464789464\n",
            "Epoch 172/200, Validation Loss: 0.007029706831945079\n"
          ]
        },
        {
          "name": "stderr",
          "output_type": "stream",
          "text": [
            "Epoch 173/200: 100%|██████████| 80/80 [00:01<00:00, 75.08batch/s, loss=0.00499]\n"
          ]
        },
        {
          "name": "stdout",
          "output_type": "stream",
          "text": [
            "Epoch 173/200, Training Loss: 0.004992809130011565\n",
            "Epoch 173/200, Validation Loss: 0.007008724789987763\n"
          ]
        },
        {
          "name": "stderr",
          "output_type": "stream",
          "text": [
            "Epoch 174/200: 100%|██████████| 80/80 [00:01<00:00, 71.32batch/s, loss=0.00498]\n"
          ]
        },
        {
          "name": "stdout",
          "output_type": "stream",
          "text": [
            "Epoch 174/200, Training Loss: 0.004977585840749536\n",
            "Epoch 174/200, Validation Loss: 0.006987597677487936\n"
          ]
        },
        {
          "name": "stderr",
          "output_type": "stream",
          "text": [
            "Epoch 175/200: 100%|██████████| 80/80 [00:01<00:00, 76.56batch/s, loss=0.00496]\n"
          ]
        },
        {
          "name": "stdout",
          "output_type": "stream",
          "text": [
            "Epoch 175/200, Training Loss: 0.004962513647800803\n",
            "Epoch 175/200, Validation Loss: 0.00696742031666224\n"
          ]
        },
        {
          "name": "stderr",
          "output_type": "stream",
          "text": [
            "Epoch 176/200: 100%|██████████| 80/80 [00:01<00:00, 76.96batch/s, loss=0.00495]\n"
          ]
        },
        {
          "name": "stdout",
          "output_type": "stream",
          "text": [
            "Epoch 176/200, Training Loss: 0.004947581570054366\n",
            "Epoch 176/200, Validation Loss: 0.006947125382152386\n"
          ]
        },
        {
          "name": "stderr",
          "output_type": "stream",
          "text": [
            "Epoch 177/200: 100%|██████████| 80/80 [00:01<00:00, 76.28batch/s, loss=0.00493]\n"
          ]
        },
        {
          "name": "stdout",
          "output_type": "stream",
          "text": [
            "Epoch 177/200, Training Loss: 0.0049327924712824125\n",
            "Epoch 177/200, Validation Loss: 0.006927100546597873\n"
          ]
        },
        {
          "name": "stderr",
          "output_type": "stream",
          "text": [
            "Epoch 178/200: 100%|██████████| 80/80 [00:01<00:00, 73.84batch/s, loss=0.00492]\n"
          ]
        },
        {
          "name": "stdout",
          "output_type": "stream",
          "text": [
            "Epoch 178/200, Training Loss: 0.0049180916895644675\n",
            "Epoch 178/200, Validation Loss: 0.006907461590464932\n"
          ]
        },
        {
          "name": "stderr",
          "output_type": "stream",
          "text": [
            "Epoch 179/200: 100%|██████████| 80/80 [00:01<00:00, 74.35batch/s, loss=0.0049] \n"
          ]
        },
        {
          "name": "stdout",
          "output_type": "stream",
          "text": [
            "Epoch 179/200, Training Loss: 0.004903461323424949\n",
            "Epoch 179/200, Validation Loss: 0.006887593305996396\n"
          ]
        },
        {
          "name": "stderr",
          "output_type": "stream",
          "text": [
            "Epoch 180/200: 100%|██████████| 80/80 [00:01<00:00, 73.85batch/s, loss=0.00489]\n"
          ]
        },
        {
          "name": "stdout",
          "output_type": "stream",
          "text": [
            "Epoch 180/200, Training Loss: 0.004888976243846913\n",
            "Epoch 180/200, Validation Loss: 0.006868100409696533\n"
          ]
        },
        {
          "name": "stderr",
          "output_type": "stream",
          "text": [
            "Epoch 181/200: 100%|██████████| 80/80 [00:01<00:00, 75.30batch/s, loss=0.00487]\n"
          ]
        },
        {
          "name": "stdout",
          "output_type": "stream",
          "text": [
            "Epoch 181/200, Training Loss: 0.0048746459420887615\n",
            "Epoch 181/200, Validation Loss: 0.006848823437504252\n"
          ]
        },
        {
          "name": "stderr",
          "output_type": "stream",
          "text": [
            "Epoch 182/200: 100%|██████████| 80/80 [00:01<00:00, 74.54batch/s, loss=0.00486]\n"
          ]
        },
        {
          "name": "stdout",
          "output_type": "stream",
          "text": [
            "Epoch 182/200, Training Loss: 0.004860421618623365\n",
            "Epoch 182/200, Validation Loss: 0.006829510845071858\n"
          ]
        },
        {
          "name": "stderr",
          "output_type": "stream",
          "text": [
            "Epoch 183/200: 100%|██████████| 80/80 [00:01<00:00, 74.20batch/s, loss=0.00485]\n"
          ]
        },
        {
          "name": "stdout",
          "output_type": "stream",
          "text": [
            "Epoch 183/200, Training Loss: 0.00484645084395828\n",
            "Epoch 183/200, Validation Loss: 0.006809081269012674\n"
          ]
        },
        {
          "name": "stderr",
          "output_type": "stream",
          "text": [
            "Epoch 184/200: 100%|██████████| 80/80 [00:01<00:00, 75.58batch/s, loss=0.00483]\n"
          ]
        },
        {
          "name": "stdout",
          "output_type": "stream",
          "text": [
            "Epoch 184/200, Training Loss: 0.004832562857980794\n",
            "Epoch 184/200, Validation Loss: 0.006790014920167717\n"
          ]
        },
        {
          "name": "stderr",
          "output_type": "stream",
          "text": [
            "Epoch 185/200: 100%|██████████| 80/80 [00:01<00:00, 77.00batch/s, loss=0.00482]\n"
          ]
        },
        {
          "name": "stdout",
          "output_type": "stream",
          "text": [
            "Epoch 185/200, Training Loss: 0.004818787787422029\n",
            "Epoch 185/200, Validation Loss: 0.006770885133829414\n"
          ]
        },
        {
          "name": "stderr",
          "output_type": "stream",
          "text": [
            "Epoch 186/200: 100%|██████████| 80/80 [00:01<00:00, 73.72batch/s, loss=0.00481]\n"
          ]
        },
        {
          "name": "stdout",
          "output_type": "stream",
          "text": [
            "Epoch 186/200, Training Loss: 0.00480514598780491\n",
            "Epoch 186/200, Validation Loss: 0.006752200664997755\n"
          ]
        },
        {
          "name": "stderr",
          "output_type": "stream",
          "text": [
            "Epoch 187/200: 100%|██████████| 80/80 [00:01<00:00, 71.92batch/s, loss=0.00479]\n"
          ]
        },
        {
          "name": "stdout",
          "output_type": "stream",
          "text": [
            "Epoch 187/200, Training Loss: 0.004791589091746059\n",
            "Epoch 187/200, Validation Loss: 0.006733388530409764\n"
          ]
        },
        {
          "name": "stderr",
          "output_type": "stream",
          "text": [
            "Epoch 188/200: 100%|██████████| 80/80 [00:01<00:00, 71.25batch/s, loss=0.00478]\n"
          ]
        },
        {
          "name": "stdout",
          "output_type": "stream",
          "text": [
            "Epoch 188/200, Training Loss: 0.004778156222238815\n",
            "Epoch 188/200, Validation Loss: 0.006715061984565941\n"
          ]
        },
        {
          "name": "stderr",
          "output_type": "stream",
          "text": [
            "Epoch 189/200: 100%|██████████| 80/80 [00:01<00:00, 73.60batch/s, loss=0.00476]\n"
          ]
        },
        {
          "name": "stdout",
          "output_type": "stream",
          "text": [
            "Epoch 189/200, Training Loss: 0.004764784347211224\n",
            "Epoch 189/200, Validation Loss: 0.006696553668792699\n"
          ]
        },
        {
          "name": "stderr",
          "output_type": "stream",
          "text": [
            "Epoch 190/200: 100%|██████████| 80/80 [00:01<00:00, 74.05batch/s, loss=0.00475]\n"
          ]
        },
        {
          "name": "stdout",
          "output_type": "stream",
          "text": [
            "Epoch 190/200, Training Loss: 0.004751533763849658\n",
            "Epoch 190/200, Validation Loss: 0.006678427121476181\n"
          ]
        },
        {
          "name": "stderr",
          "output_type": "stream",
          "text": [
            "Epoch 191/200: 100%|██████████| 80/80 [00:01<00:00, 76.42batch/s, loss=0.00474]\n"
          ]
        },
        {
          "name": "stdout",
          "output_type": "stream",
          "text": [
            "Epoch 191/200, Training Loss: 0.004738370671708193\n",
            "Epoch 191/200, Validation Loss: 0.00666015215095562\n"
          ]
        },
        {
          "name": "stderr",
          "output_type": "stream",
          "text": [
            "Epoch 192/200: 100%|██████████| 80/80 [00:01<00:00, 71.75batch/s, loss=0.00473]\n"
          ]
        },
        {
          "name": "stdout",
          "output_type": "stream",
          "text": [
            "Epoch 192/200, Training Loss: 0.004725368172313025\n",
            "Epoch 192/200, Validation Loss: 0.006641935496534412\n"
          ]
        },
        {
          "name": "stderr",
          "output_type": "stream",
          "text": [
            "Epoch 193/200: 100%|██████████| 80/80 [00:01<00:00, 72.20batch/s, loss=0.00471]\n"
          ]
        },
        {
          "name": "stdout",
          "output_type": "stream",
          "text": [
            "Epoch 193/200, Training Loss: 0.004712415623252684\n",
            "Epoch 193/200, Validation Loss: 0.006623997880889346\n"
          ]
        },
        {
          "name": "stderr",
          "output_type": "stream",
          "text": [
            "Epoch 194/200: 100%|██████████| 80/80 [00:01<00:00, 76.17batch/s, loss=0.0047] \n"
          ]
        },
        {
          "name": "stdout",
          "output_type": "stream",
          "text": [
            "Epoch 194/200, Training Loss: 0.0046994796744970185\n",
            "Epoch 194/200, Validation Loss: 0.006605432387774852\n"
          ]
        },
        {
          "name": "stderr",
          "output_type": "stream",
          "text": [
            "Epoch 195/200: 100%|██████████| 80/80 [00:01<00:00, 74.24batch/s, loss=0.00469]\n"
          ]
        },
        {
          "name": "stdout",
          "output_type": "stream",
          "text": [
            "Epoch 195/200, Training Loss: 0.004686589424982073\n",
            "Epoch 195/200, Validation Loss: 0.006587367525956268\n"
          ]
        },
        {
          "name": "stderr",
          "output_type": "stream",
          "text": [
            "Epoch 196/200: 100%|██████████| 80/80 [00:01<00:00, 73.69batch/s, loss=0.00467]\n"
          ]
        },
        {
          "name": "stdout",
          "output_type": "stream",
          "text": [
            "Epoch 196/200, Training Loss: 0.004673755582161961\n",
            "Epoch 196/200, Validation Loss: 0.0065696188090073925\n"
          ]
        },
        {
          "name": "stderr",
          "output_type": "stream",
          "text": [
            "Epoch 197/200: 100%|██████████| 80/80 [00:01<00:00, 73.25batch/s, loss=0.00466]\n"
          ]
        },
        {
          "name": "stdout",
          "output_type": "stream",
          "text": [
            "Epoch 197/200, Training Loss: 0.0046610676281038325\n",
            "Epoch 197/200, Validation Loss: 0.006552245209253126\n"
          ]
        },
        {
          "name": "stderr",
          "output_type": "stream",
          "text": [
            "Epoch 198/200: 100%|██████████| 80/80 [00:01<00:00, 73.69batch/s, loss=0.00465]\n"
          ]
        },
        {
          "name": "stdout",
          "output_type": "stream",
          "text": [
            "Epoch 198/200, Training Loss: 0.004648416444938647\n",
            "Epoch 198/200, Validation Loss: 0.006534414285852232\n"
          ]
        },
        {
          "name": "stderr",
          "output_type": "stream",
          "text": [
            "Epoch 199/200: 100%|██████████| 80/80 [00:01<00:00, 73.80batch/s, loss=0.00464]\n"
          ]
        },
        {
          "name": "stdout",
          "output_type": "stream",
          "text": [
            "Epoch 199/200, Training Loss: 0.004635931930891314\n",
            "Epoch 199/200, Validation Loss: 0.006517481578952655\n"
          ]
        },
        {
          "name": "stderr",
          "output_type": "stream",
          "text": [
            "Epoch 200/200: 100%|██████████| 80/80 [00:01<00:00, 74.41batch/s, loss=0.00462]\n"
          ]
        },
        {
          "name": "stdout",
          "output_type": "stream",
          "text": [
            "Epoch 200/200, Training Loss: 0.004623638880855058\n",
            "Epoch 200/200, Validation Loss: 0.0065004693739193296\n"
          ]
        },
        {
          "data": {
            "image/png": "[encoded data removed]",
            "text/plain": [
              "<Figure size 640x480 with 1 Axes>"
            ]
          },
          "metadata": {},
          "output_type": "display_data"
        }
      ],
      "source": [
        "### START CODE HERE ###\n",
        "# Change the structure and parameters to train your own model (Can add RNN layer here)\n",
        "# Reshape X_train and X_val to fit the RNN layer input shape.\n",
        "X_train = X_train.reshape(X_train.shape[0], X_train.shape[1], 1)\n",
        "X_val = X_val.reshape(X_val.shape[0], X_val.shape[1], 1)\n",
        "y_val = y_val.reshape(-1, 1)\n",
        "y_train = y_train.reshape(-1, 1)\n",
        "\n",
        "# Construct the model & Set the parameters.\n",
        "input_size = 1  # Number of input features (1 for single sine wave value)\n",
        "rnn_units = 64  # Number of units in the RNN layer  # 32\n",
        "dense_units = 32  # Number of units in the Dense layer  # 16\n",
        "output_size = 1  # Number of output classes (1 for single sine wave value)\n",
        "\n",
        "model = Model()\n",
        "model.add(RNN(input_size, rnn_units))\n",
        "model.add(Dense(rnn_units, dense_units))\n",
        "model.add(Activation(\"relu\", None))\n",
        "model.add(Dense(dense_units, output_size))\n",
        "model.add(Activation(\"linear\", None))\n",
        "\n",
        "# Train the model\n",
        "model.train(X_train, y_train, X_val, y_val, epochs=200, learning_rate=0.01, batch_size = 16, loss_function='mse')  # 16\n",
        "### END CODE HERE ###\n",
        "\n",
        "# Plot the training and validation losses\n",
        "model.plot_losses()"
      ]
    },
    {
      "cell_type": "markdown",
      "metadata": {
        "id": "DafczhXYA0fJ"
      },
      "source": [
        "#### Predict testing data & Save the answer (For RNN model)\n",
        "Remember to submit your prediction to Kaggle!"
      ]
    },
    {
      "cell_type": "code",
      "execution_count": 67,
      "metadata": {
        "id": "kVkkIBwd-CWf"
      },
      "outputs": [
        {
          "name": "stdout",
          "output_type": "stream",
          "text": [
            "Prediction data has been saved.\n"
          ]
        }
      ],
      "source": [
        "### START CODE HERE ###\n",
        "# Read the X_test.csv file into a DataFrame\n",
        "# Change the path if needed\n",
        "X_test_df = pd.read_csv('Sinewave/X_test.csv')\n",
        "### END CODE HERE ###\n",
        "\n",
        "\n",
        "# Do not modify this part to get the correct output format!!\n",
        "# Drop the 'Id' column if it exists\n",
        "if 'Id' in X_test_df.columns:\n",
        "    X_test_df = X_test_df.drop(columns=['Id'])\n",
        "\n",
        "# Convert the DataFrame to a numpy array\n",
        "X_test = X_test_df.values\n",
        "X_test = X_test.reshape((X_test.shape[0], X_test.shape[1], 1))  # reshape the X_test to fit RNN layer input shape.\n",
        "y_pred = model.predict(X_test)\n",
        "\n",
        "\n",
        "# Convert the list of predictions to a numpy array\n",
        "y_pred = np.array(y_pred)\n",
        "y_pred_df = pd.DataFrame(y_pred, columns=['answer'])\n",
        "y_pred_df.insert(0, 'Id', range(1, 1 + len(y_pred_df)))\n",
        "y_pred_df.to_csv('y_pred_basic.csv', index=False)\n",
        "\n",
        "print('Prediction data has been saved.')"
      ]
    },
    {
      "cell_type": "markdown",
      "metadata": {
        "id": "NNRANy31n8aW"
      },
      "source": [
        "# Advance part (35%)\n",
        "\n",
        "\n",
        "\n",
        "\n"
      ]
    },
    {
      "cell_type": "markdown",
      "metadata": {
        "id": "Nz7MTnsUFcyP"
      },
      "source": [
        "## Accelerometer and Gyroscope dataset\n",
        "- ⚠⚠ You need to download the training & testing data from Kaggle. ⚠⚠ (Put it into the directory name `Activity data`, or your need to change the path in template.)\n",
        "- In this dataset, we provide the time-series Accelerometer and Gyroscope data each with 3-axial (x, y, z) (total 6 channels).\n",
        "- We classified the activity into 3 different classes:\n",
        "    Activity 1, 2, 3\\\n",
        "    You have to build a RNN model using these time-series data to predict the activity class.\n",
        "- Steps:\n",
        "    1. Load the provided `X_train.npy`, `y_train.npy` and `X_test.npy` and split the part of training data to validation.\\\n",
        "    Note: `y_train.npy` is already one-hot encoded.\n",
        "    2. Visualize the `X_train.npy`.\n",
        "    3. One-hot encode the `y_train.npy` for three classes: Activity 1, Activity 2, Activity 3.\n",
        "    4. Build your own RNN model and train it.\n",
        "    5. Predict with the `X_test.npy` and generate `y_test.csv` then **submit it to Kaggle**!\n",
        "- We have set 3 baselines on public score:\n",
        "    * Accuracy >= 0.65 -> 10 points\n",
        "    * Accuracy >= 0.7  -> 20 points\n",
        "    * Accuracy >= 0.75 -> 25 points\n",
        "- Kaggle link: https://www.kaggle.com/t/95e0b11f63e74566802b0dea5ec4f1b4\n"
      ]
    },
    {
      "cell_type": "markdown",
      "metadata": {
        "id": "AYo4WYfMHws_"
      },
      "source": [
        "### 1. Load training & testing data\n",
        "Load the training and testing data, then split the training data into a validation set using your preferred ratio."
      ]
    },
    {
      "cell_type": "code",
      "execution_count": 122,
      "metadata": {
        "id": "kmP1Uo4PlIwV"
      },
      "outputs": [
        {
          "name": "stdout",
          "output_type": "stream",
          "text": [
            "X_train shape: (7352, 128, 6)\n",
            "y_train shape: (7352, 1)\n",
            "X_test shape: (2947, 128, 6)\n"
          ]
        }
      ],
      "source": [
        "### START CODE HERE ###\n",
        "# Load X_train, y_train and X_test data\n",
        "# Change the path if needed\n",
        "y_train = np.load('Activity data/y_train.npy')\n",
        "X_train = np.load('Activity data/X_train.npy')\n",
        "X_test = np.load('Activity data/X_test.npy')\n",
        "print(f\"X_train shape: {X_train.shape}\")\n",
        "print(f\"y_train shape: {y_train.shape}\")\n",
        "print(f\"X_test shape: {X_test.shape}\")\n",
        "### END CODE HERE ###\n",
        "\n",
        "### START CODE HERE ###\n",
        "# Define the validation ratio in your preferred way\n",
        "# 1. One-hot encode y_train. (3 classes)\n",
        "# 2. Split the X_train, y_train data into train & validation set.\n",
        "validation_ratio = 0.15\n",
        "\n",
        "y_train = np.eye(3)[y_train.reshape(-1)]\n",
        "\n",
        "split_idx = int((1 - validation_ratio) * X_train.shape[0])\n",
        "X_train, X_val = X_train[:split_idx], X_train[split_idx:]\n",
        "y_train, y_val = y_train[:split_idx], y_train[split_idx:]\n",
        "\n",
        "# print(f\"Training data shape: {X_train.shape}, {y_train.shape}\")\n",
        "# print(f\"Validation data shape: {X_val.shape}, {y_val.shape}\")\n",
        "### END CODE HERE ###\n",
        "\n"
      ]
    },
    {
      "cell_type": "markdown",
      "metadata": {
        "id": "h0u30s9HLcIL"
      },
      "source": [
        "### 2. Visualize the training data"
      ]
    },
    {
      "cell_type": "code",
      "execution_count": 104,
      "metadata": {
        "id": "XeD88dTg6oSI"
      },
      "outputs": [
        {
          "data": {
            "image/png": "[encoded data removed]",
            "text/plain": [
              "<Figure size 1200x600 with 1 Axes>"
            ]
          },
          "metadata": {},
          "output_type": "display_data"
        },
        {
          "data": {
            "image/png": "[encoded data removed]",
            "text/plain": [
              "<Figure size 1200x600 with 1 Axes>"
            ]
          },
          "metadata": {},
          "output_type": "display_data"
        },
        {
          "data": {
            "image/png": "[encoded data removed]",
            "text/plain": [
              "<Figure size 1200x600 with 1 Axes>"
            ]
          },
          "metadata": {},
          "output_type": "display_data"
        }
      ],
      "source": [
        "# Function to plot a single sample\n",
        "def plot_sample(X, y, sample_index):\n",
        "    plt.figure(figsize=(12, 6))\n",
        "    plt.plot(X[sample_index, :, 0], label='Acc X')\n",
        "    plt.plot(X[sample_index, :, 1], label='Acc Y')\n",
        "    plt.plot(X[sample_index, :, 2], label='Acc Z')\n",
        "    plt.plot(X[sample_index, :, 3], label='Gyro X')\n",
        "    plt.plot(X[sample_index, :, 4], label='Gyro Y')\n",
        "    plt.plot(X[sample_index, :, 5], label='Gyro Z')\n",
        "    plt.title(f'Sample {sample_index} - Activity: {np.argmax(y[sample_index])}')\n",
        "    plt.xlabel('Time Step')\n",
        "    plt.ylabel('Sensor Value')\n",
        "    plt.legend()\n",
        "    plt.show()\n",
        "\n",
        "### START CODE HERE ###\n",
        "# Plot a few samples\n",
        "for i in range(3):              # Change the range to visualize more samples\n",
        "    plot_sample(X_train, y_train, i)\n",
        " ### END CODE HERE ###"
      ]
    },
    {
      "cell_type": "markdown",
      "metadata": {
        "id": "doO7vRXk2t1w"
      },
      "source": [
        "### 3. Contruct and train the model"
      ]
    },
    {
      "cell_type": "code",
      "execution_count": 208,
      "metadata": {
        "id": "0nRlh-1qSsi2"
      },
      "outputs": [
        {
          "name": "stderr",
          "output_type": "stream",
          "text": [
            "Epoch 1/35: 100%|██████████| 195/195 [00:09<00:00, 21.25batch/s, loss=0.991]\n"
          ]
        },
        {
          "name": "stdout",
          "output_type": "stream",
          "text": [
            "Epoch 1/35, Training Loss: 0.9902576823555949\n",
            "Epoch 1/35, Validation Loss: 0.9280518836564607\n"
          ]
        },
        {
          "name": "stderr",
          "output_type": "stream",
          "text": [
            "Epoch 2/35: 100%|██████████| 195/195 [00:09<00:00, 21.33batch/s, loss=0.878]\n"
          ]
        },
        {
          "name": "stdout",
          "output_type": "stream",
          "text": [
            "Epoch 2/35, Training Loss: 0.8763723544978469\n",
            "Epoch 2/35, Validation Loss: 0.7362351202623791\n"
          ]
        },
        {
          "name": "stderr",
          "output_type": "stream",
          "text": [
            "Epoch 3/35: 100%|██████████| 195/195 [00:09<00:00, 21.64batch/s, loss=0.634]\n"
          ]
        },
        {
          "name": "stdout",
          "output_type": "stream",
          "text": [
            "Epoch 3/35, Training Loss: 0.6335467194450634\n",
            "Epoch 3/35, Validation Loss: 0.5666024937408317\n"
          ]
        },
        {
          "name": "stderr",
          "output_type": "stream",
          "text": [
            "Epoch 4/35: 100%|██████████| 195/195 [00:08<00:00, 21.71batch/s, loss=0.543]\n"
          ]
        },
        {
          "name": "stdout",
          "output_type": "stream",
          "text": [
            "Epoch 4/35, Training Loss: 0.542425854316461\n",
            "Epoch 4/35, Validation Loss: 0.49098989122673914\n"
          ]
        },
        {
          "name": "stderr",
          "output_type": "stream",
          "text": [
            "Epoch 5/35: 100%|██████████| 195/195 [00:09<00:00, 21.62batch/s, loss=0.485]\n"
          ]
        },
        {
          "name": "stdout",
          "output_type": "stream",
          "text": [
            "Epoch 5/35, Training Loss: 0.48474235503191526\n",
            "Epoch 5/35, Validation Loss: 0.451904095702531\n"
          ]
        },
        {
          "name": "stderr",
          "output_type": "stream",
          "text": [
            "Epoch 6/35: 100%|██████████| 195/195 [00:08<00:00, 22.10batch/s, loss=0.461]\n"
          ]
        },
        {
          "name": "stdout",
          "output_type": "stream",
          "text": [
            "Epoch 6/35, Training Loss: 0.46161991960434245\n",
            "Epoch 6/35, Validation Loss: 0.4478378998656823\n"
          ]
        },
        {
          "name": "stderr",
          "output_type": "stream",
          "text": [
            "Epoch 7/35: 100%|██████████| 195/195 [00:09<00:00, 21.35batch/s, loss=0.45] \n"
          ]
        },
        {
          "name": "stdout",
          "output_type": "stream",
          "text": [
            "Epoch 7/35, Training Loss: 0.45083046983787434\n",
            "Epoch 7/35, Validation Loss: 0.4432484175985493\n"
          ]
        },
        {
          "name": "stderr",
          "output_type": "stream",
          "text": [
            "Epoch 8/35: 100%|██████████| 195/195 [00:09<00:00, 21.53batch/s, loss=0.44] \n"
          ]
        },
        {
          "name": "stdout",
          "output_type": "stream",
          "text": [
            "Epoch 8/35, Training Loss: 0.44031090245742155\n",
            "Epoch 8/35, Validation Loss: 0.426894782697858\n"
          ]
        },
        {
          "name": "stderr",
          "output_type": "stream",
          "text": [
            "Epoch 9/35: 100%|██████████| 195/195 [00:08<00:00, 21.85batch/s, loss=0.427]\n"
          ]
        },
        {
          "name": "stdout",
          "output_type": "stream",
          "text": [
            "Epoch 9/35, Training Loss: 0.4270680174101885\n",
            "Epoch 9/35, Validation Loss: 0.40940900295282595\n"
          ]
        },
        {
          "name": "stderr",
          "output_type": "stream",
          "text": [
            "Epoch 10/35: 100%|██████████| 195/195 [00:08<00:00, 21.73batch/s, loss=0.413]\n"
          ]
        },
        {
          "name": "stdout",
          "output_type": "stream",
          "text": [
            "Epoch 10/35, Training Loss: 0.4127829778021458\n",
            "Epoch 10/35, Validation Loss: 0.3948805237247023\n"
          ]
        },
        {
          "name": "stderr",
          "output_type": "stream",
          "text": [
            "Epoch 11/35: 100%|██████████| 195/195 [00:08<00:00, 21.74batch/s, loss=0.4]  \n"
          ]
        },
        {
          "name": "stdout",
          "output_type": "stream",
          "text": [
            "Epoch 11/35, Training Loss: 0.39913001321583363\n",
            "Epoch 11/35, Validation Loss: 0.38551508233128096\n"
          ]
        },
        {
          "name": "stderr",
          "output_type": "stream",
          "text": [
            "Epoch 12/35: 100%|██████████| 195/195 [00:08<00:00, 22.07batch/s, loss=0.388]\n"
          ]
        },
        {
          "name": "stdout",
          "output_type": "stream",
          "text": [
            "Epoch 12/35, Training Loss: 0.3873071825858955\n",
            "Epoch 12/35, Validation Loss: 0.3758984801259725\n"
          ]
        },
        {
          "name": "stderr",
          "output_type": "stream",
          "text": [
            "Epoch 13/35: 100%|██████████| 195/195 [00:08<00:00, 21.72batch/s, loss=0.378]\n"
          ]
        },
        {
          "name": "stdout",
          "output_type": "stream",
          "text": [
            "Epoch 13/35, Training Loss: 0.37763796788657084\n",
            "Epoch 13/35, Validation Loss: 0.3670903010489425\n"
          ]
        },
        {
          "name": "stderr",
          "output_type": "stream",
          "text": [
            "Epoch 14/35: 100%|██████████| 195/195 [00:08<00:00, 21.85batch/s, loss=0.37] \n"
          ]
        },
        {
          "name": "stdout",
          "output_type": "stream",
          "text": [
            "Epoch 14/35, Training Loss: 0.36968952841823177\n",
            "Epoch 14/35, Validation Loss: 0.36021999627680673\n"
          ]
        },
        {
          "name": "stderr",
          "output_type": "stream",
          "text": [
            "Epoch 15/35: 100%|██████████| 195/195 [00:08<00:00, 21.90batch/s, loss=0.363]\n"
          ]
        },
        {
          "name": "stdout",
          "output_type": "stream",
          "text": [
            "Epoch 15/35, Training Loss: 0.3627568696573218\n",
            "Epoch 15/35, Validation Loss: 0.353807766923298\n"
          ]
        },
        {
          "name": "stderr",
          "output_type": "stream",
          "text": [
            "Epoch 16/35: 100%|██████████| 195/195 [00:08<00:00, 22.14batch/s, loss=0.358]\n"
          ]
        },
        {
          "name": "stdout",
          "output_type": "stream",
          "text": [
            "Epoch 16/35, Training Loss: 0.3573681476966131\n",
            "Epoch 16/35, Validation Loss: 0.34752117263060167\n"
          ]
        },
        {
          "name": "stderr",
          "output_type": "stream",
          "text": [
            "Epoch 17/35: 100%|██████████| 195/195 [00:09<00:00, 21.51batch/s, loss=0.353]\n"
          ]
        },
        {
          "name": "stdout",
          "output_type": "stream",
          "text": [
            "Epoch 17/35, Training Loss: 0.35295832846721475\n",
            "Epoch 17/35, Validation Loss: 0.3378435118007974\n"
          ]
        },
        {
          "name": "stderr",
          "output_type": "stream",
          "text": [
            "Epoch 18/35: 100%|██████████| 195/195 [00:08<00:00, 22.06batch/s, loss=0.35] \n"
          ]
        },
        {
          "name": "stdout",
          "output_type": "stream",
          "text": [
            "Epoch 18/35, Training Loss: 0.34865789671852176\n",
            "Epoch 18/35, Validation Loss: 0.3679289983836031\n"
          ]
        },
        {
          "name": "stderr",
          "output_type": "stream",
          "text": [
            "Epoch 19/35: 100%|██████████| 195/195 [00:08<00:00, 21.74batch/s, loss=0.344]\n"
          ]
        },
        {
          "name": "stdout",
          "output_type": "stream",
          "text": [
            "Epoch 19/35, Training Loss: 0.34291451611914586\n",
            "Epoch 19/35, Validation Loss: 0.34261286442226224\n"
          ]
        },
        {
          "name": "stderr",
          "output_type": "stream",
          "text": [
            "Epoch 20/35: 100%|██████████| 195/195 [00:08<00:00, 21.77batch/s, loss=0.336]\n"
          ]
        },
        {
          "name": "stdout",
          "output_type": "stream",
          "text": [
            "Epoch 20/35, Training Loss: 0.33487421994154015\n",
            "Epoch 20/35, Validation Loss: 0.3392861845855859\n"
          ]
        },
        {
          "name": "stderr",
          "output_type": "stream",
          "text": [
            "Epoch 21/35: 100%|██████████| 195/195 [00:09<00:00, 21.21batch/s, loss=0.328]\n"
          ]
        },
        {
          "name": "stdout",
          "output_type": "stream",
          "text": [
            "Epoch 21/35, Training Loss: 0.32714600471508887\n",
            "Epoch 21/35, Validation Loss: 0.3317417238951013\n"
          ]
        },
        {
          "name": "stderr",
          "output_type": "stream",
          "text": [
            "Epoch 22/35: 100%|██████████| 195/195 [00:08<00:00, 22.38batch/s, loss=0.322]\n"
          ]
        },
        {
          "name": "stdout",
          "output_type": "stream",
          "text": [
            "Epoch 22/35, Training Loss: 0.32149748017089286\n",
            "Epoch 22/35, Validation Loss: 0.31674081126175774\n"
          ]
        },
        {
          "name": "stderr",
          "output_type": "stream",
          "text": [
            "Epoch 23/35: 100%|██████████| 195/195 [00:08<00:00, 22.09batch/s, loss=0.318]\n"
          ]
        },
        {
          "name": "stdout",
          "output_type": "stream",
          "text": [
            "Epoch 23/35, Training Loss: 0.31705286788967907\n",
            "Epoch 23/35, Validation Loss: 0.31740932622803253\n"
          ]
        },
        {
          "name": "stderr",
          "output_type": "stream",
          "text": [
            "Epoch 24/35: 100%|██████████| 195/195 [00:08<00:00, 21.73batch/s, loss=0.313]\n"
          ]
        },
        {
          "name": "stdout",
          "output_type": "stream",
          "text": [
            "Epoch 24/35, Training Loss: 0.31251545673485576\n",
            "Epoch 24/35, Validation Loss: 0.3143378085271218\n"
          ]
        },
        {
          "name": "stderr",
          "output_type": "stream",
          "text": [
            "Epoch 25/35: 100%|██████████| 195/195 [00:08<00:00, 22.01batch/s, loss=0.311]\n"
          ]
        },
        {
          "name": "stdout",
          "output_type": "stream",
          "text": [
            "Epoch 25/35, Training Loss: 0.3100292280300525\n",
            "Epoch 25/35, Validation Loss: 0.3108624015114656\n"
          ]
        },
        {
          "name": "stderr",
          "output_type": "stream",
          "text": [
            "Epoch 26/35: 100%|██████████| 195/195 [00:08<00:00, 21.94batch/s, loss=0.337]\n"
          ]
        },
        {
          "name": "stdout",
          "output_type": "stream",
          "text": [
            "Epoch 26/35, Training Loss: 0.33600239283754807\n",
            "Epoch 26/35, Validation Loss: 0.34234436938066515\n"
          ]
        },
        {
          "name": "stderr",
          "output_type": "stream",
          "text": [
            "Epoch 27/35: 100%|██████████| 195/195 [00:08<00:00, 21.96batch/s, loss=0.322]\n"
          ]
        },
        {
          "name": "stdout",
          "output_type": "stream",
          "text": [
            "Epoch 27/35, Training Loss: 0.3206902435454712\n",
            "Epoch 27/35, Validation Loss: 0.30601541847886315\n"
          ]
        },
        {
          "name": "stderr",
          "output_type": "stream",
          "text": [
            "Epoch 28/35: 100%|██████████| 195/195 [00:08<00:00, 21.67batch/s, loss=0.307]\n"
          ]
        },
        {
          "name": "stdout",
          "output_type": "stream",
          "text": [
            "Epoch 28/35, Training Loss: 0.3058636428871741\n",
            "Epoch 28/35, Validation Loss: 0.29942616727796423\n"
          ]
        },
        {
          "name": "stderr",
          "output_type": "stream",
          "text": [
            "Epoch 29/35: 100%|██████████| 195/195 [00:08<00:00, 21.74batch/s, loss=0.3]  \n"
          ]
        },
        {
          "name": "stdout",
          "output_type": "stream",
          "text": [
            "Epoch 29/35, Training Loss: 0.2993177427826912\n",
            "Epoch 29/35, Validation Loss: 0.29185489175480944\n"
          ]
        },
        {
          "name": "stderr",
          "output_type": "stream",
          "text": [
            "Epoch 30/35: 100%|██████████| 195/195 [00:08<00:00, 21.90batch/s, loss=0.295]\n"
          ]
        },
        {
          "name": "stdout",
          "output_type": "stream",
          "text": [
            "Epoch 30/35, Training Loss: 0.29411896105805735\n",
            "Epoch 30/35, Validation Loss: 0.29180751884707234\n"
          ]
        },
        {
          "name": "stderr",
          "output_type": "stream",
          "text": [
            "Epoch 31/35: 100%|██████████| 195/195 [00:08<00:00, 21.80batch/s, loss=0.287]\n"
          ]
        },
        {
          "name": "stdout",
          "output_type": "stream",
          "text": [
            "Epoch 31/35, Training Loss: 0.286379376631479\n",
            "Epoch 31/35, Validation Loss: 0.283365625187707\n"
          ]
        },
        {
          "name": "stderr",
          "output_type": "stream",
          "text": [
            "Epoch 32/35: 100%|██████████| 195/195 [00:08<00:00, 22.08batch/s, loss=0.28] \n"
          ]
        },
        {
          "name": "stdout",
          "output_type": "stream",
          "text": [
            "Epoch 32/35, Training Loss: 0.2788163049068588\n",
            "Epoch 32/35, Validation Loss: 0.2821253646895925\n"
          ]
        },
        {
          "name": "stderr",
          "output_type": "stream",
          "text": [
            "Epoch 33/35: 100%|██████████| 195/195 [00:09<00:00, 21.63batch/s, loss=0.273]\n"
          ]
        },
        {
          "name": "stdout",
          "output_type": "stream",
          "text": [
            "Epoch 33/35, Training Loss: 0.2719327150460407\n",
            "Epoch 33/35, Validation Loss: 0.27531127300593056\n"
          ]
        },
        {
          "name": "stderr",
          "output_type": "stream",
          "text": [
            "Epoch 34/35: 100%|██████████| 195/195 [00:08<00:00, 22.02batch/s, loss=0.264]\n"
          ]
        },
        {
          "name": "stdout",
          "output_type": "stream",
          "text": [
            "Epoch 34/35, Training Loss: 0.263572230937182\n",
            "Epoch 34/35, Validation Loss: 0.2703179725561245\n"
          ]
        },
        {
          "name": "stderr",
          "output_type": "stream",
          "text": [
            "Epoch 35/35: 100%|██████████| 195/195 [00:08<00:00, 21.91batch/s, loss=0.256]\n"
          ]
        },
        {
          "name": "stdout",
          "output_type": "stream",
          "text": [
            "Epoch 35/35, Training Loss: 0.25560444477870725\n",
            "Epoch 35/35, Validation Loss: 0.26412791819036807\n"
          ]
        },
        {
          "data": {
            "image/png": "[encoded data removed]",
            "text/plain": [
              "<Figure size 640x480 with 1 Axes>"
            ]
          },
          "metadata": {},
          "output_type": "display_data"
        }
      ],
      "source": [
        "### START CODE HERE ###\n",
        "# Construct the model & Set the parameters.\n",
        "input_size = 6  # Number of input features (1 for single sine wave value)\n",
        "rnn_units = 256  # Number of units in the RNN layer  # 64\n",
        "dense_units = 128  # Number of units in the Dense layer  # 32\n",
        "output_size = 3  # Number of output classes\n",
        "\n",
        "model = Model()\n",
        "model.add(RNN(input_size, rnn_units))\n",
        "# model.add(RNN(rnn_units, rnn_units))\n",
        "model.add(Dense(rnn_units, rnn_units))\n",
        "model.add(Activation(\"relu\", None))\n",
        "model.add(Dense(rnn_units, dense_units))\n",
        "model.add(Activation(\"relu\", None))\n",
        "model.add(Dense(dense_units, 64))\n",
        "model.add(Activation(\"relu\", None))\n",
        "model.add(Dense(64, output_size))\n",
        "model.add(Activation(\"softmax\", None))\n",
        "\n",
        "# model = Model()\n",
        "# model.add(RNN(input_size, 16))\n",
        "# model.add(RNN(16, rnn_units))\n",
        "# model.add(Dense(rnn_units, rnn_units))\n",
        "# model.add(Activation(\"relu\", None))\n",
        "# model.add(Dense(rnn_units, dense_units))\n",
        "# model.add(Activation(\"relu\", None))\n",
        "# model.add(Dense(dense_units, 64))\n",
        "# model.add(Activation(\"relu\", None))\n",
        "# model.add(Dense(64, output_size))\n",
        "# model.add(Activation(\"softmax\", None))\n",
        "\n",
        "# Train the model\n",
        "model.train(X_train, y_train, X_val, y_val, epochs=35, learning_rate=0.02, batch_size = 32, loss_function='cce')  # 50, 0.008, 32\n",
        "\n",
        "### END CODE HERE ###\n",
        "# Plot the training and validation losses\n",
        "model.plot_losses()"
      ]
    },
    {
      "cell_type": "markdown",
      "metadata": {
        "id": "_43jkUMbJKsR"
      },
      "source": [
        "### 4. Predict the output and Save it\n",
        "Remember to submit `y_pred.csv` to Kaggle!"
      ]
    },
    {
      "cell_type": "code",
      "execution_count": 209,
      "metadata": {
        "id": "detzXpDb8mQn"
      },
      "outputs": [],
      "source": [
        "# Do not modify this part to get the correct output format!!\n",
        "y_pred = model.predict(X_test)\n",
        "y_pred_classes = np.argmax(y_pred, axis=1)\n",
        "# Save the predicted classes to a CSV file\n",
        "y_pred_df = pd.DataFrame({\n",
        "    'Id': np.arange(len(y_pred_classes)),\n",
        "    'Classes': y_pred_classes\n",
        "})\n",
        "\n",
        "# Save the DataFrame to a CSV file\n",
        "y_pred_df.to_csv('y_pred_advanced.csv', index=False)"
      ]
    }
  ],
  "metadata": {
    "colab": {
      "provenance": []
    },
    "kernelspec": {
      "display_name": "dl",
      "language": "python",
      "name": "python3"
    },
    "language_info": {
      "codemirror_mode": {
        "name": "ipython",
        "version": 3
      },
      "file_extension": ".py",
      "mimetype": "text/x-python",
      "name": "python",
      "nbconvert_exporter": "python",
      "pygments_lexer": "ipython3",
      "version": "3.9.20"
    }
  },
  "nbformat": 4,
  "nbformat_minor": 0
}
